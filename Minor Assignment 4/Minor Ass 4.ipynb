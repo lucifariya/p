{
 "cells": [
  {
   "cell_type": "code",
   "execution_count": 2,
   "metadata": {},
   "outputs": [
    {
     "name": "stdout",
     "output_type": "stream",
     "text": [
      "Random List: [29, 95, 20, 71, 18, 34, 22, 79, 61, 11]\n",
      "Sum: 440\n",
      "Average: 44.0\n"
     ]
    }
   ],
   "source": [
    "import random\n",
    "\n",
    "def generate_random_list(N):\n",
    "    random_list = [random.randint(1, 100) for _ in range(N)]\n",
    "    total = sum(random_list)\n",
    "    average = total / N\n",
    "    return random_list, total, average\n",
    "\n",
    "N = 10  # Example size\n",
    "random_list, total, average = generate_random_list(N)\n",
    "print(f\"Random List: {random_list}\")\n",
    "print(f\"Sum: {total}\")\n",
    "print(f\"Average: {average}\")\n"
   ]
  },
  {
   "cell_type": "code",
   "execution_count": 1,
   "metadata": {},
   "outputs": [
    {
     "name": "stdout",
     "output_type": "stream",
     "text": [
      "a: 22, b: 1984, c: Doug\n",
      "a: 1984, b: Doug, c: 22\n",
      "a: Doug, b: 22, c: 1984\n"
     ]
    }
   ],
   "source": [
    "def rotate(a, b, c):\n",
    "    return b, c, a\n",
    "\n",
    "# Initial variables\n",
    "a, b, c = 'Doug', 22, 1984\n",
    "\n",
    "# Call function three times and unpack the result\n",
    "for _ in range(3):\n",
    "    a, b, c = rotate(a, b, c)\n",
    "    print(f\"a: {a}, b: {b}, c: {c}\")\n"
   ]
  },
  {
   "cell_type": "code",
   "execution_count": 1,
   "metadata": {},
   "outputs": [
    {
     "name": "stdout",
     "output_type": "stream",
     "text": [
      "\n",
      "Menu:\n",
      "1. Create a list of N integers\n",
      "2. Display the list elements\n",
      "3. Insert an element at a specific position\n",
      "4. Delete an element at a specific position\n",
      "5. Exit\n",
      "\n",
      "Menu:\n",
      "1. Create a list of N integers\n",
      "2. Display the list elements\n",
      "3. Insert an element at a specific position\n",
      "4. Delete an element at a specific position\n",
      "5. Exit\n",
      "List elements: [1, 2, 3, 4, 5]\n",
      "\n",
      "Menu:\n",
      "1. Create a list of N integers\n",
      "2. Display the list elements\n",
      "3. Insert an element at a specific position\n",
      "4. Delete an element at a specific position\n",
      "5. Exit\n",
      "\n",
      "Menu:\n",
      "1. Create a list of N integers\n",
      "2. Display the list elements\n",
      "3. Insert an element at a specific position\n",
      "4. Delete an element at a specific position\n",
      "5. Exit\n",
      "List elements: [1, 2, 3, 7, 4, 5]\n",
      "\n",
      "Menu:\n",
      "1. Create a list of N integers\n",
      "2. Display the list elements\n",
      "3. Insert an element at a specific position\n",
      "4. Delete an element at a specific position\n",
      "5. Exit\n",
      "\n",
      "Menu:\n",
      "1. Create a list of N integers\n",
      "2. Display the list elements\n",
      "3. Insert an element at a specific position\n",
      "4. Delete an element at a specific position\n",
      "5. Exit\n",
      "List elements: [1, 2, 3, 7, 4]\n",
      "\n",
      "Menu:\n",
      "1. Create a list of N integers\n",
      "2. Display the list elements\n",
      "3. Insert an element at a specific position\n",
      "4. Delete an element at a specific position\n",
      "5. Exit\n"
     ]
    }
   ],
   "source": [
    "def create_list(N):\n",
    "    return [int(input(f\"Enter element {i+1}: \")) for i in range(N)]\n",
    "\n",
    "def display_list(lst):\n",
    "    print(\"List elements:\", lst)\n",
    "\n",
    "def insert_element(lst, pos, elem):\n",
    "    lst.insert(pos, elem)\n",
    "\n",
    "def delete_element(lst, pos):\n",
    "    lst.pop(pos)\n",
    "\n",
    "def menu():\n",
    "    lst = []\n",
    "    while True:\n",
    "        print(\"\\nMenu:\")\n",
    "        print(\"1. Create a list of N integers\")\n",
    "        print(\"2. Display the list elements\")\n",
    "        print(\"3. Insert an element at a specific position\")\n",
    "        print(\"4. Delete an element at a specific position\")\n",
    "        print(\"5. Exit\")\n",
    "\n",
    "        choice = int(input(\"Enter your choice: \"))\n",
    "        \n",
    "        if choice == 1:\n",
    "            N = int(input(\"Enter the size of the list: \"))\n",
    "            lst = create_list(N)\n",
    "        elif choice == 2:\n",
    "            display_list(lst)\n",
    "        elif choice == 3:\n",
    "            pos = int(input(\"Enter the position to insert: \"))\n",
    "            elem = int(input(\"Enter the element to insert: \"))\n",
    "            insert_element(lst, pos, elem)\n",
    "        elif choice == 4:\n",
    "            pos = int(input(\"Enter the position to delete: \"))\n",
    "            delete_element(lst, pos)\n",
    "        elif choice == 5:\n",
    "            break\n",
    "        else:\n",
    "            print(\"Invalid choice!\")\n",
    "\n",
    "menu()\n"
   ]
  },
  {
   "cell_type": "code",
   "execution_count": 2,
   "metadata": {},
   "outputs": [
    {
     "name": "stdout",
     "output_type": "stream",
     "text": [
      "[1, 2, 4, 5]\n"
     ]
    }
   ],
   "source": [
    "def remove_occurrences(lst, elem):\n",
    "    return [x for x in lst if x != elem]\n",
    "\n",
    "lst = [1, 2, 3, 4, 3, 5, 3]\n",
    "print(remove_occurrences(lst, 3))  # Removes all occurrences of 3\n"
   ]
  },
  {
   "cell_type": "code",
   "execution_count": null,
   "metadata": {},
   "outputs": [],
   "source": [
    "day, high_temperature = ('Monday', 87, 65)  # Error: Too many values to unpack\n",
    "day, high_temperature, low_temperature = ('Monday', 87, 65)  # Correct\n",
    "\n",
    "numbers = [1, 2, 3, 4, 5]\n",
    "numbers[10]  # IndexError: list index out of range\n",
    "\n",
    "name = 'amanda'\n",
    "name[0] = 'A'  # TypeError: 'str' object does not support item assignment\n",
    "\n",
    "numbers = [1, 2, 3, 4, 5]\n",
    "numbers[3.4]  # TypeError: list indices must be integers or slices, not float\n",
    "\n",
    "student_tuple = ('Amanda', 'Blue', [98, 75, 87])\n",
    "student_tuple[0] = 'Ariana'  # TypeError: 'tuple' object does not support item assignment\n",
    "\n",
    "('Monday', 87, 65) + 'Tuesday'  # TypeError: can only concatenate tuple (not \"str\") to tuple\n",
    "\n",
    "'A' += ('B', 'C')  # TypeError: 'str' object does not support item assignment\n",
    "\n",
    "x = 7\n",
    "del x\n",
    "print(x)  # NameError: name 'x' is not defined\n",
    "\n",
    "numbers = [1, 2, 3, 4, 5]\n",
    "numbers.index(10)  # ValueError: 10 is not in list\n",
    "\n",
    "numbers = [1, 2, 3, 4, 5]\n",
    "numbers.extend(6, 7, 8)  # TypeError: extend() takes exactly one argument\n",
    "\n",
    "numbers = [1, 2, 3, 4, 5]\n",
    "numbers.remove(10)  # ValueError: list.remove(x): x not in list\n",
    "\n",
    "values = []\n",
    "values.pop()  # IndexError: pop from empty list"
   ]
  },
  {
   "cell_type": "code",
   "execution_count": null,
   "metadata": {},
   "outputs": [],
   "source": [
    "def search_number():\n",
    "    lst = [int(input(f\"Enter integer {i+1}: \")) for i in range(10)]\n",
    "    search = int(input(\"Enter the number to search: \"))\n",
    "    \n",
    "    count = lst.count(search)\n",
    "    if count > 0:\n",
    "        print(f\"The number {search} appears {count} times.\")\n",
    "    else:\n",
    "        print(f\"The number {search} is not present in the list.\")\n",
    "\n",
    "search_number()\n"
   ]
  },
  {
   "cell_type": "code",
   "execution_count": 4,
   "metadata": {},
   "outputs": [
    {
     "name": "stdout",
     "output_type": "stream",
     "text": [
      "Cumulative List: [1, 3, 6]\n"
     ]
    }
   ],
   "source": [
    "def cumulative_list(lst):\n",
    "    cumulative_lst = []\n",
    "    total = 0\n",
    "    for num in lst:\n",
    "        total += num\n",
    "        cumulative_lst.append(total)\n",
    "    return cumulative_lst\n",
    "\n",
    "# Input and function call\n",
    "lst = [int(input(f\"Enter number {i+1}: \")) for i in range(int(input(\"Enter number of elements: \")))]\n",
    "print(\"Cumulative List:\", cumulative_list(lst))\n"
   ]
  },
  {
   "cell_type": "code",
   "execution_count": 5,
   "metadata": {},
   "outputs": [
    {
     "name": "stdout",
     "output_type": "stream",
     "text": [
      "[[1, 2, 3, 4, 5], [2, 4, 6, 8, 10], [3, 6, 9, 12, 15], [4, 8, 12, 16, 20]]\n"
     ]
    }
   ],
   "source": [
    "def create_multiples_list(n):\n",
    "    return [[i * j for j in range(1, 6)] for i in range(1, n + 1)]\n",
    "\n",
    "n = 4  # Example input\n",
    "result = create_multiples_list(n)\n",
    "print(result)\n"
   ]
  },
  {
   "cell_type": "code",
   "execution_count": null,
   "metadata": {},
   "outputs": [],
   "source": [
    "'''\n",
    "Let's analyze each statement one by one.\n",
    "\n",
    "list1[3] = 4\n",
    "\n",
    "Error: This will throw an IndexError because list1 has only three elements, and the index 3 does not exist.\n",
    "Fix: list1[2] = 4 would work.\n",
    "print(list1 * 2)\n",
    "\n",
    "Output: This will print [1, 2, 3, 1, 2, 3] because multiplying a list by 2 duplicates it.\n",
    "print(min(list2))\n",
    "\n",
    "Output: The min function finds the smallest element. In this case, it will return '1' because '1' is the smallest string in the list (based on lexicographical comparison).\n",
    "print(max(list1))\n",
    "\n",
    "Output: The max function finds the largest element in the list. It will return 3 since it is the largest number in list1.\n",
    "print(list(address))\n",
    "\n",
    "Output: This will output a list of characters in the string address. Result: ['B', '-', '6', ',', ' ', 'L', 'o', 'd', 'h', 'i', ' ', 'r', 'o', 'a', 'd', ',', ' ', 'D', 'e', 'l', 'h', 'i']\n",
    "list2.extend([’e’, 5])\n",
    "\n",
    "Output: This extends list2 by adding the elements ['e', 5]. Result: ['a', 1, 'z', 26, 'd', 4, 'e', 5]\n",
    "list2.append([’e’, 5])\n",
    "\n",
    "Output: This appends the list ['e', 5] as a single element. Result: ['a', 1, 'z', 26, 'd', 4, 'e', 5, ['e', 5]]\n",
    "names = ['rohan', 'mohan', 'gita']\n",
    "\n",
    "Output: The sort method will sort the names by the length of each string. Result: ['gita', 'rohan', 'mohan']\n",
    "list3 = [(x * 2) for x in range(1, 11)]\n",
    "\n",
    "Output: This will create a list of the first 10 even numbers. Result: [2, 4, 6, 8, 10, 12, 14, 16, 18, 20]\n",
    "del list3[1:]\n",
    "\n",
    "Output: This deletes all elements in list3 starting from index 1. Result: [2]\n",
    "list4 = [x + y for x in range(1, 5) for y in range(1, 5)]\n",
    "\n",
    "Output: This creates a list of all sums of pairs (x, y) where both x and y are in the range 1 to 4. Result: [2, 3, 4, 5, 3, 4, 5, 6, 4, 5, 6, 7, 5, 6, 7, 8]\n",
    "tuple2[3] = 6\n",
    "\n",
    "Error: This will throw a TypeError because tuples are immutable in Python.\n",
    "tuple2.append(5)\n",
    "\n",
    "Error: This will throw an AttributeError because tuples do not have an append method.\n",
    "t1 = tuple2 + (5)\n",
    "\n",
    "Error: This will throw a TypeError because (5) is an integer, not a tuple. It should be (5,) (a tuple with one element).\n",
    "’,’.join(tuple1)\n",
    "\n",
    "Output: This will join the elements of the tuple tuple1 with a comma. Result: 'a,e,i,o,u'\n",
    "list(zip(['apple', 'orange'], ('red', 'orange')))\n",
    "\n",
    "Output: The zip function pairs elements from two iterables. Result: [('apple', 'red'), ('orange', 'orange')]\n",
    "'''"
   ]
  },
  {
   "cell_type": "code",
   "execution_count": 6,
   "metadata": {},
   "outputs": [
    {
     "name": "stdout",
     "output_type": "stream",
     "text": [
      "21\n"
     ]
    }
   ],
   "source": [
    "def sum_numeric_elements(tuple_of_tuples):\n",
    "    total_sum = 0\n",
    "    for inner_tuple in tuple_of_tuples:\n",
    "        for element in inner_tuple:\n",
    "            if isinstance(element, (int, float)):\n",
    "                total_sum += element\n",
    "    return total_sum\n",
    "\n",
    "tuple_of_tuples = ((1, 2, 3), (4, 5), (6, 'a'))\n",
    "print(sum_numeric_elements(tuple_of_tuples))  # Output: 21\n"
   ]
  },
  {
   "cell_type": "code",
   "execution_count": 9,
   "metadata": {},
   "outputs": [
    {
     "name": "stdout",
     "output_type": "stream",
     "text": [
      "1.5\t2\t3\t4\n",
      "5.5\t6\t7\t8\n",
      "9.5\t1\t3\t1\n"
     ]
    }
   ],
   "source": [
    "def print_matrix(matrix):\n",
    "    for row in matrix:\n",
    "        print(\"\\t\".join(map(str, row)))\n",
    "\n",
    "matrix = [[1.5, 2, 3, 4], [5.5, 6, 7, 8], [9.5, 1, 3, 1]]\n",
    "print_matrix(matrix)\n"
   ]
  },
  {
   "cell_type": "code",
   "execution_count": 10,
   "metadata": {},
   "outputs": [
    {
     "name": "stdout",
     "output_type": "stream",
     "text": [
      "Sum of each column: [16.5, 9.0, 13.0, 13.0]\n"
     ]
    }
   ],
   "source": [
    "def sum_columns(matrix):\n",
    "    columns_sum = [sum(col) for col in zip(*matrix)]\n",
    "    return columns_sum\n",
    "\n",
    "# Reading the matrix\n",
    "matrix = []\n",
    "for _ in range(3):\n",
    "    row = list(map(float, input(\"Enter row: \").split()))\n",
    "    matrix.append(row)\n",
    "\n",
    "print(\"Sum of each column:\", sum_columns(matrix))\n"
   ]
  },
  {
   "cell_type": "code",
   "execution_count": 11,
   "metadata": {},
   "outputs": [
    {
     "name": "stdout",
     "output_type": "stream",
     "text": [
      "[(4, 1), (2, 2), (1, 3)]\n"
     ]
    }
   ],
   "source": [
    "def sort_by_second_element(lst):\n",
    "    return sorted(lst, key=lambda x: x[1])\n",
    "\n",
    "# Example input\n",
    "lst = [(1, 3), (4, 1), (2, 2)]\n",
    "sorted_lst = sort_by_second_element(lst)\n",
    "print(sorted_lst)\n"
   ]
  },
  {
   "cell_type": "code",
   "execution_count": null,
   "metadata": {},
   "outputs": [],
   "source": [
    "squares_tuple = tuple(x ** 2 for x in range(1, 11))\n",
    "print(squares_tuple)\n"
   ]
  },
  {
   "cell_type": "code",
   "execution_count": 12,
   "metadata": {},
   "outputs": [
    {
     "name": "stdout",
     "output_type": "stream",
     "text": [
      "1001\n",
      "0011\n",
      "0001\n",
      "1011\n",
      "The largest row index: 3\n",
      "The largest column index: 3\n"
     ]
    }
   ],
   "source": [
    "import random\n",
    "\n",
    "# Create a 4x4 matrix with random 0s and 1s\n",
    "matrix = [[random.choice([0, 1]) for _ in range(4)] for _ in range(4)]\n",
    "\n",
    "# Print the matrix\n",
    "for row in matrix:\n",
    "    print(\"\".join(map(str, row)))\n",
    "\n",
    "# Find the row with the most 1s\n",
    "max_ones_row = max(matrix, key=lambda row: row.count(1))\n",
    "largest_row_index = matrix.index(max_ones_row)\n",
    "\n",
    "# Find the column with the most 1s\n",
    "column_ones_count = [sum(matrix[row][col] for row in range(4)) for col in range(4)]\n",
    "largest_column_index = column_ones_count.index(max(column_ones_count))\n",
    "\n",
    "print(f\"The largest row index: {largest_row_index}\")\n",
    "print(f\"The largest column index: {largest_column_index}\")\n"
   ]
  },
  {
   "cell_type": "code",
   "execution_count": null,
   "metadata": {},
   "outputs": [],
   "source": [
    "def check_sorted(lst):\n",
    "    if lst == sorted(lst):\n",
    "        return \"The list is already sorted\"\n",
    "    else:\n",
    "        return \"The list is not sorted\"\n",
    "\n",
    "# Input prompt\n",
    "input_list = list(map(int, input(\"Enter list: \").split()))\n",
    "print(check_sorted(input_list))\n"
   ]
  },
  {
   "cell_type": "code",
   "execution_count": null,
   "metadata": {},
   "outputs": [],
   "source": [
    "import math\n",
    "\n",
    "def calculate_mean_and_deviation(numbers):\n",
    "    mean = sum(numbers) / len(numbers)\n",
    "    variance = sum((x - mean) ** 2 for x in numbers) / (len(numbers) - 1)\n",
    "    std_deviation = math.sqrt(variance)\n",
    "    return mean, std_deviation\n",
    "\n",
    "numbers = list(map(float, input(\"Enter ten numbers: \").split()))\n",
    "mean, std_deviation = calculate_mean_and_deviation(numbers)\n",
    "print(f\"The mean is {mean:.2f}\")\n",
    "print(f\"The standard deviation is {std_deviation:.5f}\")\n"
   ]
  },
  {
   "cell_type": "code",
   "execution_count": null,
   "metadata": {},
   "outputs": [],
   "source": [
    "original_list = [1, 2, 3, 4, 5]\n",
    "squared_list = [x ** 2 for x in original_list]\n",
    "print(squared_list)\n"
   ]
  },
  {
   "cell_type": "code",
   "execution_count": 13,
   "metadata": {},
   "outputs": [
    {
     "name": "stdout",
     "output_type": "stream",
     "text": [
      "Original List: [['Shallow', 2, 3], [4, 5, 6]]\n",
      "Shallow Copy: [['Shallow', 2, 3], [4, 5, 6]]\n",
      "Deep Copy: [[1, 2, 3], [4, 5, 6]]\n"
     ]
    }
   ],
   "source": [
    "import copy\n",
    "\n",
    "# Original list\n",
    "original_list = [['Shallow', 2, 3], [4, 5, 6]]\n",
    "\n",
    "# Shallow copy\n",
    "shallow_copy = copy.copy(original_list)\n",
    "\n",
    "# Deep copy\n",
    "deep_copy = copy.deepcopy(original_list)\n",
    "deep_copy[0][0] = 1  # Modify the deep copy\n",
    "\n",
    "print(\"Original List:\", original_list)\n",
    "print(\"Shallow Copy:\", shallow_copy)\n",
    "print(\"Deep Copy:\", deep_copy)\n"
   ]
  },
  {
   "cell_type": "code",
   "execution_count": 14,
   "metadata": {},
   "outputs": [
    {
     "name": "stdout",
     "output_type": "stream",
     "text": [
      "Rating frequencies: {1: 3, 2: 4, 3: 8, 4: 2, 5: 3}\n",
      "Minimum: 1\n",
      "Maximum: 5\n",
      "Range: 4\n",
      "Mean: 2.9\n",
      "Median: 3.0\n",
      "Mode: 3\n",
      "Variance: 1.568421052631579\n",
      "Standard Deviation: 1.2523661815266247\n"
     ]
    }
   ],
   "source": [
    "import statistics\n",
    "\n",
    "ratings = [1, 2, 5, 4, 3, 5, 2, 1, 3, 3, 1, 4, 3, 3, 3, 2, 3, 3, 2, 5]\n",
    "\n",
    "# Frequency of each rating\n",
    "rating_freq = {rating: ratings.count(rating) for rating in set(ratings)}\n",
    "\n",
    "# Statistics\n",
    "minimum = min(ratings)\n",
    "maximum = max(ratings)\n",
    "range_rating = maximum - minimum\n",
    "mean = statistics.mean(ratings)\n",
    "median = statistics.median(ratings)\n",
    "mode = statistics.mode(ratings)\n",
    "variance = statistics.variance(ratings)\n",
    "std_deviation = statistics.stdev(ratings)\n",
    "\n",
    "print(f\"Rating frequencies: {rating_freq}\")\n",
    "print(f\"Minimum: {minimum}\")\n",
    "print(f\"Maximum: {maximum}\")\n",
    "print(f\"Range: {range_rating}\")\n",
    "print(f\"Mean: {mean}\")\n",
    "print(f\"Median: {median}\")\n",
    "print(f\"Mode: {mode}\")\n",
    "print(f\"Variance: {variance}\")\n",
    "print(f\"Standard Deviation: {std_deviation}\")\n"
   ]
  },
  {
   "cell_type": "code",
   "execution_count": null,
   "metadata": {},
   "outputs": [],
   "source": [
    "numbers = [10, 3, 7, 1, 9, 4, 2, 8, 5, 6]\n",
    "list(map(lambda x: x ** 2, filter(lambda x: x % 2 != 0, numbers)))"
   ]
  },
  {
   "cell_type": "code",
   "execution_count": null,
   "metadata": {},
   "outputs": [],
   "source": [
    "numbers = [10, 3, 7, 1, 9, 4, 2, 8, 5, 6]\n",
    "list(filter(lambda x: x % 2 == 0, map(lambda x: x * 2, numbers)))"
   ]
  },
  {
   "cell_type": "code",
   "execution_count": 15,
   "metadata": {},
   "outputs": [
    {
     "data": {
      "image/png": "[encoded data removed]",
      "text/plain": [
       "<Figure size 640x480 with 1 Axes>"
      ]
     },
     "metadata": {},
     "output_type": "display_data"
    }
   ],
   "source": [
    "import matplotlib.pyplot as plt\n",
    "\n",
    "# Given list of responses\n",
    "responses = [1, 2, 5, 4, 3, 5, 2, 1, 3, 3, 1, 4, 3, 3, 3, 2, 3, 3, 2, 5]\n",
    "\n",
    "# Count the frequencies of each number\n",
    "frequency = {x: responses.count(x) for x in set(responses)}\n",
    "\n",
    "# Calculate the percentages\n",
    "total_responses = len(responses)\n",
    "percentages = {key: (value / total_responses) * 100 for key, value in frequency.items()}\n",
    "\n",
    "# Plot the bar chart\n",
    "labels = list(frequency.keys())\n",
    "counts = list(frequency.values())\n",
    "plt.bar(labels, counts)\n",
    "\n",
    "# Adding labels and title\n",
    "plt.xlabel('Ratings')\n",
    "plt.ylabel('Frequency')\n",
    "plt.title('Response Frequencies and Percentages')\n",
    "\n",
    "# Display percentages on top of each bar\n",
    "for i, v in enumerate(counts):\n",
    "    plt.text(labels[i], v + 0.1, f'{percentages[labels[i]]:.2f}%', ha='center')\n",
    "\n",
    "plt.show()"
   ]
  },
  {
   "cell_type": "code",
   "execution_count": 16,
   "metadata": {},
   "outputs": [
    {
     "name": "stdout",
     "output_type": "stream",
     "text": [
      "[('cherry', 3, 4)]\n"
     ]
    }
   ],
   "source": [
    "def remove_tuples_by_length(tuples_list, length):\n",
    "    return [tup for tup in tuples_list if len(tup) != length]\n",
    "\n",
    "# Example usage\n",
    "tuples_list = [(\"apple\", 1), (\"banana\", 2), (\"cherry\", 3, 4)]\n",
    "length_to_remove = 2\n",
    "filtered_list = remove_tuples_by_length(tuples_list, length_to_remove)\n",
    "print(filtered_list)\n"
   ]
  }
 ],
 "metadata": {
  "language_info": {
   "name": "python"
  }
 },
 "nbformat": 4,
 "nbformat_minor": 2
}
