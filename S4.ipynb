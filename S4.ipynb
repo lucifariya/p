{
 "cells": [
  {
   "cell_type": "markdown",
   "id": "428886d0",
   "metadata": {},
   "source": [
    "# Q1"
   ]
  },
  {
   "cell_type": "code",
   "execution_count": 5,
   "metadata": {},
   "outputs": [],
   "source": [
    "DataList = [45, 28, -11, 0, 28, 10, -4, 45, 3, 19, -8, 7, 10, 3, 0, 28, 12, -6, -11, 10, 3]"
   ]
  },
  {
   "cell_type": "code",
   "execution_count": 2,
   "metadata": {},
   "outputs": [
    {
     "data": {
      "text/plain": [
       "[-4, 45, 19, -8, 7, 0, 28, 12, -6, -11, 10, 3]"
      ]
     },
     "execution_count": 2,
     "metadata": {},
     "output_type": "execute_result"
    }
   ],
   "source": [
    "i = 0\n",
    "while i < len(DataList):\n",
    "    while DataList.count(DataList[i]) > 1:\n",
    "        DataList.remove(DataList[i])\n",
    "    i += 1\n",
    "DataList"
   ]
  },
  {
   "cell_type": "code",
   "execution_count": 6,
   "metadata": {},
   "outputs": [
    {
     "data": {
      "text/plain": [
       "(-4, 45)"
      ]
     },
     "execution_count": 6,
     "metadata": {},
     "output_type": "execute_result"
    }
   ],
   "source": [
    "sorted_list = sorted(DataList)\n",
    "fifth_smallest = sorted_list[4]\n",
    "second_largest = sorted_list[-2]\n",
    "fifth_smallest, second_largest"
   ]
  },
  {
   "cell_type": "code",
   "execution_count": 8,
   "metadata": {},
   "outputs": [
    {
     "data": {
      "text/plain": [
       "[-4,\n",
       " 45,\n",
       " 3,\n",
       " 19,\n",
       " -8,\n",
       " 7,\n",
       " 10,\n",
       " 3,\n",
       " 0,\n",
       " 28,\n",
       " 12,\n",
       " -6,\n",
       " -11,\n",
       " 10,\n",
       " 3,\n",
       " 45,\n",
       " 28,\n",
       " -11,\n",
       " 0,\n",
       " 28,\n",
       " 10]"
      ]
     },
     "execution_count": 8,
     "metadata": {},
     "output_type": "execute_result"
    }
   ],
   "source": [
    "for _ in range(3):\n",
    "    DataList.append(DataList.pop(0))\n",
    "    \n",
    "DataList"
   ]
  },
  {
   "cell_type": "code",
   "execution_count": 9,
   "metadata": {},
   "outputs": [
    {
     "data": {
      "text/plain": [
       "([-4, -8, 10, 0, 28, 12, -6, 10, 28, 0, 28, 10],\n",
       " [45, 3, 19, 7, 3, -11, 3, 45, -11])"
      ]
     },
     "execution_count": 9,
     "metadata": {},
     "output_type": "execute_result"
    }
   ],
   "source": [
    "EvenList = [x for x in DataList if x % 2 == 0]\n",
    "OddList = [x for x in DataList if x % 2 != 0]\n",
    "EvenList, OddList"
   ]
  },
  {
   "cell_type": "markdown",
   "id": "654aece4",
   "metadata": {},
   "source": [
    "# Q2"
   ]
  },
  {
   "cell_type": "code",
   "execution_count": null,
   "id": "7fb314e6",
   "metadata": {},
   "outputs": [],
   "source": [
    "Product_IDs = [1001, 1002, 1003, 1004, 1005, 1006]\n",
    "Prices = [250, 450, 300, 800, 150, 600]"
   ]
  },
  {
   "cell_type": "code",
   "execution_count": null,
   "id": "b4269851",
   "metadata": {},
   "outputs": [],
   "source": [
    "ProductPriceDict = dict(zip(Product_IDs, Prices))\n",
    "print(ProductPriceDict)"
   ]
  },
  {
   "cell_type": "code",
   "execution_count": null,
   "id": "dce6ea6d",
   "metadata": {},
   "outputs": [],
   "source": [
    "def find_most_expensive_price(prices):\n",
    "    max_price = prices[0]\n",
    "    for price in prices:\n",
    "        if price > max_price:\n",
    "            max_price = price\n",
    "    return max_price\n",
    "\n",
    "print(find_most_expensive_price(Prices))"
   ]
  },
  {
   "cell_type": "code",
   "execution_count": null,
   "id": "e4474d04",
   "metadata": {},
   "outputs": [],
   "source": [
    "def get_price_by_id(product_id):\n",
    "    if product_id in ProductPriceDict:\n",
    "        return ProductPriceDict[product_id]\n",
    "    return f\"Product ID {product_id} is invalid\"\n",
    "\n",
    "print(get_price_by_id(1002))\n",
    "print(get_price_by_id(1010))"
   ]
  }
 ],
 "metadata": {
  "kernelspec": {
   "display_name": "Python 3",
   "language": "python",
   "name": "python3"
  },
  "language_info": {
   "name": "python",
   "version": "3.x"
  }
 },
 "nbformat": 4,
 "nbformat_minor": 5
}
