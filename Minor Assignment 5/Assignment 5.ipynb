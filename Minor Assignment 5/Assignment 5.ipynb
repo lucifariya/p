{
 "cells": [
  {
   "cell_type": "code",
   "execution_count": 4,
   "id": "72c05542",
   "metadata": {},
   "outputs": [
    {
     "name": "stdout",
     "output_type": "stream",
     "text": [
      "Enter no. of students: 3\n",
      "Enter student name: Aayush\n",
      "Enter Marks: 90\n",
      "Enter student name: Adarsh\n",
      "Enter Marks: 90\n",
      "Enter student name: Soumi\n",
      "Enter Marks: 90\n",
      "Whoose mark ya need?: Aayush\n",
      "Aayush's mark is 90.'\n"
     ]
    }
   ],
   "source": [
    "#1\n",
    "students = {}\n",
    "n = int(input(\"Enter no. of students: \"))\n",
    "for _ in range(n):\n",
    "    name = input(\"Enter student name: \")\n",
    "    mark = int(input(\"Enter Marks: \"))\n",
    "    students[name] = mark\n",
    "name = input(\"Whoose mark ya need?: \")\n",
    "print(f\"{name}'s mark is {students[name]}.'\")"
   ]
  },
  {
   "cell_type": "code",
   "execution_count": 6,
   "id": "30630d8f",
   "metadata": {},
   "outputs": [
    {
     "name": "stdout",
     "output_type": "stream",
     "text": [
      "Enter no. of students: 3\n",
      "Enter student name: A\n",
      "Enter Percentage Marks: 90\n",
      "Enter student name: B\n",
      "Enter Percentage Marks: 91\n",
      "Enter student name: C\n",
      "Enter Percentage Marks: 92\n",
      "A's mark is 90%\n",
      "B's mark is 91%\n",
      "C's mark is 92%\n"
     ]
    }
   ],
   "source": [
    "#2\n",
    "student = {}\n",
    "n = int(input(\"Enter no. of students: \"))\n",
    "for _ in range(n):\n",
    "    name = input(\"Enter student name: \")\n",
    "    mark = int(input(\"Enter Percentage Marks: \"))\n",
    "    student[name] = mark\n",
    "\n",
    "for k,v in student.items():\n",
    "    print(f\"{k}'s mark is {v}%\", end=\"\\n\")"
   ]
  },
  {
   "cell_type": "code",
   "execution_count": 8,
   "id": "ae71a4a9",
   "metadata": {},
   "outputs": [
    {
     "name": "stdout",
     "output_type": "stream",
     "text": [
      "Enter a dictionary(key-value pairs): {'a':10, 'b':20, 'c':30, 'd':40, 'e':50}\n",
      "Sum of values = 150\n"
     ]
    }
   ],
   "source": [
    "#3\n",
    "record = eval(input(\"Enter a dictionary(key-value pairs): \"))\n",
    "print(f\"Sum of values = {sum(record.values())}\")"
   ]
  },
  {
   "cell_type": "code",
   "execution_count": 10,
   "id": "2adfb77a",
   "metadata": {},
   "outputs": [
    {
     "name": "stdout",
     "output_type": "stream",
     "text": [
      "{'dog': 'chien', 'cat': 'chat', 'walrus': 'morse'}\n"
     ]
    }
   ],
   "source": [
    "#4\n",
    "e2f = {'dog':'chien', 'cat':'chat', 'walrus':'morse'}\n",
    "print(e2f)"
   ]
  },
  {
   "cell_type": "code",
   "execution_count": 11,
   "id": "7ba1ba9a",
   "metadata": {},
   "outputs": [
    {
     "name": "stdout",
     "output_type": "stream",
     "text": [
      "True\n",
      "False\n",
      "Canada: ca\n",
      "United States: us\n",
      "Mexico: mx\n",
      "{'ca': 'Canada', 'us': 'United States', 'mx': 'Mexico', 'se': 'Sweden'}\n"
     ]
    }
   ],
   "source": [
    "#5\n",
    "tlds = {'Canada':'ca', 'United States':'us', 'Mexico':'mx'}\n",
    "print('Canada' in tlds)\n",
    "print('France' in tlds)\n",
    "for country, tld in tlds.items():\n",
    "    print(f\"{country}: {tld}\")\n",
    "tlds['Sweden'] = 'sw'\n",
    "tlds['Sweden'] = 'se'\n",
    "tlds = {v: k for k, v in tlds.items()}\n",
    "print(tlds)"
   ]
  },
  {
   "cell_type": "code",
   "execution_count": 13,
   "id": "12a60b63",
   "metadata": {},
   "outputs": [
    {
     "name": "stdout",
     "output_type": "stream",
     "text": [
      "['I', 'II', 'III', 'V']\n",
      "[1, 2, 3, 5]\n",
      "[('I', 1), ('II', 2), ('III', 3), ('V', 5)]\n"
     ]
    }
   ],
   "source": [
    "#6\n",
    "roman_numerals = {'I':1, 'II':2, 'III':3, 'V':5}\n",
    "print(list(roman_numerals.keys()))\n",
    "print(list(roman_numerals.values()))\n",
    "print(list(roman_numerals.items()))"
   ]
  },
  {
   "cell_type": "code",
   "execution_count": 15,
   "id": "a4366172",
   "metadata": {},
   "outputs": [
    {
     "name": "stdout",
     "output_type": "stream",
     "text": [
      "{1: 1, 2: 8, 3: 27, 4: 64, 5: 125}\n"
     ]
    }
   ],
   "source": [
    "#7\n",
    "cubes = {x:x**3 for x in range(1, 6)}\n",
    "print(cubes)"
   ]
  },
  {
   "cell_type": "code",
   "execution_count": 18,
   "id": "dc367758",
   "metadata": {},
   "outputs": [
    {
     "name": "stdout",
     "output_type": "stream",
     "text": [
      "{'animals': {'cats': ['Henri', 'Grumpy', 'Lucy'], 'octupi': [], 'emus': []}, 'plants': {}, 'other': {}}\n"
     ]
    }
   ],
   "source": [
    "#8\n",
    "life = {'animals': {'cats': ['Henri', 'Grumpy', 'Lucy'], 'octupi': [], 'emus': []}, 'plants': {}, 'other': {}}\n",
    "print(life)"
   ]
  },
  {
   "cell_type": "code",
   "execution_count": 19,
   "id": "f4264bd8",
   "metadata": {},
   "outputs": [
    {
     "name": "stdout",
     "output_type": "stream",
     "text": [
      "Enter a string: mississippi\n",
      "{'i': 4, 's': 4, 'm': 1, 'p': 2}\n"
     ]
    }
   ],
   "source": [
    "#9\n",
    "s = input(\"Enter a string: \")\n",
    "occur = {char: s.count(char) for char in set(s)}\n",
    "print(occur)"
   ]
  },
  {
   "cell_type": "code",
   "execution_count": 21,
   "id": "e914bbf1",
   "metadata": {},
   "outputs": [
    {
     "name": "stdout",
     "output_type": "stream",
     "text": [
      "ENter a string: aaeeiioouuaaeeiioueairopocbnhjdfs\n",
      "{'a': 5, 'e': 5, 'i': 5, 'o': 5, 'u': 3}\n"
     ]
    }
   ],
   "source": [
    "#10\n",
    "s = input(\"ENter a string: \")\n",
    "vowel = 'aeiou'\n",
    "vcount = {char: s.count(char) for char in vowel if char in s}\n",
    "print(vcount)"
   ]
  },
  {
   "cell_type": "code",
   "execution_count": 22,
   "id": "86823c02",
   "metadata": {},
   "outputs": [
    {
     "name": "stdout",
     "output_type": "stream",
     "text": [
      "Four Five Two\n"
     ]
    }
   ],
   "source": [
    "#11\n",
    "def num_to_words(num):\n",
    "    digits_map = {'0': 'Zero', '1': 'One', '2': 'Two', '3': 'Three', '4': 'Four',\n",
    "                  '5': 'Five', '6': 'Six', '7': 'Seven', '8': 'Eight', '9': 'Nine'}\n",
    "    return ' '.join(digits_map[digit] for digit in str(num))\n",
    "print(num_to_words(452))"
   ]
  },
  {
   "cell_type": "markdown",
   "id": "022ad140",
   "metadata": {},
   "source": [
    "#"
   ]
  },
  {
   "cell_type": "code",
   "execution_count": 1,
   "id": "4395ada8",
   "metadata": {},
   "outputs": [
    {
     "name": "stdout",
     "output_type": "stream",
     "text": [
      "Enter a sentence: my name is my bruh is wah\n",
      "{'is': 2, 'my': 2}\n"
     ]
    }
   ],
   "source": [
    "#12\n",
    "sentence = input(\"Enter a sentence: \").lower().split()\n",
    "word_count = {word: sentence.count(word) for word in set(sentence)}\n",
    "duplicates = {word: count for word, count in word_count.items() if count > 1}\n",
    "print(duplicates)"
   ]
  },
  {
   "cell_type": "code",
   "execution_count": 2,
   "id": "a536dc28",
   "metadata": {},
   "outputs": [
    {
     "name": "stdout",
     "output_type": "stream",
     "text": [
      "['a', 'is', 'sentence', 'test', 'this']\n"
     ]
    }
   ],
   "source": [
    "#13\n",
    "def unique_words(sentence):\n",
    "    words = sentence.lower().split()\n",
    "    unique = sorted(set(words))\n",
    "    return unique\n",
    "\n",
    "print(unique_words(\"This is a test sentence this is\"))"
   ]
  },
  {
   "cell_type": "code",
   "execution_count": null,
   "id": "32bb87f7",
   "metadata": {},
   "outputs": [],
   "source": []
  }
 ],
 "metadata": {
  "kernelspec": {
   "display_name": "Python 3 (ipykernel)",
   "language": "python",
   "name": "python3"
  },
  "language_info": {
   "codemirror_mode": {
    "name": "ipython",
    "version": 3
   },
   "file_extension": ".py",
   "mimetype": "text/x-python",
   "name": "python",
   "nbconvert_exporter": "python",
   "pygments_lexer": "ipython3",
   "version": "3.11.4"
  }
 },
 "nbformat": 4,
 "nbformat_minor": 5
}
