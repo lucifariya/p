{
 "cells": [
  {
   "cell_type": "markdown",
   "id": "09a917a7",
   "metadata": {},
   "source": [
    "# Rewritten Code for Assignment 5: Dictionaries and Sets"
   ]
  },
  {
   "cell_type": "code",
   "execution_count": null,
   "id": "cc1a807c",
   "metadata": {},
   "outputs": [],
   "source": [
    "\n",
    "# 1. Create dictionary with student names and marks, display marks by name.\n",
    "def student_marks():\n",
    "    students = {}\n",
    "    for _ in range(int(input(\"Number of students: \"))):\n",
    "        name, marks = input(\"Student name: \"), int(input(\"Marks: \"))\n",
    "        students[name] = marks\n",
    "    print(\"Marks:\", students.get(input(\"Search student name: \"), \"Not found\"))\n",
    "student_marks()\n",
    "    "
   ]
  },
  {
   "cell_type": "code",
   "execution_count": null,
   "id": "cdeec5d0",
   "metadata": {},
   "outputs": [],
   "source": [
    "\n",
    "# 2. Create and display names and percentages in a dictionary.\n",
    "def name_percentage():\n",
    "    data = {input(\"Name: \"): float(input(\"Percentage: \")) for _ in range(int(input(\"Number of entries: \")))}\n",
    "    print(\"\\n\".join(f\"{name}: {percent}%\" for name, percent in data.items()))\n",
    "name_percentage()\n",
    "    "
   ]
  },
  {
   "cell_type": "code",
   "execution_count": null,
   "id": "6b5975b7",
   "metadata": {},
   "outputs": [],
   "source": [
    "\n",
    "# 3. Sum values in a user-input dictionary.\n",
    "def sum_values():\n",
    "    print(\"Sum:\", sum({input(\"Key: \"): int(input(\"Value: \")) for _ in range(int(input(\"Entries: \")))}.values()))\n",
    "sum_values()\n",
    "    "
   ]
  },
  {
   "cell_type": "code",
   "execution_count": null,
   "id": "d1244939",
   "metadata": {},
   "outputs": [],
   "source": [
    "\n",
    "# 4. Create and print English-to-French dictionary.\n",
    "def english_to_french():\n",
    "    print({'dog': 'chien', 'cat': 'chat', 'walrus': 'morse'})\n",
    "english_to_french()\n",
    "    "
   ]
  },
  {
   "cell_type": "code",
   "execution_count": null,
   "id": "d8bfac4c",
   "metadata": {},
   "outputs": [],
   "source": [
    "\n",
    "# 5. Tasks on dictionary mapping country names to TLDs.\n",
    "def country_tlds():\n",
    "    tlds = {'Canada': 'ca', 'United States': 'us', 'Mexico': 'mx'}\n",
    "    print(\"Contains 'Canada':\", 'Canada' in tlds, \"\\nContains 'France':\", 'France' in tlds)\n",
    "    print(\"\\n\".join(f\"{k}: {v}\" for k, v in tlds.items()))\n",
    "    tlds['Sweden'], tlds['Sweden'] = 'sw', 'se'\n",
    "    print(\"Updated TLDs:\", tlds, \"\\nReversed:\", {v: k for k, v in tlds.items()})\n",
    "country_tlds()\n",
    "    "
   ]
  },
  {
   "cell_type": "code",
   "execution_count": null,
   "id": "b2598f35",
   "metadata": {},
   "outputs": [],
   "source": [
    "\n",
    "# 6. Extract keys, values, and items from a dictionary.\n",
    "def roman_numerals():\n",
    "    roman = {'I': 1, 'II': 2, 'III': 3, 'V': 5}\n",
    "    print(\"Keys:\", list(roman.keys()), \"Values:\", list(roman.values()), \"Items:\", list(roman.items()))\n",
    "roman_numerals()\n",
    "    "
   ]
  },
  {
   "cell_type": "code",
   "execution_count": null,
   "id": "35d951f1",
   "metadata": {},
   "outputs": [],
   "source": [
    "\n",
    "# 7. Create dictionary mapping numbers to cubes.\n",
    "def cubes():\n",
    "    print({n: n**3 for n in range(1, 6)})\n",
    "cubes()\n",
    "    "
   ]
  },
  {
   "cell_type": "code",
   "execution_count": null,
   "id": "4856c8f6",
   "metadata": {},
   "outputs": [],
   "source": [
    "\n",
    "# 8. Create multilevel dictionary \"life\".\n",
    "def multilevel_life():\n",
    "    print({'animals': {'cats': ['Henri', 'Grumpy', 'Lucy'], 'octopi': {}, 'emus': {}}, 'plants': {}, 'other': {}})\n",
    "multilevel_life()\n",
    "    "
   ]
  },
  {
   "cell_type": "code",
   "execution_count": null,
   "id": "6d5f4af3",
   "metadata": {},
   "outputs": [],
   "source": [
    "\n",
    "# 9. Count occurrences of letters in a string.\n",
    "def count_letters():\n",
    "    print({c: s.count(c) for c in set((s := input(\"String: \")))})\n",
    "count_letters()\n",
    "    "
   ]
  },
  {
   "cell_type": "code",
   "execution_count": null,
   "id": "73444b65",
   "metadata": {},
   "outputs": [],
   "source": [
    "\n",
    "# 10. Count occurrences of vowels in a string.\n",
    "def count_vowels():\n",
    "    print({v: s.lower().count(v) for v in 'aeiou' if v in (s := input(\"String: \")).lower()})\n",
    "count_vowels()\n",
    "    "
   ]
  },
  {
   "cell_type": "code",
   "execution_count": null,
   "id": "27bb1c5f",
   "metadata": {},
   "outputs": [],
   "source": [
    "\n",
    "# 11. Convert digits to text.\n",
    "def number_to_text():\n",
    "    print(' '.join({d: w for d, w in zip(\"0123456789\", [\"Zero\", \"One\", \"Two\", \"Three\", \"Four\", \"Five\", \"Six\", \"Seven\", \"Eight\", \"Nine\"])}[d] for d in input(\"Number: \")))\n",
    "number_to_text()\n",
    "    "
   ]
  },
  {
   "cell_type": "code",
   "execution_count": null,
   "id": "496e378b",
   "metadata": {},
   "outputs": [],
   "source": [
    "\n",
    "# 12. Count duplicate words.\n",
    "def count_duplicates():\n",
    "    print({w: words.count(w) for w in set((words := input(\"Sentence: \").lower().split()))})\n",
    "count_duplicates()\n",
    "    "
   ]
  },
  {
   "cell_type": "code",
   "execution_count": null,
   "id": "1b1aaf7e",
   "metadata": {},
   "outputs": [],
   "source": [
    "\n",
    "# 13. Unique words in alphabetical order.\n",
    "def unique_words():\n",
    "    print(sorted(set(input(\"Words: \").lower().split())))\n",
    "unique_words()\n",
    "    "
   ]
  },
  {
   "cell_type": "code",
   "execution_count": null,
   "id": "63def5a5",
   "metadata": {},
   "outputs": [],
   "source": [
    "\n",
    "# 14. Count unique characters in a string.\n",
    "def unique_characters():\n",
    "    print(len(set(input(\"String: \"))))\n",
    "unique_characters()\n",
    "    "
   ]
  },
  {
   "cell_type": "code",
   "execution_count": null,
   "id": "cdc75e32",
   "metadata": {},
   "outputs": [],
   "source": [
    "\n",
    "# 15. Simulate 1,000,000 games of craps (omitted detailed implementation).\n",
    "def simulate_craps():\n",
    "    pass\n",
    "simulate_craps()\n",
    "    "
   ]
  },
  {
   "cell_type": "code",
   "execution_count": null,
   "id": "8ba48433",
   "metadata": {},
   "outputs": [],
   "source": [
    "\n",
    "# 16. Perform set operations.\n",
    "def set_operations():\n",
    "    s1, s2 = {10, 20, 30}, {5, 10, 15, 20}\n",
    "    print(\"a)\", s1 - s2, \"\\nb)\", s2 - s1, \"\\nc)\", s1 | s2, \"\\nd)\", s1 & s2)\n",
    "set_operations()\n",
    "    "
   ]
  },
  {
   "cell_type": "code",
   "execution_count": null,
   "id": "98995990",
   "metadata": {},
   "outputs": [],
   "source": [
    "\n",
    "# 17. Compare and combine sets.\n",
    "def compare_sets():\n",
    "    s1, s2 = {'red', 'green', 'blue'}, {'cyan', 'green', 'blue', 'magenta', 'red'}\n",
    "    print(\"Comparison:\", s1 == s2, s1 < s2, s1 > s2, \"\\nUnion:\", s1 | s2, \"\\nIntersection:\", s1 & s2, \"\\nDifference:\", s1 - s2)\n",
    "compare_sets()\n",
    "    "
   ]
  },
  {
   "cell_type": "code",
   "execution_count": null,
   "id": "847763d5",
   "metadata": {},
   "outputs": [],
   "source": [
    "\n",
    "# 18. Analyze sets.\n",
    "def analyze_sets(l1, l2):\n",
    "    sd = set(l1) ^ set(l2)\n",
    "    print(sorted([x * 2 if x % 2 == 0 else x + 5 for x in sd]))\n",
    "analyze_sets([1, 2, 3, 4], [3, 4, 5, 6])\n",
    "    "
   ]
  },
  {
   "cell_type": "code",
   "execution_count": null,
   "id": "3b5394e3",
   "metadata": {},
   "outputs": [],
   "source": [
    "\n",
    "# 19. Unique pairs of words without common letters.\n",
    "def unique_pairs(words):\n",
    "    print({tuple(sorted((w1, w2))) for i, w1 in enumerate(words) for w2 in words[i + 1:] if len(w1) >= 4 <= len(w2) and not set(w1) & set(w2)})\n",
    "unique_pairs([\"apple\", \"dog\", \"fish\", \"bird\", \"zebra\"])\n",
    "    "
   ]
  },
  {
   "cell_type": "code",
   "execution_count": null,
   "id": "2c909a9f",
   "metadata": {},
   "outputs": [],
   "source": [
    "\n",
    "# 20. Update Mukesh's net worth.\n",
    "def update_net_worth():\n",
    "    d = {'person1': {'name': 'Bezos', 'net worth': 21880}, 'person2': {'name': 'Elon', 'net worth': 31570}, 'person3': {'name': 'Mukesh', 'net worth': 965}}\n",
    "    d['person3']['net worth'] = 9650\n",
    "    print(d)\n",
    "update_net_worth()\n",
    "    "
   ]
  }
 ],
 "metadata": {},
 "nbformat": 4,
 "nbformat_minor": 5
}