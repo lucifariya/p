{
 "cells": [
  {
   "cell_type": "code",
   "execution_count": null,
   "id": "92e165e9-9ed2-4395-8e9a-9fec032fb544",
   "metadata": {},
   "outputs": [],
   "source": [
    "def replace_repetitive_with_star(s):\n",
    "    result = [s[0]]  # Keep the first character\n",
    "    for i in range(1, len(s)):\n",
    "        if s[i] == s[i - 1]:\n",
    "            result.append('*')\n",
    "        else:\n",
    "            result.append(s[i])\n",
    "    return ''.join(result)\n",
    "\n",
    "# Example call\n",
    "print(replace_repetitive_with_star('balloon'))  # Output: 'bal*o*n'\n"
   ]
  },
  {
   "cell_type": "code",
   "execution_count": null,
   "id": "c45ecf6a-d174-4641-b6db-d75170ae6839",
   "metadata": {},
   "outputs": [],
   "source": [
    "def are_anagrams(s1, s2):\n",
    "    return sorted(s1) == sorted(s2)\n",
    "\n",
    "# Example call\n",
    "print(are_anagrams('listen', 'silent'))  # Output: True\n"
   ]
  },
  {
   "cell_type": "code",
   "execution_count": null,
   "id": "99deefde-2524-4fb8-afad-5fe4c63efbe8",
   "metadata": {},
   "outputs": [],
   "source": [
    "def count_words(sentence):\n",
    "    return len(sentence.split())\n",
    "\n",
    "# Example call\n",
    "print(count_words('This is an example sentence.'))  # Output: 5\n"
   ]
  },
  {
   "cell_type": "code",
   "execution_count": null,
   "id": "105eedb2-9529-4cae-b0a0-903f2660fca2",
   "metadata": {},
   "outputs": [],
   "source": [
    "def count_char_occurrences(s, char):\n",
    "    return s.count(char)\n",
    "\n",
    "# Example call\n",
    "print(count_char_occurrences('hello world', 'o'))  # Output: 2\n"
   ]
  },
  {
   "cell_type": "code",
   "execution_count": null,
   "id": "7a3b278c-7ce4-4f5e-8d50-f1de9d8706b7",
   "metadata": {},
   "outputs": [],
   "source": [
    "def longest_word_length(sentence):\n",
    "    words = sentence.split()\n",
    "    return max(len(word) for word in words)\n",
    "\n",
    "# Example call\n",
    "print(longest_word_length('The quick brown fox jumps'))  # Output: 5 (because 'quick' is the longest)\n"
   ]
  },
  {
   "cell_type": "code",
   "execution_count": null,
   "id": "096c0dd7-1950-411f-b018-1f1558545c27",
   "metadata": {},
   "outputs": [],
   "source": [
    "def replace_vowels(s):\n",
    "    vowels = 'aeiou'\n",
    "    mapping = {vowels[i]: vowels[(i + 1) % 5] for i in range(5)}\n",
    "    result = ''.join([mapping[char] if char in vowels else char for char in s])\n",
    "    return result\n",
    "\n",
    "# Example call\n",
    "print(replace_vowels('hello'))  # Output: 'hillu'\n"
   ]
  },
  {
   "cell_type": "code",
   "execution_count": null,
   "id": "8ff6af8b-ad46-47bc-aa01-ea2198cd1ae7",
   "metadata": {},
   "outputs": [],
   "source": [
    "def is_rotational_palindrome(s):\n",
    "    return any(s == s[::-1] for s in (s[i:] + s[:i] for i in range(len(s))))\n",
    "\n",
    "# Example call\n",
    "print(is_rotational_palindrome('aab'))  # Output: True\n"
   ]
  },
  {
   "cell_type": "code",
   "execution_count": null,
   "id": "483fd54d-f13f-456e-9a02-43065bcf47b9",
   "metadata": {},
   "outputs": [],
   "source": [
    "import re\n",
    "\n",
    "def is_valid_url(s):\n",
    "    pattern = r'^(https?|ftp):\\/\\/[^\\s/$.?#].[^\\s]*$'\n",
    "    return re.match(pattern, s) is not None\n",
    "\n",
    "# Example call\n",
    "print(is_valid_url('https://example.com'))  # Output: True\n"
   ]
  },
  {
   "cell_type": "code",
   "execution_count": null,
   "id": "ab6ab73b-c1b1-4910-9e8c-f083e4165ee8",
   "metadata": {},
   "outputs": [],
   "source": [
    "def count_vowels_consonants(s):\n",
    "    vowels = set('aeiouAEIOU')\n",
    "    vowel_count = sum(1 for char in s if char in vowels)\n",
    "    consonant_count = sum(1 for char in s if char.isalpha() and char not in vowels)\n",
    "    return vowel_count, consonant_count\n",
    "\n",
    "# Example call\n",
    "vowels, consonants = count_vowels_consonants('hello world')\n",
    "print(f'Vowels: {vowels}, Consonants: {consonants}')  # Output: Vowels: 3, Consonants: 7\n"
   ]
  },
  {
   "cell_type": "code",
   "execution_count": null,
   "id": "0b1c5479-4cbb-4dff-a30b-251548c74da1",
   "metadata": {},
   "outputs": [],
   "source": [
    "def reverse_tokens(s):\n",
    "    tokens = s.split()\n",
    "    return ' '.join(tokens[::-1])\n",
    "\n",
    "# Example call\n",
    "print(reverse_tokens('This is a test'))  # Output: 'test a is This'\n"
   ]
  },
  {
   "cell_type": "code",
   "execution_count": null,
   "id": "b82013e2-3498-463a-bb7a-809662cd997a",
   "metadata": {},
   "outputs": [],
   "source": [
    "def filter_words(s):\n",
    "    words = s.split()\n",
    "    result = [word for word in words if word.startswith('b') and word.endswith('d')]\n",
    "    return result\n",
    "\n",
    "# Example call\n",
    "print(filter_words('bad bold bread bled bed'))  # Output: ['bad', 'bed']\n"
   ]
  },
  {
   "cell_type": "code",
   "execution_count": null,
   "id": "741d1d3a-525c-4eea-a7c8-6262d3b4f317",
   "metadata": {},
   "outputs": [],
   "source": [
    "from itertools import permutations\n",
    "\n",
    "def three_letter_combinations(word):\n",
    "    return [''.join(p) for p in permutations(word, 3)]\n",
    "\n",
    "# Example call\n",
    "print(three_letter_combinations('bathe'))  # Output: ['bat', 'bah', 'bae', ...]\n"
   ]
  },
  {
   "cell_type": "code",
   "execution_count": null,
   "id": "7eee5771-9bc4-4771-a32d-789187b3d210",
   "metadata": {},
   "outputs": [],
   "source": [
    "def remove_extra_spaces(s):\n",
    "    return ' '.join(s.split())\n",
    "\n",
    "# Example call\n",
    "print(remove_extra_spaces('Hello    World'))  # Output: 'Hello World'\n"
   ]
  },
  {
   "cell_type": "code",
   "execution_count": null,
   "id": "0448057a-261e-425f-94cf-0d1f6f979a74",
   "metadata": {},
   "outputs": [],
   "source": [
    "def reverse_middle_half(s):\n",
    "    n = len(s)\n",
    "    start = n // 4\n",
    "    end = n - start\n",
    "    return s[:start] + s[start:end][::-1] + s[end:]\n",
    "\n",
    "# Example call\n",
    "print(reverse_middle_half('abcdefgh'))  # Output: 'abfedcgh'\n"
   ]
  },
  {
   "cell_type": "code",
   "execution_count": null,
   "id": "5a027c6c-aba9-4173-858b-853e31db42f1",
   "metadata": {},
   "outputs": [],
   "source": [
    "def substrings_with_frequency(s, freq):\n",
    "    from collections import Counter\n",
    "    count = Counter(s)\n",
    "    return ''.join([char for char in s if count[char] == freq])\n",
    "\n",
    "# Example call\n",
    "print(substrings_with_frequency('aabbbccccddddd', 3))  # Output: 'bbb'\n"
   ]
  },
  {
   "cell_type": "code",
   "execution_count": null,
   "id": "c5071ae7-95d5-4f2a-88f7-3570fd136134",
   "metadata": {},
   "outputs": [],
   "source": [
    "def unique_sorted_chars(s):\n",
    "    return ''.join(sorted(set(s)))\n",
    "\n",
    "# Example call\n",
    "print(unique_sorted_chars('abracadabra'))  # Output: 'abcdkr'\n"
   ]
  },
  {
   "cell_type": "code",
   "execution_count": null,
   "id": "e3c0701f-0cb9-4441-9662-23bcf4607c5e",
   "metadata": {},
   "outputs": [],
   "source": [
    "# (a)\n",
    "s = \"how now brown cow\"\n",
    "print(s[s.find('o'):s.rfind('o')])  # Output: 'ow now brown c'\n",
    "\n",
    "# (b)\n",
    "print(chr(ord('A') + 2) + chr(ord('Z') - 3))  # Output: 'CZ'\n",
    "\n",
    "# (c)\n",
    "s = \"abc123def456ghi789\"\n",
    "indices = [i for i, c in enumerate(s) if c == '']\n",
    "result = s[indices[1]+1:indices[2]] + s[indices[4]+1:]\n",
    "# No valid code as there's an error due to the empty condition in the loop.\n",
    "\n",
    "# (d)\n",
    "s = \"abracadabra\"\n",
    "print(s.replace(s[s.find('a'):s.find('r')], \"XYZ\"))  # Output: 'XYZracadabra'\n",
    "\n",
    "# (e)\n",
    "s = \"hello\"\n",
    "shift = 2\n",
    "print(\"\".join(chr((ord(c) - 97 + shift) % 26 + 97) for c in s))  # Output: 'jgnnq'\n",
    "\n",
    "# (f)\n",
    "s = \"mississippi\"\n",
    "print(\"\".join(sorted(set(s))))  # Output: 'imps'\n"
   ]
  },
  {
   "cell_type": "code",
   "execution_count": null,
   "id": "58b3b010-3a5d-441c-ba4f-c347248cd6dd",
   "metadata": {},
   "outputs": [],
   "source": [
    "quote = \"The quick brown fox jumps over the lazy dog\"\n",
    "\n",
    "# (a) quote.upper()\n",
    "print(quote.upper())  # Output: 'THE QUICK BROWN FOX JUMPS OVER THE LAZY DOG'\n",
    "\n",
    "# (b) quote[::-1]\n",
    "print(quote[::-1])  # Output: 'god yzal eht revo spmuj xof nworb kciuq ehT'\n",
    "\n",
    "# (c) quote[4:19]\n",
    "print(quote[4:19])  # Output: 'quick brown fox'\n",
    "\n",
    "# (d) quote.replace('fox', 'cat')\n",
    "print(quote.replace('fox', 'cat'))  # Output: 'The quick brown cat jumps over the lazy dog'\n",
    "\n",
    "# (e) quote.count('o')\n",
    "print(quote.count('o'))  # Output: 4\n",
    "\n",
    "# (f) quote.startswith('The')\n",
    "print(quote.startswith('The'))  # Output: True\n",
    "\n",
    "# (g) 'brown' in quote\n",
    "print('brown' in quote)  # Output: True\n",
    "\n",
    "# (h) quote.islower()\n",
    "print(quote.islower())  # Output: False\n"
   ]
  },
  {
   "cell_type": "code",
   "execution_count": null,
   "id": "b38b8559-c1cc-4e5f-89b4-1004c37b7363",
   "metadata": {},
   "outputs": [],
   "source": [
    "quote = 'Knowledge is power. Power is gained through knowledge.'\n",
    "\n",
    "# (a) quote.find('power')\n",
    "print(quote.find('power'))  # Output: 13\n",
    "\n",
    "# (b) quote.rfind('knowledge')\n",
    "print(quote.rfind('knowledge'))  # Output: 51\n",
    "\n",
    "# (c) quote.title()\n",
    "print(quote.title())  # Output: 'Knowledge Is Power. Power Is Gained Through Knowledge.'\n",
    "\n",
    "# (d) quote.lower()\n",
    "print(quote.lower())  # Output: 'knowledge is power. power is gained through knowledge.'\n",
    "\n",
    "# (e) quote.upper()\n",
    "print(quote.upper())  # Output: 'KNOWLEDGE IS POWER. POWER IS GAINED THROUGH KNOWLEDGE.'\n",
    "\n",
    "# (f) quote.endswith('knowledge.')\n",
    "print(quote.endswith('knowledge.'))  # Output: True\n",
    "\n",
    "# (g) quote.split(' ')\n",
    "print(quote.split(' '))  # Output: ['Knowledge', 'is', 'power.', 'Power', 'is', 'gained', 'through', 'knowledge.']\n",
    "\n",
    "# (h) quote.partition('is')\n",
    "print(quote.partition('is'))  # Output: ('Knowledge ', 'is', ' power. Power is gained through knowledge.')\n",
    "\n",
    "# (i) quote.isalpha()\n",
    "print(quote.isalpha())  # Output: False\n"
   ]
  },
  {
   "cell_type": "code",
   "execution_count": null,
   "id": "f67ed35e-82f8-485d-a1e9-0a6b8a643a5e",
   "metadata": {},
   "outputs": [],
   "source": [
    "import re\n",
    "string1 = 'Python Programming Language'\n",
    "\n",
    "# (a) match1 = re.search('. m?', string1)\n",
    "match1 = re.search('. m?', string1)\n",
    "print(match1.group())  # Output: 'Pro'\n",
    "\n",
    "# (b) match3 = re.search('.*Language$', string1)\n",
    "match3 = re.search('.*Language$', string1)\n",
    "print(match3.group())  # Output: 'Python Programming Language'\n",
    "\n",
    "# (c) match4 = re.search(' w* s w*', string1)\n",
    "# This regular expression appears to be invalid.\n",
    "\n",
    "# (d) match5 = re.search('.*', string1)\n",
    "match5 = re.search('.*', string1)\n",
    "print(match5.group())  # Output: 'Python Programming Language'\n"
   ]
  },
  {
   "cell_type": "code",
   "execution_count": null,
   "id": "9ea20201-8de3-4d06-b043-b76761ae5dcc",
   "metadata": {},
   "outputs": [],
   "source": []
  },
  {
   "cell_type": "code",
   "execution_count": null,
   "id": "8f045586-ca67-4c0c-9a2e-981f61bce090",
   "metadata": {},
   "outputs": [],
   "source": []
  },
  {
   "cell_type": "code",
   "execution_count": null,
   "id": "27f331b4-0c81-4157-8e54-ab404db1e27d",
   "metadata": {},
   "outputs": [],
   "source": []
  },
  {
   "cell_type": "code",
   "execution_count": null,
   "id": "850b04f3-63c3-4965-aff9-b8052096cb4f",
   "metadata": {},
   "outputs": [],
   "source": []
  },
  {
   "cell_type": "code",
   "execution_count": null,
   "id": "3d952ef4-53f6-42c5-89fb-025c3c46ea1c",
   "metadata": {},
   "outputs": [],
   "source": []
  },
  {
   "cell_type": "code",
   "execution_count": null,
   "id": "d47fcddd-1d34-484b-8f34-84d9150f5424",
   "metadata": {},
   "outputs": [],
   "source": []
  },
  {
   "cell_type": "code",
   "execution_count": null,
   "id": "3a964b73-afd6-4752-a435-d2e979525038",
   "metadata": {},
   "outputs": [],
   "source": []
  },
  {
   "cell_type": "code",
   "execution_count": null,
   "id": "8a2c25e1-f773-4b9b-8f99-c3eb1e01b6f9",
   "metadata": {},
   "outputs": [],
   "source": []
  },
  {
   "cell_type": "code",
   "execution_count": null,
   "id": "48e1d63d-591d-4089-82cb-627401428ef9",
   "metadata": {},
   "outputs": [],
   "source": []
  }
 ],
 "metadata": {
  "kernelspec": {
   "display_name": "Python 3 (ipykernel)",
   "language": "python",
   "name": "python3"
  },
  "language_info": {
   "codemirror_mode": {
    "name": "ipython",
    "version": 3
   },
   "file_extension": ".py",
   "mimetype": "text/x-python",
   "name": "python",
   "nbconvert_exporter": "python",
   "pygments_lexer": "ipython3",
   "version": "3.12.4"
  }
 },
 "nbformat": 4,
 "nbformat_minor": 5
}
