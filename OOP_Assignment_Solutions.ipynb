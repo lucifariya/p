{
 "cells": [
  {
   "cell_type": "markdown",
   "id": "f8dc54a9",
   "metadata": {},
   "source": [
    "### What is the significance of classes in Python programming, and how do they contribute to object-oriented programming?"
   ]
  },
  {
   "cell_type": "code",
   "execution_count": null,
   "id": "a32299a8",
   "metadata": {},
   "outputs": [],
   "source": [
    "\"\"\"\n",
    "Classes in Python provide a blueprint for creating objects. They encapsulate data (attributes) and behavior (methods), \n",
    "promoting code reuse, modularity, and organization. Object-oriented programming (OOP) enables concepts like \n",
    "encapsulation, inheritance, and polymorphism, making code more maintainable and scalable.\n",
    "\"\"\""
   ]
  },
  {
   "cell_type": "markdown",
   "id": "e3bb921f",
   "metadata": {},
   "source": [
    "### Create a custom Python class for managing a bank account with basic functionalities like deposit and withdrawal."
   ]
  },
  {
   "cell_type": "code",
   "execution_count": null,
   "id": "99c40b2c",
   "metadata": {},
   "outputs": [],
   "source": [
    "class BankAccount:\n",
    "    def __init__(self, balance=0):\n",
    "        self.balance = balance\n",
    "    def deposit(self, amount):\n",
    "        self.balance += amount\n",
    "    def withdraw(self, amount):\n",
    "        if amount > self.balance:\n",
    "            return 'Insufficient funds'\n",
    "        self.balance -= amount\n",
    "    def get_balance(self):\n",
    "        return self.balance\n",
    "# Example usage:\n",
    "acc = BankAccount(1000)\n",
    "acc.deposit(500)\n",
    "print(acc.withdraw(200))\n",
    "print(acc.get_balance())"
   ]
  },
  {
   "cell_type": "markdown",
   "id": "85361b86",
   "metadata": {},
   "source": [
    "### Create a Book class that contains multiple Chapters, where each Chapter has a title and page count. Write code to initialize a Book object with three chapters and display the total page count of the book."
   ]
  },
  {
   "cell_type": "code",
   "execution_count": null,
   "id": "36672dc6",
   "metadata": {},
   "outputs": [],
   "source": [
    "class Chapter:\n",
    "    def __init__(self, title, pages):\n",
    "        self.title = title\n",
    "        self.pages = pages\n",
    "class Book:\n",
    "    def __init__(self, title, chapters):\n",
    "        self.title = title\n",
    "        self.chapters = chapters\n",
    "    def total_pages(self):\n",
    "        return sum(ch.pages for ch in self.chapters)\n",
    "# Example usage:\n",
    "chapters = [Chapter('Intro', 10), Chapter('Middle', 20), Chapter('End', 15)]\n",
    "book = Book('My Book', chapters)\n",
    "print(book.total_pages())"
   ]
  },
  {
   "cell_type": "markdown",
   "id": "f8b43421",
   "metadata": {},
   "source": [
    "### How does Python enforce access control to class attributes, and what is the difference between public, protected, and private attributes?"
   ]
  },
  {
   "cell_type": "code",
   "execution_count": null,
   "id": "34ad533a",
   "metadata": {},
   "outputs": [],
   "source": [
    "\"\"\"\n",
    "Python uses naming conventions for access control:\n",
    "Public attributes (no underscore) can be accessed from anywhere.\n",
    "Protected attributes (single underscore _) should not be accessed outside the class.\n",
    "Private attributes (double underscore __) are name-mangled and should not be accessed directly.\n",
    "\"\"\""
   ]
  }
 ],
 "metadata": {},
 "nbformat": 4,
 "nbformat_minor": 5
}