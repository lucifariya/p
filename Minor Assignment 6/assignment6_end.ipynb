{
 "cells": [
  {
   "cell_type": "code",
   "execution_count": null,
   "id": "05c5d8f1-ed47-483d-988d-cce36209c2cc",
   "metadata": {},
   "outputs": [],
   "source": [
    "import numpy as np\n",
    "\n",
    "ones_array = np.ones((2, 3))\n",
    "zeros_array = np.zeros((3, 3))\n",
    "sevens_array = np.full((2, 5), 7)\n",
    "\n",
    "print(ones_array)\n",
    "print(zeros_array)\n",
    "print(sevens_array)\n"
   ]
  },
  {
   "cell_type": "code",
   "execution_count": null,
   "id": "1893bf8e-0531-445c-a33c-dd1ca3d06176",
   "metadata": {},
   "outputs": [],
   "source": [
    "array = np.arange(4).reshape(2, 2)\n",
    "\n",
    "# (a) Cube every element\n",
    "cubed = array ** 3\n",
    "\n",
    "# (b) Add 7 to every element\n",
    "added = array + 7\n",
    "\n",
    "# (c) Multiply every element by 2\n",
    "multiplied = array * 2\n",
    "\n",
    "print(cubed)\n",
    "print(added)\n",
    "print(multiplied)\n"
   ]
  },
  {
   "cell_type": "code",
   "execution_count": null,
   "id": "51e0f49f-c262-4c08-88af-b731d55d9cdd",
   "metadata": {},
   "outputs": [],
   "source": [
    "array1 = np.arange(2, 20, 2).reshape(3, 3)\n",
    "array2 = np.arange(9, 0, -1).reshape(3, 3)\n",
    "\n",
    "result = array1 * array2\n",
    "print(result)\n"
   ]
  },
  {
   "cell_type": "code",
   "execution_count": null,
   "id": "d3b93f97-7b3f-4f4b-a08c-458984388e3a",
   "metadata": {},
   "outputs": [],
   "source": [
    "array = np.array([[1, 2, 3], [4, 5, 6]])\n",
    "swapped = array[:, [1, 0]]  # Swap columns\n",
    "print(swapped)\n"
   ]
  },
  {
   "cell_type": "code",
   "execution_count": null,
   "id": "f6aa10f9-4b9a-4e52-9e43-63507d7d56ba",
   "metadata": {},
   "outputs": [],
   "source": [
    "array = np.array([[2, 3, 5, 7, 11], [13, 17, 19, 23, 29]])\n",
    "print(array)\n"
   ]
  },
  {
   "cell_type": "code",
   "execution_count": null,
   "id": "7ab7c9c6-b204-45c0-beb0-6efb58cd9150",
   "metadata": {},
   "outputs": [],
   "source": [
    "array = np.array([2 ** i for i in range(6)]).reshape(2, 3)\n",
    "\n",
    "# Using flatten and ravel\n",
    "flattened = array.flatten()\n",
    "raveled = array.ravel()\n",
    "\n",
    "print(flattened)\n",
    "print(raveled)\n",
    "print(array)  # Original array remains unchanged\n"
   ]
  },
  {
   "cell_type": "code",
   "execution_count": null,
   "id": "ba965290-e166-40ed-9ced-a2ca7012d41f",
   "metadata": {},
   "outputs": [],
   "source": [
    "array = np.array([695175101, 5508907076511953879634597270226])\n",
    "\n",
    "unique, counts = np.unique(array, return_counts=True)\n",
    "most_frequent = unique[np.argmax(counts)]\n",
    "print(most_frequent)\n"
   ]
  },
  {
   "cell_type": "code",
   "execution_count": null,
   "id": "d424d448-2f6f-4ade-b68e-ccaf5bb5abb2",
   "metadata": {},
   "outputs": [],
   "source": [
    "array = np.linspace(1.1, 6.6, 6).reshape(2, 3)\n",
    "int_array = array.astype(int)\n",
    "\n",
    "print(array)\n",
    "print(int_array)\n"
   ]
  },
  {
   "cell_type": "code",
   "execution_count": null,
   "id": "6c4d53ee-257f-4f4f-9032-973251650343",
   "metadata": {},
   "outputs": [],
   "source": [
    "def format_2d_array(arr):\n",
    "    max_width = len(str(np.max(arr)))\n",
    "    return '\\n'.join([' '.join([f'{num:>{max_width}}' for num in row]) for row in arr])\n",
    "\n",
    "array = np.array([[1, 22], [333, 4444]])\n",
    "print(format_2d_array(array))\n"
   ]
  },
  {
   "cell_type": "code",
   "execution_count": null,
   "id": "4a14c585-69e1-41f0-b463-e8740a657254",
   "metadata": {},
   "outputs": [],
   "source": [
    "array = np.arange(1, 16).reshape(3, 5)\n",
    "\n",
    "# (a) Select row 2\n",
    "print(array[2, :])\n",
    "\n",
    "# (b) Select column 5\n",
    "print(array[:, 4])\n",
    "\n",
    "# (c) Select rows 0 and 1\n",
    "print(array[:2, :])\n",
    "\n",
    "# (d) Select columns 2-4\n",
    "print(array[:, 2:5])\n",
    "\n",
    "# (e) Select the element in row 1, column 4\n",
    "print(array[1, 4])\n",
    "\n",
    "# (f) Select rows 1 and 2, columns 0, 2, 4\n",
    "print(array[1:3, [0, 2, 4]])\n"
   ]
  },
  {
   "cell_type": "code",
   "execution_count": null,
   "id": "96e4234d-7a24-475e-8af3-85d473d16785",
   "metadata": {},
   "outputs": [],
   "source": [
    "array1 = np.array([[0, 1], [2, 3]])\n",
    "array2 = np.array([[4, 5], [6, 7]])\n",
    "\n",
    "# (a) Vertical stacking\n",
    "array3 = np.vstack((array1, array2))\n",
    "\n",
    "# (b) Horizontal stacking\n",
    "array4 = np.hstack((array1, array2))\n",
    "\n",
    "# (c) Vertical stacking with copies of array 4\n",
    "array5 = np.vstack((array4, array4))\n",
    "\n",
    "# (d) Horizontal stacking with copies of array 3\n",
    "array6 = np.hstack((array3, array3))\n",
    "\n",
    "print(array3)\n",
    "print(array4)\n",
    "print(array5)\n",
    "print(array6)\n"
   ]
  },
  {
   "cell_type": "code",
   "execution_count": null,
   "id": "58b5254a-24fb-4ece-aa7f-b3d064e63903",
   "metadata": {},
   "outputs": [],
   "source": [
    "array3 = np.concatenate((array1, array2), axis=0)\n",
    "array4 = np.concatenate((array1, array2), axis=1)\n",
    "\n",
    "print(array3)\n",
    "print(array4)\n"
   ]
  },
  {
   "cell_type": "code",
   "execution_count": null,
   "id": "7596fc1e-e41c-4a92-996b-e98a84cec7b3",
   "metadata": {},
   "outputs": [],
   "source": [
    "checkerboard = np.tile([['-', '*'], ['*', '-']], (4, 4))\n",
    "print(checkerboard)\n"
   ]
  },
  {
   "cell_type": "code",
   "execution_count": null,
   "id": "f05727fa-e538-48d3-aff6-557c4178bbd0",
   "metadata": {},
   "outputs": [],
   "source": [
    "array = np.random.randint(0, 100, size=(5, 5))\n",
    "bincount_result = np.bincount(array.ravel())\n",
    "print(bincount_result)\n"
   ]
  },
  {
   "cell_type": "code",
   "execution_count": null,
   "id": "1e34688e-3781-4a55-9e09-41a7ceef8e1e",
   "metadata": {},
   "outputs": [],
   "source": [
    "def median(arr):\n",
    "    return np.median(arr)\n",
    "\n",
    "def mode(arr):\n",
    "    values, counts = np.unique(arr, return_counts=True)\n",
    "    return values[np.argmax(counts)]\n",
    "\n",
    "array = np.random.randint(0, 10, size=(3, 4))\n",
    "print(median(array))\n",
    "print(mode(array))\n"
   ]
  },
  {
   "cell_type": "code",
   "execution_count": null,
   "id": "1dbba026-d7fb-4692-9d0f-a05969894da6",
   "metadata": {},
   "outputs": [],
   "source": [
    "array = np.random.rand(9, 9, 2)\n",
    "subarray = array[:5, :5, :]\n",
    "print(subarray)\n"
   ]
  },
  {
   "cell_type": "code",
   "execution_count": null,
   "id": "c6474787-de66-41f2-a09d-2344d928326d",
   "metadata": {},
   "outputs": [],
   "source": [
    "array = np.random.rand(4, 4)\n",
    "sorted_array = np.sort(array, axis=0)\n",
    "print(sorted_array)\n"
   ]
  },
  {
   "cell_type": "code",
   "execution_count": null,
   "id": "221895e6-473e-42f2-91a3-cae92b40ac5e",
   "metadata": {},
   "outputs": [],
   "source": [
    "import pandas as pd\n",
    "\n",
    "df = pd.DataFrame({'A': [1, 2, 3], 'B': [4, 5, 6]})\n",
    "series = df['A']\n",
    "print(series)\n"
   ]
  },
  {
   "cell_type": "code",
   "execution_count": null,
   "id": "c46bb930-b835-4719-9190-72b1dddfc089",
   "metadata": {},
   "outputs": [],
   "source": [
    "s1 = pd.Series([1, 2, 3, 4, 2])\n",
    "s2 = pd.Series([3, 4, 5, 6])\n",
    "\n",
    "diff = s1[~s1.isin(s2)]\n",
    "print(diff)\n"
   ]
  },
  {
   "cell_type": "code",
   "execution_count": null,
   "id": "612c10d1-9842-4edf-9771-8e117ed9f6b6",
   "metadata": {},
   "outputs": [],
   "source": [
    "s = pd.Series([1, 1, 3, 7, 88, 12, 88, 23, 3, 1, 9, 0])\n",
    "\n",
    "smallest_idx = s.idxmin()\n",
    "largest_idx = s.idxmax()\n",
    "\n",
    "print(smallest_idx, largest_idx)\n"
   ]
  },
  {
   "cell_type": "code",
   "execution_count": null,
   "id": "7ca0d6f7-40f1-471d-aed2-dcb56b22be90",
   "metadata": {},
   "outputs": [],
   "source": [
    "L = ['Cry', 'Apple', 'Orange', 'Sky', 'Banana']\n",
    "series = pd.Series(L)\n",
    "\n",
    "vowel_series = series[series.str.contains('[AEIOUaeiou]', regex=True)]\n",
    "starts_with_vowel_series = series[series.str.match('^[AEIOUaeiou]')]\n",
    "\n",
    "print(vowel_series)\n",
    "print(starts_with_vowel_series)\n"
   ]
  },
  {
   "cell_type": "code",
   "execution_count": null,
   "id": "acfa7b18-4419-4778-9bf0-b0391aea379e",
   "metadata": {},
   "outputs": [],
   "source": [
    "# (a) Create a Series from the list [7, 11, 13, 17]\n",
    "series1 = pd.Series([7, 11, 13, 17])\n",
    "\n",
    "# (b) Create a Series with five elements all 100.0\n",
    "series2 = pd.Series([100.0] * 5)\n",
    "\n",
    "# (c) Create a Series with 20 random elements\n",
    "series3 = pd.Series(np.random.randint(0, 100, size=20))\n",
    "print(series3.describe())\n",
    "\n",
    "# (d) Create a Series with custom indices\n",
    "temperatures = pd.Series([98.6, 98.9, 100.2, 97.9], index=['Julie', 'Charlie', 'Sam', 'Andrea'])\n",
    "\n",
    "# (e) Form a dictionary and initialize Series\n",
    "temp_dict = {'Julie': 98.6, 'Charlie': 98.9, 'Sam': 100.2, 'Andrea': 97.9}\n",
    "temp_series = pd.Series(temp_dict)\n",
    "\n",
    "print(temp_series)\n"
   ]
  },
  {
   "cell_type": "code",
   "execution_count": null,
   "id": "d10e03c9-1e3a-43e5-84f0-44c6da04b991",
   "metadata": {},
   "outputs": [],
   "source": [
    "# (a) Create a DataFrame from a dictionary\n",
    "temperatures = pd.DataFrame({\n",
    "    'Maxine': [98.6, 99.1, 98.9],\n",
    "    'James': [98.5, 99.0, 98.8],\n",
    "    'Amanda': [98.4, 98.7, 99.2]\n",
    "})\n",
    "\n",
    "# (b) Recreate with custom indices\n",
    "temperatures_custom = pd.DataFrame({\n",
    "    'Maxine': [98.6, 99.1, 98.9],\n",
    "    'James': [98.5, 99.0, 98.8],\n",
    "    'Amanda': [98.4, 98.7, 99.2]\n",
    "}, index=['Morning', 'Afternoon', 'Evening'])\n",
    "\n",
    "# (c) Select column for 'Maxine'\n",
    "print(temperatures['Maxine'])\n",
    "\n",
    "# (d) Select 'Morning' row\n",
    "print(temperatures.loc['Morning'])\n",
    "\n",
    "# (e) Select 'Morning' and 'Evening' rows\n",
    "print(temperatures.loc[['\n"
   ]
  }
 ],
 "metadata": {
  "kernelspec": {
   "display_name": "Python 3 (ipykernel)",
   "language": "python",
   "name": "python3"
  },
  "language_info": {
   "codemirror_mode": {
    "name": "ipython",
    "version": 3
   },
   "file_extension": ".py",
   "mimetype": "text/x-python",
   "name": "python",
   "nbconvert_exporter": "python",
   "pygments_lexer": "ipython3",
   "version": "3.12.4"
  }
 },
 "nbformat": 4,
 "nbformat_minor": 5
}
