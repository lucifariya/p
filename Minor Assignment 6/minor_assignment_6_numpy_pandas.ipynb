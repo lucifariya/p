{
 "cells": [
  {
   "cell_type": "markdown",
   "id": "601c89e0",
   "metadata": {},
   "source": [
    "# Minor Assignment-6: NumPy and Pandas\n",
    "# This notebook contains solutions to the assignment questions."
   ]
  },
  {
   "cell_type": "code",
   "execution_count": null,
   "id": "81f9f8e0",
   "metadata": {},
   "outputs": [],
   "source": [
    "\n",
    "# 1. Accept student details and display information\n",
    "import pandas as pd\n",
    "\n",
    "n = int(input(\"Enter number of students: \"))\n",
    "students = []\n",
    "for _ in range(n):\n",
    "    name = input(\"Enter student name: \")\n",
    "    marks = int(input(\"Enter marks: \"))\n",
    "    students.append({'Name': name, 'Marks': marks})\n",
    "\n",
    "df = pd.DataFrame(students)\n",
    "print(\"Student Information:\")\n",
    "print(df)\n",
    "    "
   ]
  },
  {
   "cell_type": "code",
   "execution_count": null,
   "id": "cf33b0a6",
   "metadata": {},
   "outputs": [],
   "source": [
    "\n",
    "# 2. Create and manipulate a NumPy array\n",
    "import numpy as np\n",
    "\n",
    "arr = np.array([1, 2, 3, 4, 5])\n",
    "print(\"Original array:\", arr)\n",
    "\n",
    "# Modify and display array details\n",
    "squared = arr**2\n",
    "print(\"Squared values:\", squared)\n",
    "\n",
    "mean_val = np.mean(arr)\n",
    "print(\"Mean of array:\", mean_val)\n",
    "    "
   ]
  },
  {
   "cell_type": "code",
   "execution_count": null,
   "id": "1ec3100a",
   "metadata": {},
   "outputs": [],
   "source": [
    "\n",
    "# 3. Operations on Pandas DataFrame\n",
    "data = {\n",
    "    'Name': ['Alice', 'Bob', 'Charlie'],\n",
    "    'Age': [25, 30, 35],\n",
    "    'Score': [85, 90, 95]\n",
    "}\n",
    "\n",
    "df = pd.DataFrame(data)\n",
    "print(\"Original DataFrame:\")\n",
    "print(df)\n",
    "\n",
    "# Add a new column\n",
    "df['Passed'] = df['Score'] > 50\n",
    "print(\"Updated DataFrame:\")\n",
    "print(df)\n",
    "    "
   ]
  },
  {
   "cell_type": "code",
   "execution_count": null,
   "id": "e35e2e6b",
   "metadata": {},
   "outputs": [],
   "source": [
    "\n",
    "# 4. Working with a CSV file\n",
    "file_path = input(\"Enter the path of your CSV file: \")\n",
    "\n",
    "try:\n",
    "    df = pd.read_csv(file_path)\n",
    "    print(\"DataFrame loaded successfully:\")\n",
    "    print(df.head())\n",
    "except Exception as e:\n",
    "    print(f\"Error loading CSV file: {e}\")\n",
    "    "
   ]
  },
  {
   "cell_type": "code",
   "execution_count": null,
   "id": "f39a18d0",
   "metadata": {},
   "outputs": [],
   "source": [
    "\n",
    "# 5. Perform groupby operations in Pandas\n",
    "data = {\n",
    "    'Department': ['HR', 'IT', 'HR', 'Finance', 'IT', 'Finance'],\n",
    "    'Employee': ['Alice', 'Bob', 'Charlie', 'David', 'Eve', 'Frank'],\n",
    "    'Salary': [70000, 80000, 65000, 85000, 75000, 90000]\n",
    "}\n",
    "\n",
    "df = pd.DataFrame(data)\n",
    "print(\"DataFrame:\")\n",
    "print(df)\n",
    "\n",
    "grouped = df.groupby('Department')['Salary'].mean()\n",
    "print(\"Average Salary by Department:\")\n",
    "print(grouped)\n",
    "    "
   ]
  },
  {
   "cell_type": "code",
   "execution_count": null,
   "id": "f83fa0b0",
   "metadata": {},
   "outputs": [],
   "source": [
    "\n",
    "# 6. NumPy array slicing and indexing\n",
    "arr = np.arange(10)\n",
    "print(\"Original array:\", arr)\n",
    "\n",
    "# Slicing\n",
    "print(\"First 5 elements:\", arr[:5])\n",
    "print(\"Last 3 elements:\", arr[-3:])\n",
    "\n",
    "# Conditional selection\n",
    "even_numbers = arr[arr % 2 == 0]\n",
    "print(\"Even numbers:\", even_numbers)\n",
    "    "
   ]
  },
  {
   "cell_type": "code",
   "execution_count": null,
   "id": "7b84919f",
   "metadata": {},
   "outputs": [],
   "source": [
    "\n",
    "# 7. Merge two Pandas DataFrames\n",
    "data1 = {\n",
    "    'Employee': ['Alice', 'Bob', 'Charlie'],\n",
    "    'Department': ['HR', 'IT', 'HR']\n",
    "}\n",
    "\n",
    "data2 = {\n",
    "    'Employee': ['Alice', 'Bob', 'Charlie'],\n",
    "    'Salary': [70000, 80000, 65000]\n",
    "}\n",
    "\n",
    "df1 = pd.DataFrame(data1)\n",
    "df2 = pd.DataFrame(data2)\n",
    "\n",
    "merged = pd.merge(df1, df2, on='Employee')\n",
    "print(\"Merged DataFrame:\")\n",
    "print(merged)\n",
    "    "
   ]
  }
 ],
 "metadata": {},
 "nbformat": 4,
 "nbformat_minor": 5
}