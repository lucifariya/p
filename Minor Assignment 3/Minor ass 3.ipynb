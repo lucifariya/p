{
 "cells": [
  {
   "cell_type": "code",
   "execution_count": 7,
   "id": "642bc9f9",
   "metadata": {},
   "outputs": [
    {
     "name": "stdout",
     "output_type": "stream",
     "text": [
      "Enter a number: 6328\n",
      "1st, 2nd, 3rd:  8 ,  6 ,  3 .\n"
     ]
    }
   ],
   "source": [
    "#Write a Python function to find the first, second and third greatest digit in a number.\n",
    "\n",
    "x = int(input(\"Enter a number: \"))\n",
    "\n",
    "def digitorder(x):\n",
    "    frst = scnd = thrd = -1\n",
    "    while(x > 0):\n",
    "        temp = x%10\n",
    "        if frst < temp:\n",
    "            thrd = scnd\n",
    "            scnd = frst\n",
    "            frst = temp\n",
    "        elif scnd < temp < frst:\n",
    "            thrd = scnd\n",
    "            scnd = temp\n",
    "        elif thrd < temp < scnd:\n",
    "            thrd = temp\n",
    "        x = x//10\n",
    "        \n",
    "    print(\"1st, 2nd, 3rd: \",frst,\", \",scnd,\", \",thrd,\".\")    \n",
    "        \n",
    "digitorder(x)\n",
    "    "
   ]
  },
  {
   "cell_type": "code",
   "execution_count": 9,
   "id": "1995b491",
   "metadata": {},
   "outputs": [
    {
     "name": "stdout",
     "output_type": "stream",
     "text": [
      "Highest =  9 \n",
      "2nd =  8 \n",
      "3rd =  5\n"
     ]
    }
   ],
   "source": [
    "x = 1325489\n",
    "y = str(x)\n",
    "l1 = [int(x) for x in y]\n",
    "l1.sort(reverse = True)\n",
    "print(\"Highest = \", l1[0], \"\\n2nd = \", l1[1] , \"\\n3rd = \", l1[2])\n"
   ]
  },
  {
   "cell_type": "code",
   "execution_count": 10,
   "id": "20167a65",
   "metadata": {},
   "outputs": [
    {
     "name": "stdout",
     "output_type": "stream",
     "text": [
      "105, 120, 135, 150, 165, 180, 195, 210, 225, 240, 255, 270, 285, 300, 315, 330, 345, 360, 375, 390, 405, 420, 435, 450, 465, 480, 495, "
     ]
    }
   ],
   "source": [
    "#Find the numbers between 100 and 500, which are divisible by 3 and multiples of 5 using function in Python\n",
    "def divbythree(x):\n",
    "    if x%3 == 0:\n",
    "        return True\n",
    "    return False\n",
    "def muloffive(x):\n",
    "    if x%5 == 0:\n",
    "        return True\n",
    "    return False\n",
    "def printthem(x, y):\n",
    "    for i in range(x, y+1):\n",
    "        if divbythree(i):\n",
    "            if muloffive(i):\n",
    "                print(i, end=\", \")\n",
    "printthem(100, 500)\n",
    "         "
   ]
  },
  {
   "cell_type": "code",
   "execution_count": 11,
   "id": "1f35826b",
   "metadata": {},
   "outputs": [
    {
     "data": {
      "text/plain": [
       "22100"
      ]
     },
     "execution_count": 11,
     "metadata": {},
     "output_type": "execute_result"
    }
   ],
   "source": [
    "#Write a Python function to add the squares of the even numbers between 1 and 50 (both included)\n",
    "def evensquaresum(x, y):\n",
    "    sum = 0\n",
    "    for i in range(x, y+1):\n",
    "       if i%2 == 0:\n",
    "        sum = sum + (i*i)\n",
    "    return sum\n",
    "evensquaresum(1, 50)"
   ]
  },
  {
   "cell_type": "code",
   "execution_count": 12,
   "id": "df7a391b",
   "metadata": {},
   "outputs": [
    {
     "name": "stdout",
     "output_type": "stream",
     "text": [
      "Enter string: abcd\n",
      "Reverse of abcd = dcba\n"
     ]
    }
   ],
   "source": [
    "#Write a function that takes a string as input and returns the reversed string\n",
    "str = input(\"Enter string: \")\n",
    "def revString(str):\n",
    "    return str[::-1]\n",
    "print(f\"Reverse of {str} = {revString(str)}\")"
   ]
  },
  {
   "cell_type": "code",
   "execution_count": null,
   "id": "b0adcbbc",
   "metadata": {},
   "outputs": [
    {
     "name": "stdout",
     "output_type": "stream",
     "text": [
      "8\n"
     ]
    }
   ],
   "source": [
    "#Write a function that takes a positive integer and returns the number of digits\n",
    "def digicount(x):\n",
    "    # count = -1\n",
    "    # if x > 0:\n",
    "    #     count = count + 1\n",
    "    #     while x > 0:\n",
    "    #         temp = x % 10\n",
    "    #         count = count + 1\n",
    "    #         x = x // 10\n",
    "    l1 = list(str(x))\n",
    "    return len(l1)\n",
    "    #return count\n",
    "print(digicount(12345678))"
   ]
  },
  {
   "cell_type": "code",
   "execution_count": 19,
   "id": "84657962",
   "metadata": {},
   "outputs": [
    {
     "name": "stdout",
     "output_type": "stream",
     "text": [
      "Enter String: madamousel\n",
      "Palindrome? False\n"
     ]
    }
   ],
   "source": [
    "#Define a function to check if a given string is a palindrome. Example: madam ⟲ madam, racecar ⟲ racecar.\n",
    "def isPalindrome(str):\n",
    "    if str == str[::-1]:\n",
    "        return True\n",
    "    return False\n",
    "str = input(\"Enter String: \")\n",
    "print(f\"Palindrome? {isPalindrome(str)}\")"
   ]
  },
  {
   "cell_type": "code",
   "execution_count": 23,
   "id": "69136b81",
   "metadata": {},
   "outputs": [
    {
     "name": "stdout",
     "output_type": "stream",
     "text": [
      "Enter a character: 4\n",
      "Consonant\n"
     ]
    }
   ],
   "source": [
    "#Write a Python function to check whether an alphabet is a vowel or consonant.\n",
    "def isVowel(str):\n",
    "    str = str.lower()\n",
    "    if str == 'a' or str == 'e' or str == 'i' or str == 'o' or str == 'u':\n",
    "        print(\"Vowel\")\n",
    "    else: \n",
    "        print(\"Consonant\")\n",
    "str = input(\"Enter a character: \")\n",
    "isVowel(str)"
   ]
  },
  {
   "cell_type": "code",
   "execution_count": 24,
   "id": "00e673fc",
   "metadata": {},
   "outputs": [
    {
     "name": "stdout",
     "output_type": "stream",
     "text": [
      "Enter month: JanuaRy\n",
      "No. of days: 31 days\n"
     ]
    }
   ],
   "source": [
    "#Write a Python program that takes the name of a month as input and returns the number of days in that month.\n",
    "#Input: The name of the Month: February\n",
    "#Output: No. of days: 28/29 days\n",
    "\n",
    "def noofdays(str):\n",
    "    str = str.lower()\n",
    "    if str == \"january\" or str == \"march\" or str == \"may\" or str == \"july\" or str == \"august\" or str == \"october\" or str == \"december\":\n",
    "        return \"31\"\n",
    "    elif str == \"february\":\n",
    "        return \"28/29\"\n",
    "    else:\n",
    "        return \"30\"\n",
    "str = input(\"Enter month: \")\n",
    "print(f\"No. of days: {noofdays(str)} days\")\n",
    "        "
   ]
  },
  {
   "cell_type": "code",
   "execution_count": null,
   "id": "62940199",
   "metadata": {},
   "outputs": [
    {
     "name": "stdout",
     "output_type": "stream",
     "text": [
      "Binary of 15 is 1111\n",
      "Binary of 1111 is 15\n"
     ]
    }
   ],
   "source": [
    "#Write two functions, one of which converts a binary number to decimal and the other one does the reverse.?\n",
    "def toBinary(n):\n",
    "    binry = 0\n",
    "    posn = 1\n",
    "    while n > 0:\n",
    "        rem = n%2\n",
    "        binry += rem * posn\n",
    "        n = n//2\n",
    "        posn *= 10\n",
    "    return binry\n",
    "\n",
    "decimal = 15\n",
    "print(f\"Binary of {decimal} is {toBinary(decimal)}\")\n",
    "\n",
    "def toDecimal(n):\n",
    "    deci = 0\n",
    "    posn = 1\n",
    "    while n > 0:\n",
    "        d = n%10\n",
    "        deci += d * posn\n",
    "        n = n//10\n",
    "        posn *= 2\n",
    "    return deci\n",
    "\n",
    "binary = 1111\n",
    "print(f\"Binary of {binary} is {toDecimal(binary)}\")"
   ]
  },
  {
   "cell_type": "code",
   "execution_count": 16,
   "id": "58ebd396",
   "metadata": {},
   "outputs": [
    {
     "name": "stdout",
     "output_type": "stream",
     "text": [
      "False\n"
     ]
    }
   ],
   "source": [
    "#Create a function that determines whether a string can be rearranged to form a palindrome.?\n",
    "from collections import Counter\n",
    "\n",
    "def palindrome2(s):\n",
    "    #counts = Counter(s)\n",
    "    #odd = sum(1 for count in counts.values() if count % 2 != 0)\n",
    "    l1 = list(s)\n",
    "    summ = 0\n",
    "    for i in l1:\n",
    "        if l1.count(i) % 2 != 0:\n",
    "            summ += 1\n",
    "\n",
    "    #return odd <= 1\n",
    "    return summ <= 1\n",
    "\n",
    "\n",
    "print(palindrome2(\"ab\"))"
   ]
  },
  {
   "cell_type": "code",
   "execution_count": 28,
   "id": "1d4e760d",
   "metadata": {},
   "outputs": [
    {
     "name": "stdout",
     "output_type": "stream",
     "text": [
      "('2024-09-01', 'Sunday')\n"
     ]
    }
   ],
   "source": [
    "from datetime import datetime, timedelta\n",
    "\n",
    "def future_date(today_date, today_day, days):\n",
    "    days_of_week = [\"Monday\", \"Tuesday\", \"Wednesday\", \"Thursday\", \"Friday\", \"Saturday\", \"Sunday\"]\n",
    "    start_date = datetime.strptime(today_date, \"%Y-%m-%d\")\n",
    "    future_day = (days_of_week.index(today_day.capitalize()) + days) % 7\n",
    "    new_date = start_date + timedelta(days=days)\n",
    "    return new_date.strftime(\"%Y-%m-%d\"), days_of_week[future_day]\n",
    "\n",
    "print(future_date(\"2024-08-27\", \"Tuesday\", 5))"
   ]
  },
  {
   "cell_type": "code",
   "execution_count": 29,
   "id": "94581bd0",
   "metadata": {},
   "outputs": [
    {
     "name": "stdout",
     "output_type": "stream",
     "text": [
      "402\n"
     ]
    }
   ],
   "source": [
    "#Write a program that converts a Roman numeral to its integer equivalent.\n",
    "def romannum(roman):\n",
    "    romans= {'I': 1, 'V': 5, 'X': 10, 'L': 50, 'C': 100, 'D': 500, 'M': 1000}\n",
    "    total, prev = 0, 0\n",
    "    for char in reversed(roman):\n",
    "        current = romans[char]\n",
    "        if current < prev:\n",
    "            total -= current\n",
    "        else:\n",
    "            total += current\n",
    "        prev = current\n",
    "    return total\n",
    "\n",
    "print(romannum(\"CDII\"))"
   ]
  },
  {
   "cell_type": "code",
   "execution_count": 30,
   "id": "96bcd9b8",
   "metadata": {},
   "outputs": [
    {
     "name": "stdout",
     "output_type": "stream",
     "text": [
      "True\n"
     ]
    }
   ],
   "source": [
    "#Write a function to determine if a given number is an Armstrong number. \n",
    "\n",
    "def dhaikillokahath(n):\n",
    "    x = n\n",
    "    c = 0\n",
    "    while(n>0):\n",
    "        n //=10\n",
    "        c += 1\n",
    "    armsum = 0\n",
    "    n = x\n",
    "    while(x>0):\n",
    "        t = x%10\n",
    "        x //= 10\n",
    "        armsum += t**c\n",
    "    return (armsum == n)\n",
    "print(dhaikillokahath(153))"
   ]
  },
  {
   "cell_type": "code",
   "execution_count": null,
   "id": "9af4d3a7",
   "metadata": {},
   "outputs": [
    {
     "name": "stdout",
     "output_type": "stream",
     "text": [
      "6th number in Fibonacci: 8\n"
     ]
    }
   ],
   "source": [
    "#Create a function that returns the nth number in the Fibonacci sequence.\n",
    "\n",
    "def fibnachi(n):\n",
    "    if(n == 0):\n",
    "        return 0\n",
    "    if(n == 1 or n == 2):\n",
    "        return 1\n",
    "    a, b = 0, 1\n",
    "   # for _ in range(n): explain?\n",
    "        a, b = b, a+b\n",
    "    return a\n",
    "\n",
    "print(f\"6th number in Fibonacci: {fibnachi(6)}\")"
   ]
  },
  {
   "cell_type": "code",
   "execution_count": null,
   "id": "efad9891",
   "metadata": {},
   "outputs": [],
   "source": [
    "\n",
    "#16: Basic Calculator\n",
    "def calculator(num1, num2, operator):\n",
    "    if operator == '+':\n",
    "        return num1 + num2\n",
    "    elif operator == '-':\n",
    "        return num1 - num2\n",
    "    elif operator == '*':\n",
    "        return num1 * num2\n",
    "    elif operator == '/':\n",
    "        return num1 / num2 if num2 != 0 else \"Cannot divide by zero\"\n",
    "    else:\n",
    "        return \"Invalid operator\"\n",
    "\n",
    "print(calculator(10, 5, '+'))\n"
   ]
  },
  {
   "cell_type": "code",
   "execution_count": null,
   "id": "7a48a92b",
   "metadata": {},
   "outputs": [],
   "source": [
    "def remove_vowels(text):\n",
    "    vowels = \"aeiouAEIOU\"\n",
    "    return ''.join([char for char in text if char not in vowels])\n",
    "\n",
    "print(remove_vowels(\"hello world\"))\n"
   ]
  },
  {
   "cell_type": "code",
   "execution_count": null,
   "id": "612fdab0",
   "metadata": {},
   "outputs": [],
   "source": [
    "def is_anagram(str1, str2):\n",
    "    return sorted(str1.replace(\" \", \"\").lower()) == sorted(str2.replace(\" \", \"\").lower())\n",
    "\n",
    "print(is_anagram(\"tom marvolo riddle\", \"i am lord voldemort\"))\n"
   ]
  },
  {
   "cell_type": "code",
   "execution_count": null,
   "id": "8a900b1c",
   "metadata": {},
   "outputs": [],
   "source": [
    "def gcd(a, b):\n",
    "    while b:\n",
    "        a, b = b, a % b\n",
    "    return a\n",
    "\n",
    "print(gcd(48, 18))\n"
   ]
  },
  {
   "cell_type": "code",
   "execution_count": null,
   "id": "7f783f74",
   "metadata": {},
   "outputs": [],
   "source": [
    "def print_primes():\n",
    "    for num in range(2, 101):\n",
    "        is_prime = True\n",
    "        for i in range(2, int(num ** 0.5) + 1):\n",
    "            if num % i == 0:\n",
    "                is_prime = False\n",
    "                break\n",
    "        if is_prime:\n",
    "            print(num, end=\" \")\n",
    "\n",
    "print_primes()\n"
   ]
  },
  {
   "cell_type": "code",
   "execution_count": null,
   "id": "85645ab6",
   "metadata": {},
   "outputs": [],
   "source": [
    "def factorial(n):\n",
    "    result = 1\n",
    "    for i in range(2, n + 1):\n",
    "        result *= i\n",
    "    return result\n",
    "\n",
    "print(factorial(5))\n"
   ]
  },
  {
   "cell_type": "code",
   "execution_count": null,
   "id": "f8d30aa1",
   "metadata": {},
   "outputs": [
    {
     "name": "stdout",
     "output_type": "stream",
     "text": [
      "2 5 8 11 14 17 20 23 26 29 "
     ]
    }
   ],
   "source": [
    "def arithmetic_progression(start, diff):\n",
    "    for i in range(10):\n",
    "        print(start + i * diff,5end=\" \")\n",
    "\n",
    "arithmetic_progression(2, 3)"
   ]
  },
  {
   "cell_type": "code",
   "execution_count": 20,
   "id": "221b991f",
   "metadata": {},
   "outputs": [
    {
     "name": "stdout",
     "output_type": "stream",
     "text": [
      "[1, 4, 7]\n"
     ]
    }
   ],
   "source": [
    "def vowel_indices(text):\n",
    "    vowels = \"aeiouAEIOU\"\n",
    "    return [i for i, char in enumerate(text) if char in vowels]\n",
    "\n",
    "print(vowel_indices(\"hello world\"))\n"
   ]
  },
  {
   "cell_type": "code",
   "execution_count": null,
   "id": "f95548be",
   "metadata": {},
   "outputs": [],
   "source": [
    "import string\n",
    "\n",
    "def remove_punctuation(text):\n",
    "    return ''.join([char for char in text if char not in string.punctuation])\n",
    "\n",
    "print(remove_punctuation(\"Hello, world!\"))\n"
   ]
  },
  {
   "cell_type": "code",
   "execution_count": null,
   "id": "e78f6c6c",
   "metadata": {},
   "outputs": [],
   "source": [
    "def are_coprime(a, b):\n",
    "    def gcd(x, y):\n",
    "        while y:\n",
    "            x, y = y, x % y\n",
    "        return x\n",
    "\n",
    "    return gcd(a, b) == 1\n",
    "\n",
    "print(are_coprime(15, 28))\n"
   ]
  },
  {
   "cell_type": "code",
   "execution_count": null,
   "id": "c64cb949",
   "metadata": {},
   "outputs": [],
   "source": [
    "def replace_vowels(text):\n",
    "    vowels = \"aeiouAEIOU\"\n",
    "    return ''.join(['*' if char in vowels else char for char in text])\n",
    "\n",
    "print(replace_vowels(\"hello world\"))\n"
   ]
  },
  {
   "cell_type": "code",
   "execution_count": null,
   "id": "b6c902d5",
   "metadata": {},
   "outputs": [],
   "source": [
    "def digits_to_text(num):\n",
    "    digit_map = [\"zero\", \"one\", \"two\", \"three\", \"four\", \"five\", \"six\", \"seven\", \"eight\", \"nine\"]\n",
    "    return ' '.join([digit_map[int(digit)] for digit in str(num)])\n",
    "\n",
    "print(digits_to_text(123))\n"
   ]
  },
  {
   "cell_type": "code",
   "execution_count": null,
   "id": "b219d937",
   "metadata": {},
   "outputs": [],
   "source": [
    "def shift_alphabet(text):\n",
    "    result = []\n",
    "    for char in text:\n",
    "        if char.isalpha():\n",
    "            shifted = 'a' if char == 'z' else 'A' if char == 'Z' else chr(ord(char) + 1)\n",
    "            result.append(shifted)\n",
    "        else:\n",
    "            result.append(char)\n",
    "    return ''.join(result)\n",
    "\n",
    "print(shift_alphabet(\"pythonzabc\"))\n"
   ]
  },
  {
   "cell_type": "code",
   "execution_count": null,
   "id": "8bf16403",
   "metadata": {},
   "outputs": [],
   "source": [
    "def is_perfect(n):\n",
    "    divisors = [i for i in range(1, n) if n % i == 0]\n",
    "    return sum(divisors) == n\n",
    "\n",
    "print(is_perfect(28))\n"
   ]
  },
  {
   "cell_type": "code",
   "execution_count": null,
   "id": "893526a4",
   "metadata": {},
   "outputs": [],
   "source": [
    "def product_of_digits(num):\n",
    "    product = 1\n",
    "    for digit in str(num):\n",
    "        product *= int(digit)\n",
    "    return product\n",
    "\n",
    "print(product_of_digits(1234))\n"
   ]
  }
 ],
 "metadata": {
  "kernelspec": {
   "display_name": "Python 3 (ipykernel)",
   "language": "python",
   "name": "python3"
  },
  "language_info": {
   "codemirror_mode": {
    "name": "ipython",
    "version": 3
   },
   "file_extension": ".py",
   "mimetype": "text/x-python",
   "name": "python",
   "nbconvert_exporter": "python",
   "pygments_lexer": "ipython3",
   "version": "3.11.4"
  }
 },
 "nbformat": 4,
 "nbformat_minor": 5
}
