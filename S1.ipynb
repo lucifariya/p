{
 "cells": [
  {
   "cell_type": "code",
   "execution_count": null,
   "id": "e1d8a01c",
   "metadata": {},
   "outputs": [],
   "source": [
    "\n",
    "def caesar_cipher(text, shift):\n",
    "    result = ''\n",
    "    for char in text:\n",
    "        if char.isalpha():\n",
    "            shift_base = 65 if char.isupper() else 97\n",
    "            result += chr((ord(char) - shift_base + shift) % 26 + shift_base)\n",
    "        else:\n",
    "            result += char\n",
    "    return result\n",
    "\n",
    "def question_1():\n",
    "    input_string = input(\"Enter a string with special characters, spaces, and numbers: \")\n",
    "    filtered_string = ''.join([char for char in input_string if char.isalpha()])\n",
    "    print(\"Filtered string (only alphabets):\", filtered_string)\n",
    "    shift_value = 3\n",
    "    encrypted_text = caesar_cipher(filtered_string, shift_value)\n",
    "    print(\"Encrypted text:\", encrypted_text)\n",
    "    decrypted_text = caesar_cipher(encrypted_text, -shift_value)\n",
    "    print(\"Decrypted text:\", decrypted_text)\n",
    "\n",
    "question_1()\n"
   ]
  },
  {
   "cell_type": "code",
   "execution_count": null,
   "id": "d9bef2d4",
   "metadata": {},
   "outputs": [],
   "source": [
    "\n",
    "def question_2():\n",
    "    feedback_scores = {\"excellent\": 5, \"good\": 4, \"ok\": 3, \"compromised\": 2, \"poor\": 1}\n",
    "    n = int(input(\"Enter the number of people giving feedback: \"))\n",
    "    feedback = []\n",
    "    for _ in range(n):\n",
    "        feedback_input = input(f\"Enter feedback ({', '.join(feedback_scores.keys())}): \").lower()\n",
    "        feedback.append(feedback_scores.get(feedback_input, 0))\n",
    "    excellent_or_good = sum(1 for score in feedback if score >= 4)\n",
    "    ok = sum(1 for score in feedback if score == 3)\n",
    "    excellent_or_good_percentage = (excellent_or_good / n) * 100\n",
    "    ok_percentage = (ok / n) * 100\n",
    "    if excellent_or_good_percentage > 75:\n",
    "        print(\"3-star hotel\")\n",
    "    elif excellent_or_good_percentage > 50 and ok_percentage > 25:\n",
    "        print(\"2-star hotel\")\n",
    "    elif excellent_or_good_percentage + ok_percentage > 75:\n",
    "        print(\"1-star hotel\")\n",
    "    else:\n",
    "        print(\"No-star hotel\")\n",
    "\n",
    "question_2()\n"
   ]
  }
 ],
 "metadata": {},
 "nbformat": 4,
 "nbformat_minor": 5
}
