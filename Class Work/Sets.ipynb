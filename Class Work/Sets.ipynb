{
 "cells": [
  {
   "cell_type": "code",
   "execution_count": 8,
   "id": "83c1cd5c",
   "metadata": {},
   "outputs": [
    {
     "name": "stdout",
     "output_type": "stream",
     "text": [
      "{'orange', 'yellow', 'green', 'red'}\n",
      "4\n",
      "True\n",
      "orange yellow green red \n",
      "{0, 1, 2, 3, 4, 5, 6, 7, 8, 9}\n",
      "[0, 1, 2, 3, 4, 5, 6, 7, 8, 9]\n"
     ]
    }
   ],
   "source": [
    "#Sets#\n",
    "\n",
    "colors = {\"red\", \"orange\", \"yellow\", \"green\", \"red\"}  #set created\n",
    "print(colors)                                        #printing set\n",
    "print(len(colors))                                   #no. of unique elements\n",
    "print('red' in colors)                               #if element in set (inclusiveness)\n",
    "for color in colors:\n",
    "    print(color, end=' ')                            #iterating will happen randomly as its unordered\n",
    "print()\n",
    "numbers = list(range(10))                            \n",
    "print(set(numbers))                                  #converting list to set\n",
    "print(numbers)"
   ]
  },
  {
   "cell_type": "code",
   "execution_count": 10,
   "id": "03e3c7fd",
   "metadata": {},
   "outputs": [
    {
     "name": "stdout",
     "output_type": "stream",
     "text": [
      "True\n",
      "False\n",
      "True\n",
      "True\n",
      "True\n",
      "True\n"
     ]
    }
   ],
   "source": [
    "#set comparision(unordered)::::::::::::-\n",
    "\n",
    "print({1, 3, 5} == {1, 5, 3})\n",
    "print({1, 3, 5} < {1, 3, 5})              #proper subset\n",
    "print({1, 3, 5} < {1, 3, 5, 7})\n",
    "print({1, 3, 5} <= {1, 5, 3})\n",
    "print({1, 3, 5}.issubset({1, 5, 3}))      #kahiaku subset\n",
    "print({1, 3, 5}.issuperset({1, 5, 3}))"
   ]
  },
  {
   "cell_type": "code",
   "execution_count": 12,
   "id": "cfe062f0",
   "metadata": {},
   "outputs": [
    {
     "name": "stdout",
     "output_type": "stream",
     "text": [
      "{1, 2, 3, 4, 5}\n",
      "{3, 4, 5, 6, 7}\n",
      "{1, 2, 3, 4, 5, 6, 7}\n",
      "{3, 4, 5}\n",
      "{1, 2}\n",
      "{1, 2, 6, 7}\n",
      "False\n"
     ]
    }
   ],
   "source": [
    "#set operation\n",
    "a = {1, 2, 3, 4, 5}\n",
    "b = {3, 4, 5, 6, 7}\n",
    "union = a | b\n",
    "intersection = a & b\n",
    "difference = a - b\n",
    "symmetricdifference = a^b\n",
    "disjoint = a.isdisjoint(b)\n",
    "print(a)\n",
    "print(b)\n",
    "print(union)\n",
    "print(intersection)\n",
    "print(difference)\n",
    "print(symmetricdifference)\n",
    "print(disjoint)"
   ]
  },
  {
   "cell_type": "code",
   "execution_count": 13,
   "id": "e4b219e4",
   "metadata": {},
   "outputs": [
    {
     "name": "stdout",
     "output_type": "stream",
     "text": [
      "{1, 3, 5, 6}\n",
      "{3}\n",
      "{1, 5}\n",
      "{1, 2, 4, 5}\n",
      "False\n"
     ]
    }
   ],
   "source": [
    "print({1, 3, 5} | {1, 3, 6}) #union\n",
    "print({1, 3, 5} & {2, 3, 4}) #intersection\n",
    "print({1, 3, 5} - {2, 3, 4}) #difference\n",
    "print({1, 3, 5} ^ {2, 3, 4}) #symmetric difference\n",
    "print({1, 3, 5}.isdisjoint({2, 3, 4}))"
   ]
  }
 ],
 "metadata": {
  "kernelspec": {
   "display_name": "Python 3 (ipykernel)",
   "language": "python",
   "name": "python3"
  },
  "language_info": {
   "codemirror_mode": {
    "name": "ipython",
    "version": 3
   },
   "file_extension": ".py",
   "mimetype": "text/x-python",
   "name": "python",
   "nbconvert_exporter": "python",
   "pygments_lexer": "ipython3",
   "version": "3.11.4"
  }
 },
 "nbformat": 4,
 "nbformat_minor": 5
}
