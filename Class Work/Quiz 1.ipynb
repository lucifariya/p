{
 "cells": [
  {
   "cell_type": "code",
   "execution_count": 1,
   "id": "3ca5483a",
   "metadata": {},
   "outputs": [
    {
     "name": "stdout",
     "output_type": "stream",
     "text": [
      "36\n"
     ]
    }
   ],
   "source": [
    "x=6\n",
    "if x==2 or 5 or 10:\n",
    "    print(x**2)\n",
    "elif x==6 or 7 or 10:\n",
    "    print(x**3)\n",
    "else:\n",
    "    print(x**4)\n",
    "#x==2 -> False\n",
    "#5 -> True (anything greater than 0 is true)\n",
    "#10 -> true\n",
    "#F or T or T -> True "
   ]
  },
  {
   "cell_type": "code",
   "execution_count": 2,
   "id": "0a3edece",
   "metadata": {},
   "outputs": [
    {
     "name": "stdout",
     "output_type": "stream",
     "text": [
      "2\n"
     ]
    }
   ],
   "source": [
    "n='1010'\n",
    "s=0\n",
    "for i in n:\n",
    "    s=s+int(i)\n",
    "print(s)"
   ]
  },
  {
   "cell_type": "code",
   "execution_count": null,
   "id": "4a9c4ee7",
   "metadata": {},
   "outputs": [
    {
     "name": "stdout",
     "output_type": "stream",
     "text": [
      "1 2 3 "
     ]
    }
   ],
   "source": [
    "i=1\n",
    "while i<=5:\n",
    "    if (i==3):\n",
    "        pass\n",
    "    if (i==4):\n",
    "        continue\n",
    "    print(i, end=' ')\n",
    "    i=i+1"
   ]
  },
  {
   "cell_type": "code",
   "execution_count": 1,
   "id": "f31a177c",
   "metadata": {},
   "outputs": [
    {
     "name": "stdout",
     "output_type": "stream",
     "text": [
      "7\n"
     ]
    }
   ],
   "source": [
    "y=8*3**3//5%9\n",
    "print(y)"
   ]
  },
  {
   "cell_type": "code",
   "execution_count": 2,
   "id": "1c0e4c53",
   "metadata": {},
   "outputs": [
    {
     "name": "stdout",
     "output_type": "stream",
     "text": [
      "True\n"
     ]
    }
   ],
   "source": [
    "x=10>5 or 5/0<10\n",
    "print(x)"
   ]
  },
  {
   "cell_type": "code",
   "execution_count": 3,
   "id": "6e372f9e",
   "metadata": {},
   "outputs": [
    {
     "name": "stdout",
     "output_type": "stream",
     "text": [
      "abc 98\n"
     ]
    }
   ],
   "source": [
    "x=max('a','ab','abc')\n",
    "y=min('a','98')\n",
    "print(x,y)"
   ]
  },
  {
   "cell_type": "code",
   "execution_count": 4,
   "id": "0480923d",
   "metadata": {},
   "outputs": [
    {
     "name": "stdout",
     "output_type": "stream",
     "text": [
      "ITERITER ITERITER\n"
     ]
    }
   ],
   "source": [
    "s='ITER'\n",
    "print(s*2,s+s)"
   ]
  },
  {
   "cell_type": "code",
   "execution_count": null,
   "id": "0c757d23",
   "metadata": {},
   "outputs": [],
   "source": []
  }
 ],
 "metadata": {
  "kernelspec": {
   "display_name": "Python 3 (ipykernel)",
   "language": "python",
   "name": "python3"
  },
  "language_info": {
   "codemirror_mode": {
    "name": "ipython",
    "version": 3
   },
   "file_extension": ".py",
   "mimetype": "text/x-python",
   "name": "python",
   "nbconvert_exporter": "python",
   "pygments_lexer": "ipython3",
   "version": "3.11.4"
  }
 },
 "nbformat": 4,
 "nbformat_minor": 5
}
