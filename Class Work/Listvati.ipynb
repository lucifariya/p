{
 "cells": [
  {
   "cell_type": "code",
   "execution_count": 1,
   "id": "afb21f2e",
   "metadata": {},
   "outputs": [
    {
     "name": "stdout",
     "output_type": "stream",
     "text": [
      "[1, 2, 3]\n",
      "<class 'list'>\n",
      "[4, 5]\n",
      "<class 'list'>\n"
     ]
    }
   ],
   "source": [
    "list1 = list([1,2,3])\n",
    "print(list1)\n",
    "print(type(list1))\n",
    "\n",
    "list2 = [4,5]\n",
    "print(list2)\n",
    "print(type(list2))"
   ]
  },
  {
   "cell_type": "code",
   "execution_count": 2,
   "id": "11fd7522",
   "metadata": {},
   "outputs": [
    {
     "name": "stdout",
     "output_type": "stream",
     "text": [
      "[1, 2, 3, 4]\n"
     ]
    }
   ],
   "source": [
    "list1.append(4)\n",
    "print(list1)"
   ]
  },
  {
   "cell_type": "code",
   "execution_count": 3,
   "id": "fa2a8c28",
   "metadata": {},
   "outputs": [
    {
     "name": "stdout",
     "output_type": "stream",
     "text": [
      "[1, 2, 3, 4, 5, 6]\n"
     ]
    }
   ],
   "source": [
    "list1.extend([5,6])\n",
    "print(list1)"
   ]
  },
  {
   "cell_type": "code",
   "execution_count": 4,
   "id": "02771fe4",
   "metadata": {},
   "outputs": [
    {
     "name": "stdout",
     "output_type": "stream",
     "text": [
      "[1, 10, 2, 3, 4, 5, 6]\n"
     ]
    }
   ],
   "source": [
    "list1.insert(1,10)\n",
    "print(list1)"
   ]
  },
  {
   "cell_type": "code",
   "execution_count": 5,
   "id": "282e8823",
   "metadata": {},
   "outputs": [
    {
     "name": "stdout",
     "output_type": "stream",
     "text": [
      "[1, 2, 3, 4, 5, 6, 10]\n"
     ]
    }
   ],
   "source": [
    "list.sort(list1)\n",
    "print(list1)"
   ]
  },
  {
   "cell_type": "code",
   "execution_count": 6,
   "id": "ffa339f6",
   "metadata": {},
   "outputs": [
    {
     "name": "stdout",
     "output_type": "stream",
     "text": [
      "[1, 2, 3, 5, 6, 10]\n"
     ]
    }
   ],
   "source": [
    "list1.remove(4) #checks element\n",
    "print(list1)"
   ]
  },
  {
   "cell_type": "code",
   "execution_count": 7,
   "id": "7f3219e8",
   "metadata": {},
   "outputs": [
    {
     "name": "stdout",
     "output_type": "stream",
     "text": [
      "3\n",
      "[1, 2, 6, 10]\n"
     ]
    }
   ],
   "source": [
    "list1.pop(3)        #checks index\n",
    "x = list1.pop(2)    #and can also be assigned \n",
    "print(x)\n",
    "print(list1)"
   ]
  },
  {
   "cell_type": "code",
   "execution_count": 8,
   "id": "19b6cc15",
   "metadata": {},
   "outputs": [
    {
     "name": "stdout",
     "output_type": "stream",
     "text": [
      "[]\n"
     ]
    }
   ],
   "source": [
    "list1.clear()\n",
    "print(list1)"
   ]
  },
  {
   "cell_type": "code",
   "execution_count": 1,
   "id": "e2cfe658",
   "metadata": {},
   "outputs": [
    {
     "ename": "NameError",
     "evalue": "name 'list1' is not defined",
     "output_type": "error",
     "traceback": [
      "\u001b[1;31m---------------------------------------------------------------------------\u001b[0m",
      "\u001b[1;31mNameError\u001b[0m                                 Traceback (most recent call last)",
      "Cell \u001b[1;32mIn[1], line 1\u001b[0m\n\u001b[1;32m----> 1\u001b[0m list1\u001b[38;5;241m.\u001b[39mappend(\u001b[38;5;241m1\u001b[39m)\n\u001b[0;32m      2\u001b[0m x \u001b[38;5;241m=\u001b[39m list1\u001b[38;5;241m.\u001b[39mindex(\u001b[38;5;241m0\u001b[39m)\n\u001b[0;32m      3\u001b[0m \u001b[38;5;28mprint\u001b[39m(x)\n",
      "\u001b[1;31mNameError\u001b[0m: name 'list1' is not defined"
     ]
    }
   ],
   "source": [
    "list1.append(1)\n",
    "x = list1.index(0)\n",
    "print(x)\n",
    "print(list1)"
   ]
  },
  {
   "cell_type": "code",
   "execution_count": 10,
   "id": "25c19317",
   "metadata": {},
   "outputs": [
    {
     "name": "stdout",
     "output_type": "stream",
     "text": [
      "3\n",
      "[1, 1, 1, 2, 3, 4, 5, 6]\n"
     ]
    }
   ],
   "source": [
    "list1.extend([1, 1, 2, 3, 4, 5, 6])\n",
    "x = list1.count(1)\n",
    "print(x)\n",
    "print(list1)"
   ]
  },
  {
   "cell_type": "code",
   "execution_count": 11,
   "id": "dd1fa378",
   "metadata": {},
   "outputs": [
    {
     "name": "stdout",
     "output_type": "stream",
     "text": [
      "[6, 5, 4, 3, 2, 1, 1, 1]\n"
     ]
    }
   ],
   "source": [
    "list1.sort(reverse = True)\n",
    "print(list1)"
   ]
  },
  {
   "cell_type": "code",
   "execution_count": 23,
   "id": "3cf38fde",
   "metadata": {},
   "outputs": [
    {
     "name": "stdout",
     "output_type": "stream",
     "text": [
      "List:  [1, 2, 3]\n",
      "type:  <class 'list'>\n",
      "append(4):  [1, 2, 3, 4]\n",
      "extend([5,6]):  [1, 2, 3, 4, 5, 6]\n",
      "insert(1,10):  [1, 10, 2, 3, 4, 5, 6]\n",
      "list.sort(list5):  [1, 2, 3, 4, 5, 6, 10]\n",
      "remove(4):  [1, 2, 3, 5, 6, 10]\n",
      "popped:  3\n",
      "popand:  [1, 2, 6, 10]\n",
      "clear():  []\n",
      "index(1):  0\n",
      "list:  [1]\n",
      "count(1):  3\n",
      "extended:  [1, 1, 1, 2, 3, 4, 5, 6]\n",
      "sort(reverse = True):  [6, 5, 4, 3, 2, 1, 1, 1]\n",
      "reverse():  [1, 1, 1, 2, 3, 4, 5, 6]\n",
      "copy list:  [1, 1, 1, 2, 3, 4, 5, 6]\n",
      "1 in list5?  True\n",
      "Length =  8\n",
      "Max =  6\n",
      "Min =  1\n",
      "Sum =  23\n",
      "list5 + list6:  [1, 1, 1, 2, 3, 4, 5, 6, 1, 1, 1, 2, 3, 4, 5, 6]\n",
      "sum using for loop:  15\n"
     ]
    }
   ],
   "source": [
    "#List: mutable and heterogenous\n",
    "#1\n",
    "list5 = list([1,2,3])\n",
    "print(\"List: \",list5)\n",
    "print(\"type: \",type(list5))\n",
    "\n",
    "#2\n",
    "list5.append(4)\n",
    "print(\"append(4): \", list5)\n",
    "\n",
    "#3\n",
    "list5.extend([5,6])\n",
    "print(\"extend([5,6]): \", list5)\n",
    "\n",
    "#4\n",
    "list5.insert(1,10)\n",
    "print(\"insert(1,10): \", list5)\n",
    "\n",
    "#5\n",
    "list.sort(list5)\n",
    "print(\"list.sort(list5): \", list5)\n",
    "\n",
    "#6\n",
    "list5.remove(4)\n",
    "print(\"remove(4): \",list5)\n",
    "\n",
    "#7\n",
    "list5.pop(3)\n",
    "x = list5.pop(2) \n",
    "print(\"popped: \", x)\n",
    "print(\"popand: \",list5)\n",
    "\n",
    "#8\n",
    "list5.clear()\n",
    "print(\"clear(): \", list5)\n",
    "\n",
    "#9\n",
    "list5.append(1)\n",
    "x = list5.index(1)\n",
    "print(\"index(1): \", x)\n",
    "print(\"list: \", list5)\n",
    "\n",
    "#10\n",
    "list5.extend([1, 1, 2, 3, 4, 5, 6])\n",
    "x = list5.count(1)\n",
    "print(\"count(1): \", x)\n",
    "print(\"extended: \", list5)\n",
    "\n",
    "#11\n",
    "list5.sort(reverse = True)\n",
    "print(\"sort(reverse = True): \", list5)\n",
    "\n",
    "#12\n",
    "list5.reverse()\n",
    "print(\"reverse(): \", list5)\n",
    "\n",
    "#13\n",
    "list6 = list5.copy()\n",
    "print(\"copy list: \", list6)\n",
    "\n",
    "#14\n",
    "print(\"1 in list5? \", 1 in list5)\n",
    "\n",
    "#15\n",
    "print(\"Length = \", len(list5))\n",
    "print(\"Max = \", max(list5))\n",
    "print(\"Min = \", min(list5))\n",
    "print(\"Sum = \", sum(list5))\n",
    "\n",
    "#16\n",
    "list11 = list5 + list6\n",
    "print(\"list5 + list6: \", list11)\n",
    "\n",
    "#17\n",
    "summ = 0\n",
    "for i in [1, 2, 3, 4, 5]:\n",
    "    summ = summ+i\n",
    "print(\"sum using for loop: \", summ)"
   ]
  },
  {
   "cell_type": "code",
   "execution_count": 62,
   "id": "29438d24",
   "metadata": {},
   "outputs": [
    {
     "name": "stdout",
     "output_type": "stream",
     "text": [
      "t1          :  (1, 'abc', 3, 5) \n",
      "t2          :  (2, 'def', 4, 6)\n",
      "index 1     :  abc\n",
      "index of 1  :  0\n",
      "no. of 1s   :  1\n",
      "t1 + (4, 5) :  (1, 'abc', 3, 5, 4, 5)\n",
      "t1*2        :  (1, 'abc', 3, 5, 1, 'abc', 3, 5)\n",
      "1 in t1?    :  True\n",
      "Length      :  4\n",
      "t3          :  (1, 2, 3, 4, 5, 6)\n",
      "Max         :  6\n",
      "Min         :  1\n",
      "Sum         :  21\n"
     ]
    }
   ],
   "source": [
    "#Tuple: immutable and heterogeneous\n",
    "#1\n",
    "t1 = tuple([1, 'abc', 3, 5])\n",
    "t2 = (2, 'def', 4, 6)\n",
    "print(\"t1          : \", t1, \"\\nt2          : \", t2)\n",
    "\n",
    "#2\n",
    "print(\"index 1     : \", t1[1])  #tuplename[index]\n",
    "\n",
    "#3\n",
    "print(\"index of 1  : \", t1.index(1))\n",
    "\n",
    "#4\n",
    "print(\"no. of 1s   : \", t1.count(1))\n",
    "\n",
    "#5\n",
    "print(\"t1 + (4, 5) : \", t1 + (4, 5))\n",
    "\n",
    "#6\n",
    "print(\"t1*2        : \", t1*2)\n",
    "\n",
    "#7\n",
    "print(\"1 in t1?    : \", 1 in t1)\n",
    "\n",
    "#8\n",
    "print(\"Length      : \", len(t1))\n",
    "\n",
    "#9\n",
    "#print(\"Max = \", max(t1))\n",
    "#print(\"Min = \", min(t1))   no work cuz diff datatypes\n",
    "#print(\"Sum = \", sum(t1))\n",
    "t3 = (1, 2, 3, 4, 5, 6)\n",
    "print(\"t3          : \", t3)\n",
    "print(\"Max         : \", max(t3))\n",
    "print(\"Min         : \", min(t3))   #work\n",
    "print(\"Sum         : \", sum(t3))\n",
    "\n",
    "#10\n",
    "#append, remove, insert doesn't work as it is immutable"
   ]
  },
  {
   "cell_type": "code",
   "execution_count": null,
   "id": "4f2ecab5",
   "metadata": {},
   "outputs": [
    {
     "name": "stdout",
     "output_type": "stream",
     "text": [
      "l1[2:6]    =  [3, 4, 5, 6]\n",
      "l1[2: ]    =  [3, 4, 5, 6, 7, 8]\n",
      "l1[ :3]    =  [1, 2, 3]\n",
      "l1[ : ]    =  [1, 2, 3, 4, 5, 6, 7, 8]\n",
      "l1[2:6:2]  =  [3, 5]\n",
      "l1[ : :-1] =  [8, 7, 6, 5, 4, 3, 2, 1]\n",
      "l1[ : :-2] =  [8, 6, 4, 2]\n"
     ]
    }
   ],
   "source": [
    "#Slicing [start index included : end index excluded : step size]\n",
    "l1 = [1, 2, 3, 4, 5, 6, 7, 8]\n",
    "print(\"l1[2:6]    = \", l1[2:6])\n",
    "print(\"l1[2: ]    = \", l1[2: ])\n",
    "print(\"l1[ :3]    = \", l1[ :3])\n",
    "print(\"l1[ : ]    = \", l1[ : ])\n",
    "print(\"l1[2:6:2]  = \", l1[2:6:2])\n",
    "print(\"l1[ : :-1] = \", l1[ : :-1])\n",
    "print(\"l1[ : :-2] = \", l1[ : :-2])"
   ]
  },
  {
   "cell_type": "code",
   "execution_count": 66,
   "id": "727efa6a",
   "metadata": {},
   "outputs": [
    {
     "name": "stdout",
     "output_type": "stream",
     "text": [
      "Namaiwa? Aayush\n",
      "hsuyaA\n"
     ]
    }
   ],
   "source": [
    "#reverse a string using slicing\n",
    "strr = (input(\"Namaiwa? \"))\n",
    "str1 = strr[::-1]\n",
    "print(\"reversed: \", str1)"
   ]
  },
  {
   "cell_type": "code",
   "execution_count": 69,
   "id": "00129070",
   "metadata": {},
   "outputs": [
    {
     "name": "stdout",
     "output_type": "stream",
     "text": [
      "Enter number: 123323\n",
      "Plaind-stay at home\n"
     ]
    }
   ],
   "source": [
    "#check palindrome using slicing\n",
    "num = (input(\"Enter number: \"))\n",
    "nam = num[::-1]\n",
    "if num == nam:\n",
    "    print(\"Palind-rome\")\n",
    "else:\n",
    "    print(\"Plaind-stay at home\")"
   ]
  },
  {
   "cell_type": "code",
   "execution_count": null,
   "id": "9cfca06e",
   "metadata": {},
   "outputs": [
    {
     "name": "stdout",
     "output_type": "stream",
     "text": [
      "l2:  [1, 2, 3, 4, 5, 6, 7, 8]\n",
      "l2:  [1, 2, 4, 5, 6, 7, 8]\n",
      "l2:  [1, 2, 4, 5, 6, 7]\n",
      "l2:  [1, 2, 6, 7]\n"
     ]
    }
   ],
   "source": [
    "#del statement\n",
    "l2 = [1, 2, 3, 4, 5, 6, 7, 8]\n",
    "print(\"l2: \", l2)\n",
    "\n",
    "del l2[2]\n",
    "print(\"l2: \", l2)  #index 2 deleted\n",
    "\n",
    "del l2[-1]  \n",
    "print(\"l2: \", l2)  #last digit deleted\n",
    "\n",
    "del l2[2:4]\n",
    "print(\"l2: \", l2)  #index 3 & 4 deleted (start index included & end index excluded)"
   ]
  },
  {
   "cell_type": "code",
   "execution_count": 73,
   "id": "a49fecd8",
   "metadata": {},
   "outputs": [
    {
     "name": "stdout",
     "output_type": "stream",
     "text": [
      "l2*2 =  [2, 8, 12, 14]\n"
     ]
    }
   ],
   "source": [
    "#WAP to multiply each element of l2 by 2.\n",
    "\n",
    "for i in range(len(l2)):\n",
    "    l2[i] *= 2\n",
    "    \n",
    "print(\"l2*2 = \", l2)"
   ]
  },
  {
   "cell_type": "code",
   "execution_count": 6,
   "id": "b3a91684",
   "metadata": {},
   "outputs": [
    {
     "name": "stdout",
     "output_type": "stream",
     "text": [
      "2, 4, "
     ]
    }
   ],
   "source": [
    "#wap to find common elements between two lists\n",
    "list1=[1,2,3,4,5,6]\n",
    "list2=[7,8,9,2,10,4,9]\n",
    "for i in list1:\n",
    "    for j in list2:\n",
    "        if i == j:\n",
    "            print(i, end=\", \")"
   ]
  },
  {
   "cell_type": "code",
   "execution_count": 19,
   "id": "536c419e",
   "metadata": {},
   "outputs": [
    {
     "name": "stdout",
     "output_type": "stream",
     "text": [
      "[1, 4, 3, 2]\n"
     ]
    }
   ],
   "source": [
    "#wap to remove duplicate elements from a list(better not to use another list)\n",
    "l1 = [1, 2, 3, 4, 3, 3, 2]\n",
    "\n",
    "for i in reversed(l1):\n",
    "    if l1.count(i) > 1:\n",
    "        l1.remove(i)\n",
    "        \n",
    "print(l1)"
   ]
  },
  {
   "cell_type": "code",
   "execution_count": 17,
   "id": "60e5d0bf",
   "metadata": {},
   "outputs": [
    {
     "name": "stdout",
     "output_type": "stream",
     "text": [
      "Second Largest Element:  8\n"
     ]
    }
   ],
   "source": [
    "#wap to find second largest element from a list\n",
    "lt = [1, 2, 3, 4, 5, 6, 7, 8, 9]\n",
    "lt.sort(reverse = True)\n",
    "print(\"Second Largest Element: \", lt[1])"
   ]
  },
  {
   "cell_type": "code",
   "execution_count": null,
   "id": "2629af49",
   "metadata": {},
   "outputs": [],
   "source": []
  }
 ],
 "metadata": {
  "kernelspec": {
   "display_name": "Python 3 (ipykernel)",
   "language": "python",
   "name": "python3"
  },
  "language_info": {
   "codemirror_mode": {
    "name": "ipython",
    "version": 3
   },
   "file_extension": ".py",
   "mimetype": "text/x-python",
   "name": "python",
   "nbconvert_exporter": "python",
   "pygments_lexer": "ipython3",
   "version": "3.11.4"
  }
 },
 "nbformat": 4,
 "nbformat_minor": 5
}
