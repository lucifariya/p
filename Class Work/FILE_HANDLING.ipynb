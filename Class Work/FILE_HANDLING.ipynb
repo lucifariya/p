{
 "cells": [
  {
   "cell_type": "code",
   "execution_count": 1,
   "id": "8e87db33",
   "metadata": {},
   "outputs": [],
   "source": [
    "file=open('abc.txt','w')\n",
    "file.write('Hello World')\n",
    "file.close()\n"
   ]
  },
  {
   "cell_type": "code",
   "execution_count": 2,
   "id": "00cbb789",
   "metadata": {},
   "outputs": [
    {
     "name": "stdout",
     "output_type": "stream",
     "text": [
      "Hello World\n"
     ]
    }
   ],
   "source": [
    "f=open('abc.txt','r')\n",
    "print(f.read())"
   ]
  },
  {
   "cell_type": "code",
   "execution_count": 3,
   "id": "eebe51bd",
   "metadata": {},
   "outputs": [],
   "source": [
    "file=open('abc.txt','a')\n",
    "file.write('\\nHow r u')\n",
    "file.close()"
   ]
  },
  {
   "cell_type": "code",
   "execution_count": 4,
   "id": "dffd5302",
   "metadata": {},
   "outputs": [
    {
     "name": "stdout",
     "output_type": "stream",
     "text": [
      "How r u\n"
     ]
    }
   ],
   "source": [
    "f=open('abc.txt','r+')#read and write ,doen't override\n",
    "f.write(\"All the best\")\n",
    "print(f.read())"
   ]
  },
  {
   "cell_type": "code",
   "execution_count": 5,
   "id": "bdd9b466",
   "metadata": {},
   "outputs": [
    {
     "name": "stdout",
     "output_type": "stream",
     "text": [
      "\n"
     ]
    }
   ],
   "source": [
    "f=open('abc.txt','w+')#read and write ,does override\n",
    "f.write(\"ALL the \")\n",
    "print(f.read())"
   ]
  },
  {
   "cell_type": "code",
   "execution_count": 56,
   "id": "b58af3da",
   "metadata": {},
   "outputs": [
    {
     "name": "stdout",
     "output_type": "stream",
     "text": [
      "ALL the \n",
      "\n",
      "best \n",
      "\n",
      "you are\n",
      "\n"
     ]
    }
   ],
   "source": [
    "f=open('abc.txt','r+')\n",
    "d=f.readlines()\n",
    "for i in d:\n",
    "    print(i)"
   ]
  },
  {
   "cell_type": "code",
   "execution_count": 9,
   "id": "3a445d0d",
   "metadata": {},
   "outputs": [],
   "source": [
    "#19/12/2024\n",
    "#writing onto a file:\n",
    "\n",
    "with open('accounts.txt', mode='w') as accounts:\n",
    "    accounts.write('100 Jones 24.98\\n')\n",
    "    accounts.write('200 Doe 345.67\\n')\n",
    "    accounts.write('300 White 0.00\\n')\n",
    "    accounts.write('400 Stone -42.16\\n')\n",
    "    accounts.write('500 Rich 224.62\\n')"
   ]
  },
  {
   "cell_type": "code",
   "execution_count": 6,
   "id": "dbd23bef",
   "metadata": {},
   "outputs": [],
   "source": [
    "#each time pura overwrite haba. another method:\n",
    "\n",
    "with open('accounts.txt', mode='w') as accounts:\n",
    "    print('100 Joned 24.98', file=accounts)\n",
    "    print('200 Does 345.67', file=accounts)\n",
    "    print('300 Black 0.00', file=accounts)\n",
    "    print('400 Stones -42.16', file=accounts)\n",
    "    print('500 Sike 224.62', file=accounts)"
   ]
  },
  {
   "cell_type": "code",
   "execution_count": 12,
   "id": "3a5d373d",
   "metadata": {},
   "outputs": [
    {
     "name": "stdout",
     "output_type": "stream",
     "text": [
      "Account   Name         Balance\n",
      "100       Jones          24.98\n",
      "200       Doe           345.67\n",
      "300       White           0.00\n",
      "400       Stone         -42.16\n",
      "500       Rich          224.62\n"
     ]
    }
   ],
   "source": [
    "#reading\n",
    "\n",
    "with open('accounts.txt', mode='r') as ac:\n",
    "    print(f'{\"Account\":<10}{\"Name\":<10}{\"Balance\":>10}')\n",
    "    for record in ac:\n",
    "        account, name, balance = record.split()\n",
    "        print(f'{account:<10}{name:<10}{balance:>10}')"
   ]
  },
  {
   "cell_type": "code",
   "execution_count": 11,
   "id": "5d4bdbd0",
   "metadata": {},
   "outputs": [],
   "source": [
    "#updating\n",
    "\n",
    "accounts = open('accounts.txt', 'r')\n",
    "\n",
    "temp_file = open('temp_file.txt', 'w')\n",
    "\n",
    "with accounts, temp_file:\n",
    "    for record in accounts:\n",
    "        account, name, balance = record.split()\n",
    "        if account != '300':\n",
    "            temp_file.write(record)\n",
    "        else:\n",
    "            new_record = ' '.join([account, 'Williams', balance])\n",
    "            temp_file.write(new_record + '\\n')"
   ]
  },
  {
   "cell_type": "code",
   "execution_count": 13,
   "id": "885e59c0",
   "metadata": {},
   "outputs": [],
   "source": [
    "accounts = open('accounts.txt', 'r')\n",
    "\n",
    "temp_file = open('temp_file.txt', 'w')\n",
    "\n",
    "with accounts, temp_file:\n",
    "    for record in accounts:\n",
    "        account, name, balance = record.split()\n",
    "        if name != 'Doe':\n",
    "            temp_file.write(record)\n",
    "        else:\n",
    "            new_record = ' '.join([account, 'Smith', balance])\n",
    "            temp_file.write(new_record + '\\n')"
   ]
  },
  {
   "cell_type": "code",
   "execution_count": null,
   "id": "f3b89b83",
   "metadata": {},
   "outputs": [],
   "source": []
  }
 ],
 "metadata": {
  "kernelspec": {
   "display_name": "Python 3 (ipykernel)",
   "language": "python",
   "name": "python3"
  },
  "language_info": {
   "codemirror_mode": {
    "name": "ipython",
    "version": 3
   },
   "file_extension": ".py",
   "mimetype": "text/x-python",
   "name": "python",
   "nbconvert_exporter": "python",
   "pygments_lexer": "ipython3",
   "version": "3.11.4"
  }
 },
 "nbformat": 4,
 "nbformat_minor": 5
}
