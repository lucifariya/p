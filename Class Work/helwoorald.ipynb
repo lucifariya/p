{
 "cells": [
  {
   "cell_type": "code",
   "execution_count": 1,
   "id": "b7a8ceaa",
   "metadata": {},
   "outputs": [
    {
     "data": {
      "text/plain": [
       "8"
      ]
     },
     "execution_count": 1,
     "metadata": {},
     "output_type": "execute_result"
    }
   ],
   "source": [
    "5+3\n"
   ]
  },
  {
   "cell_type": "code",
   "execution_count": 12,
   "id": "922c500a",
   "metadata": {},
   "outputs": [
    {
     "name": "stdout",
     "output_type": "stream",
     "text": [
      "enter 1st value: 10\n",
      "enter 2nd value: 20\n"
     ]
    }
   ],
   "source": [
    "x = int(input(\"enter 1st value: \"))\n",
    "y = int(input(\"enter 2nd value: \"))"
   ]
  },
  {
   "cell_type": "code",
   "execution_count": 13,
   "id": "afb678c2",
   "metadata": {},
   "outputs": [],
   "source": [
    "z=x+y"
   ]
  },
  {
   "cell_type": "code",
   "execution_count": 14,
   "id": "9e84f2b3",
   "metadata": {},
   "outputs": [
    {
     "name": "stdout",
     "output_type": "stream",
     "text": [
      "the sum of 10 and 20 is: 30\n"
     ]
    }
   ],
   "source": [
    "print(\"the sum of\",x,\"and\",y,\"is:\", z)"
   ]
  },
  {
   "cell_type": "code",
   "execution_count": 28,
   "id": "f21d517e",
   "metadata": {},
   "outputs": [
    {
     "name": "stdout",
     "output_type": "stream",
     "text": [
      "enter number: 3\n"
     ]
    }
   ],
   "source": [
    "a = int(input(\"enter number: \"))"
   ]
  },
  {
   "cell_type": "code",
   "execution_count": 29,
   "id": "e805a4dc",
   "metadata": {},
   "outputs": [
    {
     "name": "stdout",
     "output_type": "stream",
     "text": [
      "odd\n"
     ]
    }
   ],
   "source": [
    "if(a%2==0):\n",
    "    print(\"even\")\n",
    "else:\n",
    "    print(\"odd\")"
   ]
  },
  {
   "cell_type": "code",
   "execution_count": 30,
   "id": "8975e1f8",
   "metadata": {},
   "outputs": [
    {
     "name": "stdout",
     "output_type": "stream",
     "text": [
      "is 3 even? False\n"
     ]
    }
   ],
   "source": [
    "print(\"is\",a,\"even?\",a%2==0)"
   ]
  },
  {
   "cell_type": "code",
   "execution_count": 31,
   "id": "6a462d14",
   "metadata": {},
   "outputs": [
    {
     "name": "stdout",
     "output_type": "stream",
     "text": [
      "is 3 even? False\n"
     ]
    }
   ],
   "source": [
    "res = (a%2==0)\n",
    "print(\"is\",a,\"even?\",res)"
   ]
  },
  {
   "cell_type": "code",
   "execution_count": 32,
   "id": "14744177",
   "metadata": {},
   "outputs": [
    {
     "name": "stdout",
     "output_type": "stream",
     "text": [
      "enter principle:20000\n",
      "enter rate of interest:8\n",
      "enter duration:2\n"
     ]
    }
   ],
   "source": [
    "p = int(input(\"enter principle:\"))\n",
    "r = ((int(input(\"enter rate of interest:\")))/100)\n",
    "t = int(input(\"enter duration:\"))"
   ]
  },
  {
   "cell_type": "code",
   "execution_count": 33,
   "id": "3462e3bb",
   "metadata": {},
   "outputs": [],
   "source": [
    "interest = p*r*t\n",
    "tots = p+interest"
   ]
  },
  {
   "cell_type": "code",
   "execution_count": 34,
   "id": "50622612",
   "metadata": {},
   "outputs": [
    {
     "name": "stdout",
     "output_type": "stream",
     "text": [
      "interest is 3200.0 & total amount is 23200.0\n"
     ]
    }
   ],
   "source": [
    "print(\"interest is\",interest,\"& total amount is\",tots)"
   ]
  },
  {
   "cell_type": "code",
   "execution_count": 35,
   "id": "7d2540bd",
   "metadata": {},
   "outputs": [
    {
     "name": "stdout",
     "output_type": "stream",
     "text": [
      "enter temp in celcius:38\n"
     ]
    }
   ],
   "source": [
    "C = float(input(\"enter temp in celcius:\"))"
   ]
  },
  {
   "cell_type": "code",
   "execution_count": 38,
   "id": "a4527612",
   "metadata": {},
   "outputs": [],
   "source": [
    "F = (((9/5)*C)+32)"
   ]
  },
  {
   "cell_type": "code",
   "execution_count": 39,
   "id": "42706d96",
   "metadata": {},
   "outputs": [
    {
     "name": "stdout",
     "output_type": "stream",
     "text": [
      "Temp in Farhenheit is: 100.4\n"
     ]
    }
   ],
   "source": [
    "print(\"Temp in Farhenheit is:\" , F)"
   ]
  },
  {
   "cell_type": "code",
   "execution_count": null,
   "id": "5f715189",
   "metadata": {},
   "outputs": [],
   "source": []
  }
 ],
 "metadata": {
  "kernelspec": {
   "display_name": "Python 3 (ipykernel)",
   "language": "python",
   "name": "python3"
  },
  "language_info": {
   "codemirror_mode": {
    "name": "ipython",
    "version": 3
   },
   "file_extension": ".py",
   "mimetype": "text/x-python",
   "name": "python",
   "nbconvert_exporter": "python",
   "pygments_lexer": "ipython3",
   "version": "3.11.4"
  }
 },
 "nbformat": 4,
 "nbformat_minor": 5
}
