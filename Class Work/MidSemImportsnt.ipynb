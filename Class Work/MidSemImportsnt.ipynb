{
 "cells": [
  {
   "cell_type": "code",
   "execution_count": 2,
   "id": "d134755e",
   "metadata": {},
   "outputs": [
    {
     "name": "stdout",
     "output_type": "stream",
     "text": [
      "[0, 1, 4, 9, 16, 25, 36, 49, 64, 81, 100, 121, 144, 169, 196, 225, 256, 289, 324, 361, 400, 441, 484, 529, 576, 625, 676, 729, 784, 841, 900, 961, 1024, 1089, 1156, 1225, 1296, 1369, 1444, 1521, 1600, 1681, 1764, 1849, 1936, 2025, 2116, 2209, 2304, 2401]\n",
      "\n",
      " ['apple', 'banana', 'mango']\n"
     ]
    }
   ],
   "source": [
    "#List Comprehension:\n",
    "squares = [x**2 for x in range(50)]\n",
    "print(squares)\n",
    "\n",
    "fruits = [\"apple\", \"banana\", \"cherry\", \"kiwi\", \"mango\"]\n",
    "newlist = [x for x in fruits if \"a\" in x] #can be more complex\n",
    "print(\"\\n\", newlist)"
   ]
  },
  {
   "cell_type": "code",
   "execution_count": 6,
   "id": "0cdba43e",
   "metadata": {},
   "outputs": [
    {
     "name": "stdout",
     "output_type": "stream",
     "text": [
      "[0, 1, 4, 9, 16, 25, 36, 49, 64, 81, 100, 121, 144, 169, 196, 225, 256, 289, 324, 361, 400, 441, 484, 529, 576, 625, 676, 729, 784, 841, 900, 961, 1024, 1089, 1156, 1225, 1296, 1369, 1444, 1521, 1600, 1681, 1764, 1849, 1936, 2025, 2116, 2209, 2304, 2401]\n",
      "\n",
      " ['k', 'e', 'e', 'g']\n"
     ]
    }
   ],
   "source": [
    "#List Generator:\n",
    "rectangles = (x**2 for x in range(50))\n",
    "print(list(rectangles))\n",
    "\n",
    "#ex2:\n",
    "string = 'geek'\n",
    "li = list(string[i] for i in range(len(string)-1, -1, -1))\n",
    "print(\"\\n\", li)"
   ]
  },
  {
   "cell_type": "code",
   "execution_count": 12,
   "id": "f11a00da",
   "metadata": {},
   "outputs": [
    {
     "name": "stdout",
     "output_type": "stream",
     "text": [
      "472\n",
      "208\n"
     ]
    }
   ],
   "source": [
    "import sys\n",
    "print(sys.getsizeof(squares)) #comprehension reserves full potentially required memory initially\n",
    "print(sys.getsizeof(rectangles)) #whereas generator reserves the memory after calculations so less size"
   ]
  },
  {
   "cell_type": "code",
   "execution_count": 23,
   "id": "6101d946",
   "metadata": {},
   "outputs": [
    {
     "name": "stdout",
     "output_type": "stream",
     "text": [
      "7\n",
      "600\n",
      "Odd number\n"
     ]
    }
   ],
   "source": [
    "#Lambda Expression: used for creating small functions\n",
    "\n",
    "add = lambda x, y: x + y   #fname = lambda arguments: task\n",
    "print(add(3, 4))\n",
    "\n",
    "sumofevens = lambda x: sum(i for i in range(x) if i % 2 == 0)\n",
    "print(sumofevens(50))\n",
    "\n",
    "iseven = lambda x: (x % 2 and 'Odd number' or 'Even number')\n",
    "print(iseven(7))"
   ]
  },
  {
   "cell_type": "code",
   "execution_count": 29,
   "id": "8e605350",
   "metadata": {},
   "outputs": [
    {
     "name": "stdout",
     "output_type": "stream",
     "text": [
      "[2, 4]\n"
     ]
    }
   ],
   "source": [
    "#filter():-\n",
    "l1 = [1, 2, 3, 4, 5]\n",
    "even1 = list(filter(lambda x: x%2==0, l1))\n",
    "print(even1)"
   ]
  },
  {
   "cell_type": "code",
   "execution_count": 27,
   "id": "d0fdb92c",
   "metadata": {},
   "outputs": [
    {
     "name": "stdout",
     "output_type": "stream",
     "text": [
      "[True, False, True, False, True]\n",
      "[2, 4, 6, 8, 10]\n"
     ]
    }
   ],
   "source": [
    "#map():-\n",
    "l2 = [1, 2, 3, 4, 5]\n",
    "odd1 = list(map(lambda x: x%2!=0, l2))\n",
    "print(odd1)\n",
    "doubly = list(map(lambda x: x*2, l2))\n",
    "print(doubly)"
   ]
  },
  {
   "cell_type": "code",
   "execution_count": 31,
   "id": "7d1a9c78",
   "metadata": {},
   "outputs": [
    {
     "name": "stdout",
     "output_type": "stream",
     "text": [
      "120\n"
     ]
    }
   ],
   "source": [
    "#reduce():-\n",
    "from functools import reduce\n",
    "l3 = [1, 2, 3, 4, 5]\n",
    "product = reduce(lambda x, y: x*y, l3)\n",
    "print(product)"
   ]
  },
  {
   "cell_type": "code",
   "execution_count": 34,
   "id": "b4d117ee",
   "metadata": {},
   "outputs": [
    {
     "name": "stdout",
     "output_type": "stream",
     "text": [
      "[('abc', 25), ('def', 30), ('ghi', 35), ('jkl', 40)]\n",
      "<class 'zip'>\n"
     ]
    }
   ],
   "source": [
    "#zip(): combines multiple iterables into a tuple\n",
    "names = ['abc', 'def', 'ghi', 'jkl']\n",
    "ages = [25, 30, 35, 40]\n",
    "zipped = list(zip(names, ages))\n",
    "print(zipped)\n",
    "print(type(zip(names, ages)))"
   ]
  },
  {
   "cell_type": "code",
   "execution_count": 37,
   "id": "7b3194fa",
   "metadata": {},
   "outputs": [
    {
     "name": "stdout",
     "output_type": "stream",
     "text": [
      "[[5, 2], [3, 4]]\n",
      "[[5, 2], [3, 4]]\n",
      "8885128\n",
      "8885128\n"
     ]
    }
   ],
   "source": [
    "#shallow copy:-\n",
    "import copy\n",
    "original = [[1,2], [3, 4]]\n",
    "scopy = copy.copy(original)\n",
    "scopy[0][0] = 5\n",
    "print(original)\n",
    "print(scopy)\n",
    "print(id(scopy[0][0]))\n",
    "print(id(original[0][0])) #shallow structure is coppied hence new memeory not assigned"
   ]
  },
  {
   "cell_type": "code",
   "execution_count": 3,
   "id": "f49e166c",
   "metadata": {},
   "outputs": [
    {
     "name": "stdout",
     "output_type": "stream",
     "text": [
      "140736140622264\n",
      "140736140622264\n"
     ]
    }
   ],
   "source": [
    "#deep copy:-\n",
    "original1 = [[1,2], [3, 4]]\n",
    "dcopy = original1\n",
    "# dcopy[0][0] = 5\n",
    "# print(original1)\n",
    "# print(dcopy)\n",
    "print(id(dcopy[0][0]))\n",
    "print(id(original1[0][0])) #deep structure is coppied and assigned to new memory"
   ]
  },
  {
   "cell_type": "code",
   "execution_count": null,
   "id": "8b872d80",
   "metadata": {},
   "outputs": [],
   "source": []
  }
 ],
 "metadata": {
  "kernelspec": {
   "display_name": "Python 3 (ipykernel)",
   "language": "python",
   "name": "python3"
  },
  "language_info": {
   "codemirror_mode": {
    "name": "ipython",
    "version": 3
   },
   "file_extension": ".py",
   "mimetype": "text/x-python",
   "name": "python",
   "nbconvert_exporter": "python",
   "pygments_lexer": "ipython3",
   "version": "3.11.4"
  }
 },
 "nbformat": 4,
 "nbformat_minor": 5
}
