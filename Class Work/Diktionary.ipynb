{
 "cells": [
  {
   "cell_type": "code",
   "execution_count": 1,
   "id": "732a630d",
   "metadata": {},
   "outputs": [
    {
     "name": "stdout",
     "output_type": "stream",
     "text": [
      "{'Finland': 'fi', 'Africa': 'af', 'Nepal': 'np'}\n"
     ]
    }
   ],
   "source": [
    "#Dictionary:- key : value\n",
    "\n",
    "#Creation:\n",
    "codes = {'Finland':'fi', 'Africa':'af', 'Nepal':'np'}\n",
    "print(codes)"
   ]
  },
  {
   "cell_type": "code",
   "execution_count": 2,
   "id": "acb84336",
   "metadata": {},
   "outputs": [
    {
     "name": "stdout",
     "output_type": "stream",
     "text": [
      "empty\n"
     ]
    }
   ],
   "source": [
    "#check empty\n",
    "codwa = {}\n",
    "if codwa:\n",
    "    print(\"not empty\")\n",
    "else:\n",
    "    print(\"empty\")"
   ]
  },
  {
   "cell_type": "code",
   "execution_count": 3,
   "id": "51c2fa6d",
   "metadata": {},
   "outputs": [
    {
     "name": "stdout",
     "output_type": "stream",
     "text": [
      "fi\n"
     ]
    }
   ],
   "source": [
    "#Accessing:-\n",
    "print(codes['Finland'])"
   ]
  },
  {
   "cell_type": "code",
   "execution_count": 4,
   "id": "88277e8d",
   "metadata": {},
   "outputs": [
    {
     "name": "stdout",
     "output_type": "stream",
     "text": [
      "Finland has code: fi\n",
      "Africa has code: af\n",
      "Nepal has code: np\n"
     ]
    }
   ],
   "source": [
    "#iterating through a dictionary:-\n",
    "for country,code in codes.items():          #for var1,var2 in dictname.items():\n",
    "    print(f\"{country} has code: {code}\")          #var1 retrieves key, var2 retrieves value"
   ]
  },
  {
   "cell_type": "code",
   "execution_count": 5,
   "id": "854c2858",
   "metadata": {},
   "outputs": [
    {
     "name": "stdout",
     "output_type": "stream",
     "text": [
      "{'Finland': 'Fn', 'Africa': 'af', 'Nepal': 'np'}\n"
     ]
    }
   ],
   "source": [
    "#updating:-\n",
    "codes['Finland'] = 'Fn' #OLD KEY VALUE BOLE TO UPDATING\n",
    "print(codes)"
   ]
  },
  {
   "cell_type": "code",
   "execution_count": 6,
   "id": "096f05ad",
   "metadata": {},
   "outputs": [
    {
     "name": "stdout",
     "output_type": "stream",
     "text": [
      "{'Finland': 'Fn', 'Africa': 'af', 'Nepal': 'np', 'USA': 'Us'}\n",
      "{'Finland': 'Fn', 'Africa': 'af', 'Nepal': 'np', 'USA': 'Us', 'India': 'In'}\n"
     ]
    }
   ],
   "source": [
    "#adding:-\n",
    "codes['USA'] = 'Us' #NEW KEY VALUE BOLE TO ADDING\n",
    "print(codes)\n",
    "codes['India'] = 'In' \n",
    "print(codes)"
   ]
  },
  {
   "cell_type": "code",
   "execution_count": 7,
   "id": "6ec8958f",
   "metadata": {},
   "outputs": [
    {
     "name": "stdout",
     "output_type": "stream",
     "text": [
      "{'Finland': 'Fn', 'Africa': 'af', 'Nepal': 'np', 'India': 'In'}\n"
     ]
    }
   ],
   "source": [
    "#deletion:-\n",
    "del codes['USA']\n",
    "print(codes)"
   ]
  },
  {
   "cell_type": "code",
   "execution_count": 8,
   "id": "dd45ba4d",
   "metadata": {},
   "outputs": [
    {
     "name": "stdout",
     "output_type": "stream",
     "text": [
      "{'John': [85, 75, 90], 'Alex': [91, 53, 74], 'Joy': [82, 61, 79]}\n",
      "Avergae grade of John is 83.33\n",
      "Avergae grade of Alex is 72.67\n",
      "Avergae grade of Joy is 74.00\n"
     ]
    }
   ],
   "source": [
    "'''print average grade of each student using one dictionary and one for statement\n",
    "Name   grade1   grade2   grade3\n",
    "John     85       75       90\n",
    "Alex     91       53       74\n",
    "Joy      82       61       79'''\n",
    "\n",
    "student = {'John':[85, 75, 90], 'Alex':[91, 53, 74], 'Joy':[82, 61, 79]}\n",
    "print(student)\n",
    "for n, L in student.items():\n",
    "    avg = sum(L)/len(L)\n",
    "    print(f\"Avergae grade of {n} is {avg:.2f}\")"
   ]
  },
  {
   "cell_type": "code",
   "execution_count": 9,
   "id": "7bf4f781",
   "metadata": {},
   "outputs": [
    {
     "name": "stdout",
     "output_type": "stream",
     "text": [
      "{'Finland': 'Fn', 'Africa': 'af', 'Nepal': 'np', 'India': 'In'}\n",
      "{'Fn': 'Finland', 'af': 'Africa', 'np': 'Nepal', 'In': 'India'}\n"
     ]
    }
   ],
   "source": [
    "'''WAP to swap keys and values of a dictionary usinf for loop'''\n",
    "\n",
    "print(codes)\n",
    "codet = {}\n",
    "for x,y in codes.items():\n",
    "    codet[y] = x\n",
    "print(codet)\n",
    "\n",
    "#or:\n",
    "#codes = {v:k for k,v in codes.items()}"
   ]
  },
  {
   "cell_type": "code",
   "execution_count": 10,
   "id": "89162055",
   "metadata": {},
   "outputs": [
    {
     "name": "stdout",
     "output_type": "stream",
     "text": [
      "True\n"
     ]
    }
   ],
   "source": [
    "'''Create 2 dictionaries with same items but diff order.\n",
    "Apply '==' operator b/w them'''\n",
    "\n",
    "code1 = codes\n",
    "code2 = {'Africa': 'af','Finland': 'Fn', 'Nepal': 'np', 'India': 'In'}\n",
    "print(code1==code2)\n",
    "#dictionary is an unordered list of items"
   ]
  },
  {
   "cell_type": "code",
   "execution_count": 14,
   "id": "eab2a716",
   "metadata": {},
   "outputs": [
    {
     "name": "stdout",
     "output_type": "stream",
     "text": [
      "Highest marks is bagged by: Aayush\n"
     ]
    }
   ],
   "source": [
    "'''WAP to create dict of student name and mark(total).\n",
    "Display name of student having maxm mark'''\n",
    "\n",
    "st = {'Joy': '90', 'Bruhemian': '89', 'Aayush': '95'}\n",
    "def highest(d):\n",
    "    d = {v:k for k,v in d.items()}\n",
    "    print(\"Highest marks is bagged by:\", d[max(d)])\n",
    "highest(st)"
   ]
  },
  {
   "cell_type": "code",
   "execution_count": 25,
   "id": "3611fd28",
   "metadata": {},
   "outputs": [
    {
     "name": "stdout",
     "output_type": "stream",
     "text": [
      "[('Joy', '90'), ('Bruhemian', '89'), ('Aayush', '95')]\n",
      "<class 'list'>\n",
      "{'Joy': '90', 'Bruhemian': '89', 'Aayush': '95'}\n",
      "<class 'dict'>\n"
     ]
    }
   ],
   "source": [
    "'''Convert a dict into list of tuples and revert the operation W/O tuple() and dict() functions'''\n",
    "\n",
    "L1 = list(zip(st, st.values()))\n",
    "print(L1)\n",
    "print(type(L1))\n",
    "\n",
    "S2 = {x:y for x,y in L1}\n",
    "print(S2)\n",
    "print(type(S2))"
   ]
  },
  {
   "cell_type": "code",
   "execution_count": null,
   "id": "885edf46",
   "metadata": {},
   "outputs": [],
   "source": []
  }
 ],
 "metadata": {
  "kernelspec": {
   "display_name": "Python 3 (ipykernel)",
   "language": "python",
   "name": "python3"
  },
  "language_info": {
   "codemirror_mode": {
    "name": "ipython",
    "version": 3
   },
   "file_extension": ".py",
   "mimetype": "text/x-python",
   "name": "python",
   "nbconvert_exporter": "python",
   "pygments_lexer": "ipython3",
   "version": "3.11.4"
  }
 },
 "nbformat": 4,
 "nbformat_minor": 5
}
