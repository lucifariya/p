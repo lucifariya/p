{
 "cells": [
  {
   "cell_type": "code",
   "execution_count": 1,
   "id": "3f2df3e5",
   "metadata": {},
   "outputs": [
    {
     "name": "stdout",
     "output_type": "stream",
     "text": [
      "a =  7 \n",
      "b =  7\n"
     ]
    }
   ],
   "source": [
    "#3.2\n",
    "a = b = 7\n",
    "print('a = ', a, '\\nb = ', b)"
   ]
  },
  {
   "cell_type": "code",
   "execution_count": 2,
   "id": "14fac769",
   "metadata": {},
   "outputs": [
    {
     "name": "stdout",
     "output_type": "stream",
     "text": [
      ">>>>>>>>>>\n",
      "<<<<<<<<<<\n",
      ">>>>>>>>>>\n",
      "<<<<<<<<<<\n",
      ">>>>>>>>>>\n",
      "<<<<<<<<<<\n",
      ">>>>>>>>>>\n",
      "<<<<<<<<<<\n",
      ">>>>>>>>>>\n",
      "<<<<<<<<<<\n"
     ]
    }
   ],
   "source": [
    "#3.3\n",
    "for row in range(10):\n",
    "    for column in range(10):\n",
    "        print('<' if row % 2 == 1 else '>', end = '')\n",
    "    print()"
   ]
  },
  {
   "cell_type": "code",
   "execution_count": 5,
   "id": "716e1b94",
   "metadata": {},
   "outputs": [
    {
     "name": "stdout",
     "output_type": "stream",
     "text": [
      "@@@@@@@\n",
      "@@@@@@@\n"
     ]
    }
   ],
   "source": [
    "#3.4\n",
    "for row in range(2):\n",
    "    for column in range(7):\n",
    "        print('@', end='')\n",
    "    print()"
   ]
  },
  {
   "cell_type": "code",
   "execution_count": 7,
   "id": "9a5127c7",
   "metadata": {},
   "outputs": [
    {
     "name": "stdout",
     "output_type": "stream",
     "text": [
      " number square   cube\n",
      "      0      0      0\n",
      "      1      1      1\n",
      "      2      4      8\n",
      "      3      9     27\n",
      "      4     16     64\n",
      "      5     25    125\n"
     ]
    }
   ],
   "source": [
    "#3.7\n",
    "print(f'{\"number\":>7}{\"square\":>7}{\"cube\":>7}')\n",
    "for number in range(6):\n",
    "    square = number*number\n",
    "    cube = number**3\n",
    "    print(f'{number:>7}{square:>7}{cube:>7}')  \n",
    "# '>' for right indent & '<' for left indent; 7 indicates no. of spaces to reserve"
   ]
  },
  {
   "cell_type": "code",
   "execution_count": 9,
   "id": "2bd087e5",
   "metadata": {},
   "outputs": [
    {
     "name": "stdout",
     "output_type": "stream",
     "text": [
      "Enter 5-digit number:12345\n",
      "54321\n",
      "Palind-stay at home\n"
     ]
    }
   ],
   "source": [
    "#3.12: Write a script that reads in a five-digit integer and determines if it's palindrome\n",
    "num = int(input(\"Enter 5-digit number:\"))\n",
    "a = num\n",
    "rev = 0\n",
    "while(num > 0):\n",
    "    temp = num%10\n",
    "    rev = (rev*10) + temp\n",
    "    num = num//10\n",
    "print(rev)\n",
    "if(a == rev):\n",
    "    print(\"Palind-rome\")\n",
    "else:\n",
    "    print(\"Palind-stay at home\")"
   ]
  },
  {
   "cell_type": "code",
   "execution_count": 35,
   "id": "f5d45bb1",
   "metadata": {},
   "outputs": [
    {
     "name": "stdout",
     "output_type": "stream",
     "text": [
      "Enter Limit:10000\n",
      "Enter value to check:3.141\n",
      "Enter no. of decimal points for it:3\n",
      "Iterations:  917\n",
      "Estimated Value:  3.1405009508583017\n",
      "After Rounding:  3.141\n"
     ]
    }
   ],
   "source": [
    "#3.14: approximating the mathematical constant pi using the series: pi = 4 - 4/3 + 4/5 - 4/7 + 4/9 - 4/11 + ...\n",
    "count = 1\n",
    "pi = 4\n",
    "limit = int(input(\"Enter Limit: \"))\n",
    "check = float(input(\"Enter value to check: \"))\n",
    "upto = int(input(\"Enter no. of decimal points for it: \"))\n",
    "for i in range(3, limit, 2):\n",
    "    if(count%2 == 0):\n",
    "        pi += 4/i\n",
    "        count = count + 1\n",
    "    else:\n",
    "        pi -= 4/i\n",
    "        count = count + 1\n",
    "    if(round(pi,upto) == check): #update round and pi value to check for 3.141, 3.1415, and no. of for iteration\n",
    "        break\n",
    "print(\"Iterations: \", count+1)\n",
    "print(\"Estimated Value: \", pi)\n",
    "pi = round(pi, upto)\n",
    "print(\"After Rounding: \", pi)"
   ]
  },
  {
   "cell_type": "code",
   "execution_count": 41,
   "id": "7c1c2c11",
   "metadata": {},
   "outputs": [
    {
     "name": "stdout",
     "output_type": "stream",
     "text": [
      "2.7182818011463845\n",
      "2.718281828459045\n"
     ]
    }
   ],
   "source": [
    "#3.15: approximating the mathematical constant e\n",
    "import math\n",
    "e = 1\n",
    "for i in range(1, 11):\n",
    "    ifact = 1\n",
    "    for j in range(1, i+1):\n",
    "        ifact *= j\n",
    "    e += 1/ifact\n",
    "    if(e == math.e): \n",
    "        break\n",
    "print(e)\n",
    "print(math.e)"
   ]
  },
  {
   "cell_type": "code",
   "execution_count": 48,
   "id": "7c0c6fbe",
   "metadata": {},
   "outputs": [
    {
     "name": "stdout",
     "output_type": "stream",
     "text": [
      "Enter a number: 1\n",
      "Enter a number: 2\n",
      "Enter a number: 3\n",
      "Enter a number: 4\n",
      "Enter a number: 5\n",
      "Enter a number: 6\n",
      "Enter a number: 7\n",
      "Enter a number: 8\n",
      "Enter a number: 9\n",
      "Enter a number: 10\n",
      "Largest number: 10\n",
      "Second largest number: 9\n"
     ]
    }
   ],
   "source": [
    "#3.16: using nested control statements find two largest values of 10 numbers entered.\n",
    "l1 = 0\n",
    "l2 = 0\n",
    "\n",
    "for i in range(10):\n",
    "  num = int(input(\"Enter a number: \"))\n",
    "\n",
    "  if num > l1:\n",
    "    l2 = l1\n",
    "    l1 = num\n",
    "  elif num > l2:\n",
    "    l2 = num\n",
    "\n",
    "print(\"Largest number:\", l1)\n",
    "print(\"Second largest number:\", l2)"
   ]
  },
  {
   "cell_type": "code",
   "execution_count": 1,
   "id": "d3b538f2",
   "metadata": {},
   "outputs": [
    {
     "name": "stdout",
     "output_type": "stream",
     "text": [
      "*\n",
      "**\n",
      "***\n",
      "****\n",
      "*****\n",
      "******\n",
      "*******\n",
      "********\n",
      "*********\n",
      "**********\n",
      "***********\n",
      "\n",
      "**********\n",
      "*********\n",
      "********\n",
      "*******\n",
      "******\n",
      "*****\n",
      "****\n",
      "***\n",
      "**\n",
      "*\n",
      "\n",
      "**********\n",
      " *********\n",
      "  ********\n",
      "   *******\n",
      "    ******\n",
      "     *****\n",
      "      ****\n",
      "       ***\n",
      "        **\n",
      "         *\n",
      "\n",
      "           \n",
      "          *\n",
      "         **\n",
      "        ***\n",
      "       ****\n",
      "      *****\n",
      "     ******\n",
      "    *******\n",
      "   ********\n",
      "  *********\n",
      " **********\n"
     ]
    }
   ],
   "source": [
    "#3.17: \n",
    "for row in range(11):\n",
    "    for column in range(row+1):\n",
    "        print('*', end='')\n",
    "    print()\n",
    "print()\n",
    "for rows in range(10, 0, -1):\n",
    "    for columns in range(1, rows + 1):\n",
    "        print('*', end='')\n",
    "    print()\n",
    "print()\n",
    "for rowa in range (10, 0, -1):\n",
    "    print((10-rowa) * \" \" + rowa * '*')\n",
    "print()\n",
    "for rowi in range (11, 0, -1):\n",
    "    print((rowi) * \" \" + (11-rowi) * '*')"
   ]
  },
  {
   "cell_type": "code",
   "execution_count": null,
   "id": "6edf8f21",
   "metadata": {},
   "outputs": [
    {
     "name": "stdout",
     "output_type": "stream",
     "text": [
      "* * * * * \n",
      "*       * \n",
      "*       * \n",
      "*       * \n",
      "* * * * * \n"
     ]
    }
   ],
   "source": [
    "n = 5\n",
    "x = \"* \"\n",
    "print(x*n)\n",
    "for i in range(n-2):\n",
    "    y = \" \"\n",
    "    print(x, y*(n-1), x)\n",
    "print(x*n)"
   ]
  },
  {
   "cell_type": "code",
   "execution_count": 71,
   "id": "1b7e06f8",
   "metadata": {},
   "outputs": [
    {
     "name": "stdout",
     "output_type": "stream",
     "text": [
      "3   4   5\n",
      "5   12   13\n",
      "6   8   10\n",
      "8   15   17\n",
      "9   12   15\n",
      "12   16   20\n"
     ]
    }
   ],
   "source": [
    "#3.19 Bruteforce computing pythagorean triples\n",
    "for i in range(1,21):\n",
    "    for j in range(i,21):\n",
    "        for k in range(j,21):\n",
    "            if((i**2+j**2) == k**2):\n",
    "                print(i,\" \", j, \" \", k)"
   ]
  },
  {
   "cell_type": "code",
   "execution_count": 66,
   "id": "ffa91c4f",
   "metadata": {},
   "outputs": [
    {
     "name": "stdout",
     "output_type": "stream",
     "text": [
      "Enter binary: 1101\n",
      "Decimal =  13\n"
     ]
    }
   ],
   "source": [
    "#3.20 BINARY TO DECIMAL\n",
    "binu = int(input(\"Enter binary: \"))\n",
    "powu = 0\n",
    "decu = 0\n",
    "while(binu > 0):\n",
    "    temp = binu%10\n",
    "    decu += temp * (2**powu)\n",
    "    powu = powu+1\n",
    "    binu = binu//10\n",
    "print(\"Decimal = \", decu)"
   ]
  },
  {
   "cell_type": "code",
   "execution_count": 73,
   "id": "106dde13",
   "metadata": {},
   "outputs": [
    {
     "name": "stdout",
     "output_type": "stream",
     "text": [
      "year\texpected\n",
      "1 \t 8.544\n",
      "2 \t 9.124992\n",
      "3 \t 9.745491456000002\n",
      "4 \t 10.408184875008002\n",
      "5 \t 11.115941446508547\n",
      "6 \t 11.87182546487113\n",
      "7 \t 12.679109596482366\n",
      "8 \t 13.541289049043169\n",
      "9 \t 14.462096704378105\n",
      "10 \t 15.445519280275816\n",
      "11 \t 16.49581459133457\n",
      "12 \t 17.617529983545325\n",
      "13 \t 18.815522022426407\n",
      "14 \t 20.094977519951406\n",
      "15 \t 21.4614359913081\n",
      "16 \t 22.920813638717053\n",
      "17 \t 24.479428966149815\n",
      "18 \t 26.144030135848002\n",
      "19 \t 27.92182418508567\n",
      "20 \t 29.820508229671496\n",
      "21 \t 31.84830278928916\n",
      "22 \t 34.01398737896083\n",
      "23 \t 36.32693852073017\n",
      "24 \t 38.797170340139814\n",
      "25 \t 41.43537792326933\n",
      "26 \t 44.252983622051644\n",
      "27 \t 47.26218650835116\n",
      "28 \t 50.47601519091904\n",
      "29 \t 53.908384223901535\n",
      "30 \t 57.57415435112684\n",
      "31 \t 61.48919684700348\n",
      "32 \t 65.67046223259972\n",
      "33 \t 70.1360536644165\n",
      "34 \t 74.90530531359683\n",
      "35 \t 79.99886607492141\n",
      "36 \t 85.43878896801607\n",
      "37 \t 91.24862661784117\n",
      "38 \t 97.45353322785438\n",
      "39 \t 104.08037348734848\n",
      "40 \t 111.15783888448819\n",
      "41 \t 118.71657192863339\n",
      "42 \t 126.78929881978047\n",
      "43 \t 135.41097113952554\n",
      "44 \t 144.6189171770133\n",
      "45 \t 154.4530035450502\n",
      "46 \t 164.9558077861136\n",
      "47 \t 176.17280271556936\n",
      "48 \t 188.15255330022808\n",
      "49 \t 200.9469269246436\n",
      "50 \t 214.61131795551938\n",
      "51 \t 229.2048875764947\n",
      "52 \t 244.79081993169638\n",
      "53 \t 261.43659568705175\n",
      "54 \t 279.2142841937713\n",
      "55 \t 298.2008555189477\n",
      "56 \t 318.4785136942362\n",
      "57 \t 340.1350526254443\n",
      "58 \t 363.2642362039745\n",
      "59 \t 387.9662042658448\n",
      "60 \t 414.34790615592226\n",
      "61 \t 442.52356377452503\n",
      "62 \t 472.61516611119276\n",
      "63 \t 504.7529974067539\n",
      "64 \t 539.0762012304132\n",
      "65 \t 575.7333829140813\n",
      "66 \t 614.8832529522389\n",
      "67 \t 656.6953141529912\n",
      "68 \t 701.3505955153946\n",
      "69 \t 749.0424360104414\n",
      "70 \t 799.9773216591515\n",
      "71 \t 854.3757795319739\n",
      "72 \t 912.4733325401481\n",
      "73 \t 974.5215191528782\n",
      "74 \t 1040.788982455274\n",
      "75 \t 1111.5626332622328\n",
      "76 \t 1187.1488923240647\n",
      "77 \t 1267.875017002101\n",
      "78 \t 1354.090518158244\n",
      "79 \t 1446.1686733930048\n",
      "80 \t 1544.508143183729\n",
      "81 \t 1649.5346969202228\n",
      "82 \t 1761.703056310798\n",
      "83 \t 1881.4988641399325\n",
      "84 \t 2009.440786901448\n",
      "85 \t 2146.0827604107467\n",
      "86 \t 2292.0163881186772\n",
      "87 \t 2447.8735025107476\n",
      "88 \t 2614.3289006814784\n",
      "89 \t 2792.1032659278194\n",
      "90 \t 2981.9662880109113\n",
      "91 \t 3184.7399955956535\n",
      "92 \t 3401.302315296158\n",
      "93 \t 3632.590872736297\n",
      "94 \t 3879.6070520823655\n",
      "95 \t 4143.420331623966\n",
      "96 \t 4425.172914174396\n",
      "97 \t 4726.084672338256\n",
      "98 \t 5047.458430057257\n",
      "99 \t 5390.685603301151\n",
      "100 \t 5757.25222432563\n"
     ]
    }
   ],
   "source": [
    "#3.27 world population growth\n",
    "p = 8\n",
    "g = 0.068\n",
    "print(\"year\"\"\\t\"\"expected\")\n",
    "for y in range(1, 101):\n",
    "    cp = p*(1+g)**y\n",
    "    print(y,\"\\t\",cp)"
   ]
  },
  {
   "cell_type": "code",
   "execution_count": null,
   "id": "c61280f5",
   "metadata": {},
   "outputs": [],
   "source": []
  }
 ],
 "metadata": {
  "kernelspec": {
   "display_name": "Python 3 (ipykernel)",
   "language": "python",
   "name": "python3"
  },
  "language_info": {
   "codemirror_mode": {
    "name": "ipython",
    "version": 3
   },
   "file_extension": ".py",
   "mimetype": "text/x-python",
   "name": "python",
   "nbconvert_exporter": "python",
   "pygments_lexer": "ipython3",
   "version": "3.11.4"
  }
 },
 "nbformat": 4,
 "nbformat_minor": 5
}
