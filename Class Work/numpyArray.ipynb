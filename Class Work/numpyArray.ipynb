{
 "cells": [
  {
   "cell_type": "code",
   "execution_count": 1,
   "id": "cb68ec8d",
   "metadata": {},
   "outputs": [
    {
     "data": {
      "text/plain": [
       "'\\nSteps:-\\n1: Type on google \"Numpy Documentation\"\\n2: Click on lates version\\n3: Click on API Reference\\n\\nNumpy & Panda is used for input/processing type operations\\nMatplotlib us used for output\\nfor processing - Sklearn, tensorflow, pytouch\\n'"
      ]
     },
     "execution_count": 1,
     "metadata": {},
     "output_type": "execute_result"
    }
   ],
   "source": [
    "'''\n",
    "Steps:-\n",
    "1: Type on google \"Numpy Documentation\"\n",
    "2: Click on lates version\n",
    "3: Click on API Reference\n",
    "\n",
    "Numpy & Panda is used for input/processing type operations\n",
    "Matplotlib us used for output\n",
    "for processing - Sklearn, tensorflow, pytouch\n",
    "'''"
   ]
  },
  {
   "cell_type": "code",
   "execution_count": 2,
   "id": "3f8e6af5",
   "metadata": {},
   "outputs": [
    {
     "name": "stdout",
     "output_type": "stream",
     "text": [
      "<class 'numpy.ndarray'>\n",
      "1\n",
      "(6,)\n",
      "[ 1  2  3  5  7 10]\n"
     ]
    }
   ],
   "source": [
    "import numpy as np\n",
    "\n",
    "numbers = np.array([1, 2, 3, 5, 7, 10])\n",
    "print(type(numbers))\n",
    "print(numbers.ndim)     #dimension of array\n",
    "print(numbers.shape)    #no. of rows and columns\n",
    "print(numbers)"
   ]
  },
  {
   "cell_type": "code",
   "execution_count": 3,
   "id": "750fc1fb",
   "metadata": {},
   "outputs": [
    {
     "name": "stdout",
     "output_type": "stream",
     "text": [
      "<class 'numpy.ndarray'>\n",
      "This is a 2D Array.\n",
      "(2, 3)\n",
      "[[ 1  2  3]\n",
      " [ 5  7 10]]\n"
     ]
    }
   ],
   "source": [
    "num = np.array([[1, 2, 3], [5, 7, 10]])\n",
    "print(type(num))\n",
    "print(f\"This is a {num.ndim}D Array.\")     #dimension of array\n",
    "print(num.shape)                           #no. of rows and columns\n",
    "print(num)"
   ]
  },
  {
   "cell_type": "code",
   "execution_count": 4,
   "id": "8a0b4733",
   "metadata": {},
   "outputs": [
    {
     "name": "stdout",
     "output_type": "stream",
     "text": [
      "71\n",
      "91\n",
      "83.22222222222223\n",
      "\n",
      "[78 82 71]\n",
      "[91 89 87]\n",
      "[83.33333333 85.33333333 81.        ]\n",
      "\n",
      "[78 81 71]\n",
      "[85 87 91]\n",
      "[81.66666667 84.33333333 83.66666667]\n"
     ]
    }
   ],
   "source": [
    "grades = np.array([[78, 82, 85], [81, 85, 87], [91, 89, 71]]) #one row is 1 student having marks of 3 subjects\n",
    "\n",
    "print(grades.min())     #lowest marks in school\n",
    "print(grades.max())     #highest in school\n",
    "print(grades.mean())    #school avergae\n",
    "print()\n",
    "print(grades.min(axis = 0))     #min for each subject\n",
    "print(grades.max(axis = 0))     #max for each subject\n",
    "print(grades.mean(axis = 0))    #average for each subject\n",
    "print()\n",
    "print(grades.min(axis = 1))     #min for each student\n",
    "print(grades.max(axis = 1))     #max for each student\n",
    "print(grades.mean(axis = 1))    #average for each student"
   ]
  },
  {
   "cell_type": "code",
   "execution_count": 5,
   "id": "da4d2590",
   "metadata": {},
   "outputs": [
    {
     "name": "stdout",
     "output_type": "stream",
     "text": [
      "Before array:  [78 82 85 73 81 85 87 91 92 91 89 71]\n",
      "Shape of array:  (12,) \n",
      "\n",
      "After array:  [[[78 82]\n",
      "  [85 73]\n",
      "  [81 85]]\n",
      "\n",
      " [[87 91]\n",
      "  [92 91]\n",
      "  [89 71]]]\n",
      "Shape of array:  (2, 3, 2)\n"
     ]
    }
   ],
   "source": [
    "grade = np.array([78, 82, 85, 73, 81, 85, 87, 91, 92, 91, 89, 71]) \n",
    "print(\"Before array: \", grade)\n",
    "print(\"Shape of array: \", grade.shape, \"\\n\")\n",
    "grade = grade.reshape(2, 3, 2)\n",
    "print(\"After array: \", grade)\n",
    "print(\"Shape of array: \", grade.shape)"
   ]
  },
  {
   "cell_type": "code",
   "execution_count": 6,
   "id": "abb1c3a6",
   "metadata": {},
   "outputs": [
    {
     "data": {
      "text/plain": [
       "\"\\nNumpy Array Attributes:- \\n\\nndarray.flags    : Information about the memory layout of the array.\\nndarray.shape    : Tuple of array dimensions.\\nndarray.strides  : Tuple of bytes to step in each dimension when traversing an array.\\nndarray.ndim     : Number of array dimensions.\\nndarray.data     : Python buffer object pointing to the start of the array's data.\\nndarray.size     : Number of elements in the array.\\nndarray.itemsize : Length of one array element in bytes.\\nndarray.nbytes   : Total bytes consumed by the elements of the array.\\nndarray.base     : Base object if memory is from some other object.\\nndarray.dtype    : Data-type of the array's elements.\\nndarray.T        : View of the transposed array.\\nndarray.real     : The real part of the array.\\nndarray.imag     : The imaginary part of the array.\\nndarray.flat     : A 1-D iterator over the array.\""
      ]
     },
     "execution_count": 6,
     "metadata": {},
     "output_type": "execute_result"
    }
   ],
   "source": [
    "'''\n",
    "Numpy Array Attributes:- \n",
    "\n",
    "ndarray.flags    : Information about the memory layout of the array.\n",
    "ndarray.shape    : Tuple of array dimensions.\n",
    "ndarray.strides  : Tuple of bytes to step in each dimension when traversing an array.\n",
    "ndarray.ndim     : Number of array dimensions.\n",
    "ndarray.data     : Python buffer object pointing to the start of the array's data.\n",
    "ndarray.size     : Number of elements in the array.\n",
    "ndarray.itemsize : Length of one array element in bytes.\n",
    "ndarray.nbytes   : Total bytes consumed by the elements of the array.\n",
    "ndarray.base     : Base object if memory is from some other object.\n",
    "ndarray.dtype    : Data-type of the array's elements.\n",
    "ndarray.T        : View of the transposed array.\n",
    "ndarray.real     : The real part of the array.\n",
    "ndarray.imag     : The imaginary part of the array.\n",
    "ndarray.flat     : A 1-D iterator over the array.'''"
   ]
  },
  {
   "cell_type": "code",
   "execution_count": 7,
   "id": "1a1235c5",
   "metadata": {},
   "outputs": [
    {
     "name": "stdout",
     "output_type": "stream",
     "text": [
      "ndarray.flags      :   C_CONTIGUOUS : True\n",
      "  F_CONTIGUOUS : False\n",
      "  OWNDATA : True\n",
      "  WRITEABLE : True\n",
      "  ALIGNED : True\n",
      "  WRITEBACKIFCOPY : False\n",
      "\n",
      "ndarray.shape      : (2, 3)\n",
      "ndarray.strides    : (24, 8)\n",
      "ndarray.ndim       : 2\n",
      "ndarray.data       : <memory at 0x75d6c61a8c70>\n",
      "ndarray.size       : 6\n",
      "ndarray.itemsize   : 8\n",
      "ndarray.nbytes     : 48\n",
      "ndarray.base       : None\n",
      "ndarray.dtype      : int64\n",
      "ndarray.T          : [[1 4]\n",
      " [2 5]\n",
      " [3 6]]\n",
      "ndarray.real       : [[1 2 3]\n",
      " [4 5 6]]\n",
      "ndarray.imag       : [[0 0 0]\n",
      " [0 0 0]]\n",
      "ndarray.flat       : <numpy.flatiter object at 0x34bbf10>\n"
     ]
    }
   ],
   "source": [
    "arr = np.array([[1, 2, 3], [4, 5, 6]])\n",
    "\n",
    "print(\"ndarray.flags      :\", arr.flags)\n",
    "print(\"ndarray.shape      :\", arr.shape)\n",
    "print(\"ndarray.strides    :\", arr.strides)\n",
    "print(\"ndarray.ndim       :\", arr.ndim)\n",
    "print(\"ndarray.data       :\", arr.data)\n",
    "print(\"ndarray.size       :\", arr.size)\n",
    "print(\"ndarray.itemsize   :\", arr.itemsize)\n",
    "print(\"ndarray.nbytes     :\", arr.nbytes)\n",
    "print(\"ndarray.base       :\", arr.base)\n",
    "print(\"ndarray.dtype      :\", arr.dtype)\n",
    "print(\"ndarray.T          :\", arr.T)\n",
    "print(\"ndarray.real       :\", arr.real)\n",
    "print(\"ndarray.imag       :\", arr.imag)\n",
    "print(\"ndarray.flat       :\", arr.flat)"
   ]
  },
  {
   "cell_type": "code",
   "execution_count": 8,
   "id": "af9a3d00",
   "metadata": {},
   "outputs": [
    {
     "name": "stdout",
     "output_type": "stream",
     "text": [
      "[0. 0. 0. 0. 0.] \n",
      "\n",
      "[[1. 1.]\n",
      " [1. 1.]\n",
      " [1. 1.]\n",
      " [1. 1.]\n",
      " [1. 1.]] \n",
      "\n",
      "[[12 12]\n",
      " [12 12]\n",
      " [12 12]] \n",
      "\n",
      "[0 1 2 3 4] \n",
      "\n",
      "[ 2.  6. 10.] \n",
      "\n"
     ]
    }
   ],
   "source": [
    "a = np.zeros(5)\n",
    "print(a, \"\\n\")\n",
    "# np.zeros(5) creates an array of 5 elements, all initialized to 0.\n",
    "# The argument (5) specifies the size of the array.\n",
    "\n",
    "b = np.ones((5, 2))\n",
    "print(b, \"\\n\")\n",
    "# np.ones((5, 2)) creates a 5x2 array filled with ones.\n",
    "# The argument (5, 2) specifies the shape of the array (5 rows, 2 columns).\n",
    "\n",
    "c = np.full((3, 2), 12)\n",
    "print(c, \"\\n\")\n",
    "# np.full((3, 2), 12) creates a 3x2 array where each element is initialized to the value 12.\n",
    "# The first argument (3, 2) specifies the shape of the array.\n",
    "# The second argument (12) is the value that fills the array.\n",
    "\n",
    "d = np.arange(5)\n",
    "print(d, \"\\n\")\n",
    "# np.arange(5) creates an array of evenly spaced values, starting from 0 up to (but not including) 5.\n",
    "# The argument (5) specifies the endpoint (exclusive), and by default, the step size is 1.\n",
    "\n",
    "e = np.linspace(2, 10 ,3) #(start, end, step)\n",
    "print(e, \"\\n\")\n",
    "# np.linspace(2, 10, 3) creates an array of 3 evenly spaced values between 2 and 10 (inclusive).\n",
    "# The first argument (2) specifies the starting point.\n",
    "# The second argument (10) specifies the endpoint (inclusive).\n",
    "# The third argument (3) specifies the number of values to generate,\n",
    "#                                      which are evenly spaced between the start and end points."
   ]
  },
  {
   "cell_type": "code",
   "execution_count": 9,
   "id": "98b14bf5",
   "metadata": {},
   "outputs": [
    {
     "name": "stdout",
     "output_type": "stream",
     "text": [
      "Reshape to 3x2:\n",
      " [[1 2]\n",
      " [3 4]\n",
      " [5 6]]\n",
      "\n",
      "Reshape to 6x1:\n",
      " [[1]\n",
      " [2]\n",
      " [3]\n",
      " [4]\n",
      " [5]\n",
      " [6]]\n",
      "\n",
      "Reshape to 1x6:\n",
      " [[1 2 3 4 5 6]]\n",
      "\n",
      "Reshape to 2x3 (same as original):\n",
      " [[1 2 3]\n",
      " [4 5 6]]\n",
      "\n",
      "Reshape using -1 for automatic dimension (2 columns):\n",
      " [[1 2]\n",
      " [3 4]\n",
      " [5 6]]\n"
     ]
    }
   ],
   "source": [
    "arr = np.array([[1, 2, 3], [4, 5, 6]])\n",
    "\n",
    "# 1. Reshape to 3x2\n",
    "arr_reshape1 = arr.reshape(3, 2)\n",
    "print(\"Reshape to 3x2:\\n\", arr_reshape1)\n",
    "\n",
    "# 2. Reshape to 6x1\n",
    "arr_reshape2 = arr.reshape(6, 1)\n",
    "print(\"\\nReshape to 6x1:\\n\", arr_reshape2)\n",
    "\n",
    "# 3. Reshape to 1x6\n",
    "arr_reshape3 = arr.reshape(1, 6)\n",
    "print(\"\\nReshape to 1x6:\\n\", arr_reshape3)\n",
    "\n",
    "# 4. Reshape to 2x3 (same as original)\n",
    "arr_reshape4 = arr.reshape(2, 3)\n",
    "print(\"\\nReshape to 2x3 (same as original):\\n\", arr_reshape4)\n",
    "\n",
    "# 5. Reshape using -1 for automatic dimension calculation (2 columns)\n",
    "arr_reshape5 = arr.reshape(-1, 2)\n",
    "print(\"\\nReshape using -1 for automatic dimension (2 columns):\\n\", arr_reshape5)\n"
   ]
  },
  {
   "cell_type": "code",
   "execution_count": 10,
   "id": "fb4f4fa2",
   "metadata": {},
   "outputs": [
    {
     "name": "stdout",
     "output_type": "stream",
     "text": [
      "matrix multiplication:\n",
      " [[ 80  70  60  50]\n",
      " [240 214 188 162]\n",
      " [400 358 316 274]\n",
      " [560 502 444 386]]\n"
     ]
    }
   ],
   "source": [
    "#WAP to multiply two 3x4 matrices using numpy functions\n",
    "\n",
    "a = np.array([[1, 2, 3, 4], [5, 6, 7, 8], [9, 10, 11, 12], [13, 14, 15, 16]])\n",
    "b = np.array([[16, 15, 14, 13], [12, 11, 10, 9], [8, 7, 6, 5], [4, 3, 2, 1]])\n",
    "prod = np.dot(a, b)\n",
    "print(\"matrix multiplication:\\n\", prod)"
   ]
  },
  {
   "cell_type": "code",
   "execution_count": 14,
   "id": "61279c28",
   "metadata": {},
   "outputs": [
    {
     "name": "stdout",
     "output_type": "stream",
     "text": [
      "[[ 1  2  3  4]\n",
      " [ 5  6  7  8]\n",
      " [ 9 10 11 12]\n",
      " [13 14 15 16]]\n"
     ]
    }
   ],
   "source": [
    "#indexing & slicing:-\n",
    "\n",
    "arr = np.array([[1, 2, 3, 4], [5, 6, 7, 8], [9, 10, 11, 12], [13, 14, 15, 16]])\n",
    "print(arr)"
   ]
  },
  {
   "cell_type": "code",
   "execution_count": 15,
   "id": "b19f6c70",
   "metadata": {},
   "outputs": [
    {
     "name": "stdout",
     "output_type": "stream",
     "text": [
      "10\n"
     ]
    }
   ],
   "source": [
    "#print third row and second column element of a numpy 2D Array:\n",
    "\n",
    "print(arr[2, 1])"
   ]
  },
  {
   "cell_type": "code",
   "execution_count": 21,
   "id": "985bb20b",
   "metadata": {},
   "outputs": [
    {
     "name": "stdout",
     "output_type": "stream",
     "text": [
      "Subset:\n",
      " [[ 6  7  8]\n",
      " [10 11 12]\n",
      " [14 15 16]]\n"
     ]
    }
   ],
   "source": [
    "#select and print a subset of 2d array using slicing\n",
    "\n",
    "print(\"Subset:\\n\", arr[1:4, 1:4]) #arr[row index, column index]"
   ]
  },
  {
   "cell_type": "code",
   "execution_count": 19,
   "id": "f7568244",
   "metadata": {},
   "outputs": [
    {
     "name": "stdout",
     "output_type": "stream",
     "text": [
      "One Row:\n",
      " [ 9 10 11 12]\n",
      "One Column:\n",
      " [ 2  6 10 14]\n"
     ]
    }
   ],
   "source": [
    "#print any one row or column of a 2D Array\n",
    "\n",
    "print(\"One Row:\\n\", arr[2,:])\n",
    "print(\"One Column:\\n\", arr[:,1])"
   ]
  },
  {
   "cell_type": "code",
   "execution_count": 23,
   "id": "6f26f65c",
   "metadata": {},
   "outputs": [
    {
     "name": "stdout",
     "output_type": "stream",
     "text": [
      "[[ 1 20  3]\n",
      " [ 4  5  6]]\n",
      "\n",
      "[[ 1 20  3]\n",
      " [ 4  5  6]]\n"
     ]
    }
   ],
   "source": [
    "ar = np.array([[1, 2, 3],[4, 5, 6]])\n",
    "\n",
    "#numpy shallow copy (.view()) change 1 element of the 2nd dimension\n",
    "\n",
    "ar1 = ar.view()\n",
    "ar1[0][1] = 20\n",
    "print(ar)\n",
    "print()\n",
    "print(ar1)"
   ]
  },
  {
   "cell_type": "code",
   "execution_count": 25,
   "id": "8025ec93",
   "metadata": {},
   "outputs": [
    {
     "name": "stdout",
     "output_type": "stream",
     "text": [
      "[[ 1 20  3]\n",
      " [ 4  5  6]]\n",
      "\n",
      "[[ 1 25  3]\n",
      " [ 4  5  6]]\n"
     ]
    }
   ],
   "source": [
    "#numpy deep copy (.copy()) change 1 element of the 2nd dimension\n",
    "\n",
    "ar2 = ar.copy()\n",
    "ar2[0][1] = 25\n",
    "print(ar)\n",
    "print()\n",
    "print(ar2)"
   ]
  },
  {
   "cell_type": "code",
   "execution_count": 30,
   "id": "7a144eab",
   "metadata": {},
   "outputs": [
    {
     "name": "stdout",
     "output_type": "stream",
     "text": [
      "[[1 4]\n",
      " [2 5]\n",
      " [3 6]] \n",
      "\n",
      "[[1 2]\n",
      " [3 4]\n",
      " [5 6]] \n",
      "\n",
      "[1 2 3 4 5 6] \n",
      "\n"
     ]
    }
   ],
   "source": [
    "#Transpose a 2D Array, Resize a 2D Array, Flatten a 2D Array & display it\n",
    "\n",
    "ar = np.array([[1, 2, 3],[4, 5, 6]])\n",
    "print(np.transpose(ar), \"\\n\")    # or print(ar.T)\n",
    "print(np.resize(ar, (3, 2)), \"\\n\")\n",
    "print(ar.flatten(), \"\\n\")"
   ]
  },
  {
   "cell_type": "code",
   "execution_count": 36,
   "id": "2208b7a7",
   "metadata": {},
   "outputs": [
    {
     "ename": "ValueError",
     "evalue": "setting an array element with a sequence. The requested array has an inhomogeneous shape after 1 dimensions. The detected shape was (3,) + inhomogeneous part.",
     "output_type": "error",
     "traceback": [
      "\u001b[0;31m---------------------------------------------------------------------------\u001b[0m",
      "\u001b[0;31mValueError\u001b[0m                                Traceback (most recent call last)",
      "Cell \u001b[0;32mIn[36], line 3\u001b[0m\n\u001b[1;32m      1\u001b[0m \u001b[38;5;66;03m#find the most frequent element of a numpy array (do not use statistics package)\u001b[39;00m\n\u001b[0;32m----> 3\u001b[0m ar \u001b[38;5;241m=\u001b[39m np\u001b[38;5;241m.\u001b[39marray([[\u001b[38;5;241m1\u001b[39m, \u001b[38;5;241m2\u001b[39m], [\u001b[38;5;241m1\u001b[39m, \u001b[38;5;241m2\u001b[39m], [\u001b[38;5;241m2\u001b[39m, \u001b[38;5;241m3\u001b[39m, \u001b[38;5;241m4\u001b[39m]])\n\u001b[1;32m      4\u001b[0m ar \u001b[38;5;241m=\u001b[39m ar\u001b[38;5;241m.\u001b[39mflatten()\n\u001b[1;32m      5\u001b[0m freq \u001b[38;5;241m=\u001b[39m np\u001b[38;5;241m.\u001b[39mbincount(a)\u001b[38;5;241m.\u001b[39margmax()\n",
      "\u001b[0;31mValueError\u001b[0m: setting an array element with a sequence. The requested array has an inhomogeneous shape after 1 dimensions. The detected shape was (3,) + inhomogeneous part."
     ]
    }
   ],
   "source": [
    "#find the most frequent element of a numpy array (do not use statistics package)\n",
    "\n",
    "ar = np.array([[1, 2], [1, 2], [2, 3, 4]])\n",
    "ar = ar.flatten()\n",
    "freq = np.bincount(a).argmax()\n",
    "print(freq)\n",
    "\n"
   ]
  },
  {
   "cell_type": "code",
   "execution_count": null,
   "id": "45dec4e0",
   "metadata": {},
   "outputs": [],
   "source": []
  }
 ],
 "metadata": {
  "kernelspec": {
   "display_name": "Python 3 (ipykernel)",
   "language": "python",
   "name": "python3"
  },
  "language_info": {
   "codemirror_mode": {
    "name": "ipython",
    "version": 3
   },
   "file_extension": ".py",
   "mimetype": "text/x-python",
   "name": "python",
   "nbconvert_exporter": "python",
   "pygments_lexer": "ipython3",
   "version": "3.11.4"
  }
 },
 "nbformat": 4,
 "nbformat_minor": 5
}
