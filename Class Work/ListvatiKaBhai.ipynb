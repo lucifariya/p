{
 "cells": [
  {
   "cell_type": "code",
   "execution_count": 9,
   "id": "364661b3",
   "metadata": {},
   "outputs": [
    {
     "name": "stdout",
     "output_type": "stream",
     "text": [
      "l1:  [1, 2, 3, 4, 5, 6, 7, 8, 9] \n",
      "l2:  ['H', 'e', 'l', 'l', 'o'] \n",
      "l3:  ['Apple', 'Banana', 'Cherry'] \n",
      "l4:  [1, 2, 3, 4, 5] \n",
      "l5:  [6, 7, 8, 9, 10, 11, 12, 13, 14, 15, 16, 17, 18, 19] \n",
      "l6:  [5, 6, 7, 8, 9, 10, 11, 12, 13, 14, 15, 16, 17, 18] \n",
      "l7:  [1, 2, 3, 4, 5, 6, 7, 8, 9, 6, 7, 8, 9, 10, 11, 12, 13, 14, 15, 16, 17, 18, 19]\n"
     ]
    }
   ],
   "source": [
    "#other ways to create a list:\n",
    "l1 = [x for x in range(1, 10)]\n",
    "l2 = list(\"Hello\")\n",
    "str1 = \"Apple Banana Cherry\"\n",
    "l3 = str1.split()\n",
    "l4 = list(range(1, 6))\n",
    "l5 = []\n",
    "l6 = []\n",
    "for i in range(5, 19):\n",
    "    l5.append(i+1)\n",
    "for i in range(5, 19):\n",
    "    l6 += [i]\n",
    "l7 = l1 + l5\n",
    "print(\"l1: \", l1, \"\\nl2: \", l2, \"\\nl3: \", l3, \"\\nl4: \", l4, \"\\nl5: \", l5, \"\\nl6: \", l6, \"\\nl7: \", l7)"
   ]
  },
  {
   "cell_type": "code",
   "execution_count": 13,
   "id": "b20c6a69",
   "metadata": {},
   "outputs": [
    {
     "name": "stdout",
     "output_type": "stream",
     "text": [
      "x =  5 \n",
      "y =  6\n"
     ]
    }
   ],
   "source": [
    "#unpacking:\n",
    "x, y = [5, 6]\n",
    "print(\"x = \", x, \"\\ny = \", y)"
   ]
  },
  {
   "cell_type": "code",
   "execution_count": 4,
   "id": "8c3f0571",
   "metadata": {},
   "outputs": [
    {
     "name": "stdout",
     "output_type": "stream",
     "text": [
      "[(0, 'red'), (1, 'orange'), (2, 'yellow')]\n",
      "0 red\n",
      "1 orange\n",
      "2 yellow\n"
     ]
    }
   ],
   "source": [
    "#accessing both index & value:-\n",
    "colors = ['red', 'orange', 'yellow']\n",
    "index = list(enumerate(colors))\n",
    "print(index)\n",
    "#or\n",
    "for i, value in enumerate(colors):\n",
    "    print(i, value)"
   ]
  },
  {
   "cell_type": "code",
   "execution_count": 6,
   "id": "4c1a9536",
   "metadata": {},
   "outputs": [
    {
     "name": "stdout",
     "output_type": "stream",
     "text": [
      "l8[2:6]      =  [3, 4, 5, 6]\n",
      "l8[2: ]      =  [3, 4, 5, 6, 7, 8]\n",
      "l8[ :3]      =  [1, 2, 3]\n",
      "l8[ : ]      =  [1, 2, 3, 4, 5, 6, 7, 8]\n",
      "l8[2:6:2]    =  [3, 5]\n",
      "l8[ : :-1]   =  [8, 7, 6, 5, 4, 3, 2, 1]\n",
      "l8[ : :-2]   =  [8, 6, 4, 2]\n",
      "l8[-2:-5:-1] =  [7, 6, 5]\n"
     ]
    }
   ],
   "source": [
    "#Slicing [start index exluded : end index included : step size]\n",
    "l8 = [1, 2, 3, 4, 5, 6, 7, 8]\n",
    "print(\"l8[2:6]      = \", l8[2:6])\n",
    "print(\"l8[2: ]      = \", l8[2: ])\n",
    "print(\"l8[ :3]      = \", l8[ :3])\n",
    "print(\"l8[ : ]      = \", l8[ : ])\n",
    "print(\"l8[2:6:2]    = \", l8[2:6:2])\n",
    "print(\"l8[ : :-1]   = \", l8[ : :-1])\n",
    "print(\"l8[ : :-2]   = \", l8[ : :-2])\n",
    "print(\"l8[-2:-5:-1] = \", l8[-2:-5:-1])"
   ]
  },
  {
   "cell_type": "code",
   "execution_count": 7,
   "id": "b9fcaadf",
   "metadata": {},
   "outputs": [
    {
     "ename": "NameError",
     "evalue": "name 'l9' is not defined",
     "output_type": "error",
     "traceback": [
      "\u001b[0;31m---------------------------------------------------------------------------\u001b[0m",
      "\u001b[0;31mNameError\u001b[0m                                 Traceback (most recent call last)",
      "Cell \u001b[0;32mIn[7], line 3\u001b[0m\n\u001b[1;32m      1\u001b[0m l9 \u001b[38;5;241m=\u001b[39m [\u001b[38;5;241m1\u001b[39m, \u001b[38;5;241m2\u001b[39m, \u001b[38;5;241m3\u001b[39m, \u001b[38;5;241m4\u001b[39m]\n\u001b[1;32m      2\u001b[0m \u001b[38;5;28;01mdel\u001b[39;00m l9\n\u001b[0;32m----> 3\u001b[0m \u001b[38;5;28mprint\u001b[39m(l9)\n",
      "\u001b[0;31mNameError\u001b[0m: name 'l9' is not defined"
     ]
    }
   ],
   "source": [
    "l9 = [1, 2, 3, 4]\n",
    "del l9\n",
    "print(l9)"
   ]
  },
  {
   "cell_type": "code",
   "execution_count": 10,
   "id": "b725b7c5",
   "metadata": {},
   "outputs": [
    {
     "name": "stdout",
     "output_type": "stream",
     "text": [
      "l10:  [2, 6, 8, 12]\n"
     ]
    }
   ],
   "source": [
    "#passing list as argument:\n",
    "def modify(L):\n",
    "    for i in range(len(L)):\n",
    "        L[i]*=2\n",
    "l10 = [1, 3, 4, 6]\n",
    "modify(l10)\n",
    "print(\"l10: \", l10)"
   ]
  },
  {
   "cell_type": "code",
   "execution_count": 12,
   "id": "b4eb1833",
   "metadata": {},
   "outputs": [
    {
     "name": "stdout",
     "output_type": "stream",
     "text": [
      "l11:  [1, 2, 3, 6]\n",
      "l11:  [6, 3, 2, 1]\n",
      "l12:  [1, 2, 3, 6]\n"
     ]
    }
   ],
   "source": [
    "#passing list as argument:\n",
    "l11 = [1, 3, 2, 6]\n",
    "l11.sort()\n",
    "print(\"l11: \", l11)\n",
    "l11.sort(reverse = True)\n",
    "print(\"l11: \", l11)\n",
    "\n",
    "l12 = sorted(l11)\n",
    "print(\"l12: \", l12)"
   ]
  },
  {
   "cell_type": "code",
   "execution_count": 3,
   "id": "31b3ba84",
   "metadata": {},
   "outputs": [
    {
     "name": "stdout",
     "output_type": "stream",
     "text": [
      "2\n"
     ]
    },
    {
     "ename": "ValueError",
     "evalue": "7 is not in list",
     "output_type": "error",
     "traceback": [
      "\u001b[1;31m---------------------------------------------------------------------------\u001b[0m",
      "\u001b[1;31mValueError\u001b[0m                                Traceback (most recent call last)",
      "Cell \u001b[1;32mIn[3], line 4\u001b[0m\n\u001b[0;32m      2\u001b[0m l13 \u001b[38;5;241m=\u001b[39m [\u001b[38;5;241m1\u001b[39m, \u001b[38;5;241m3\u001b[39m, \u001b[38;5;241m4\u001b[39m, \u001b[38;5;241m7\u001b[39m, \u001b[38;5;241m9\u001b[39m]      \u001b[38;5;66;03m#list.index(value, start, end)\u001b[39;00m\n\u001b[0;32m      3\u001b[0m \u001b[38;5;28mprint\u001b[39m(l13\u001b[38;5;241m.\u001b[39mindex(\u001b[38;5;241m4\u001b[39m, \u001b[38;5;241m2\u001b[39m))     \u001b[38;5;66;03m#searches for '7' from index 2\u001b[39;00m\n\u001b[1;32m----> 4\u001b[0m \u001b[38;5;28mprint\u001b[39m(l13\u001b[38;5;241m.\u001b[39mindex(\u001b[38;5;241m7\u001b[39m, \u001b[38;5;241m1\u001b[39m, \u001b[38;5;241m3\u001b[39m))\n",
      "\u001b[1;31mValueError\u001b[0m: 7 is not in list"
     ]
    }
   ],
   "source": [
    "#search using index:- \n",
    "l13 = [1, 3, 4, 7, 9]      #list.index(value, start, end)\n",
    "print(l13.index(4, 2))     #searches for '7' from index 2\n",
    "print(l13.index(7, 1, 3))  #searches for '7' from index 1 to index 2"
   ]
  },
  {
   "cell_type": "code",
   "execution_count": 14,
   "id": "5e899178",
   "metadata": {},
   "outputs": [
    {
     "name": "stdout",
     "output_type": "stream",
     "text": [
      "True\n"
     ]
    }
   ],
   "source": [
    "l14 = [1, 3, 4, 7]\n",
    "print(3 in l14)"
   ]
  },
  {
   "cell_type": "code",
   "execution_count": 4,
   "id": "7348cbcf",
   "metadata": {},
   "outputs": [
    {
     "name": "stdout",
     "output_type": "stream",
     "text": [
      "True\n",
      "False\n"
     ]
    }
   ],
   "source": [
    "#any & all:-\n",
    "l15 = [1, 0, 7]\n",
    "print(any(l15))\n",
    "print(all(l15))"
   ]
  },
  {
   "cell_type": "code",
   "execution_count": 18,
   "id": "d444b036",
   "metadata": {},
   "outputs": [
    {
     "name": "stdout",
     "output_type": "stream",
     "text": [
      "l16:  []\n"
     ]
    }
   ],
   "source": [
    "l16 = [1, 3, 7]\n",
    "l16.clear()\n",
    "print(\"l16: \", l16)"
   ]
  },
  {
   "cell_type": "code",
   "execution_count": 21,
   "id": "047e622b",
   "metadata": {},
   "outputs": [
    {
     "name": "stdout",
     "output_type": "stream",
     "text": [
      "[1]\n",
      "[1, 2]\n",
      "[1, 2, 3]\n",
      "3\n",
      "[1, 2, 3]\n",
      "popped =  3\n",
      "[1, 2]\n"
     ]
    }
   ],
   "source": [
    "#simulate stack using list:-\n",
    "stack = []\n",
    "def push(x):\n",
    "    stack.append(x)\n",
    "def peek():\n",
    "    print(stack[-1])\n",
    "def pop():\n",
    "    print(\"popped = \", stack.pop())\n",
    "push(1)\n",
    "print(stack)\n",
    "push(2)\n",
    "print(stack)\n",
    "push(3)\n",
    "print(stack)\n",
    "peek()\n",
    "print(stack)\n",
    "pop()\n",
    "print(stack)"
   ]
  },
  {
   "cell_type": "code",
   "execution_count": null,
   "id": "21a9a7cd",
   "metadata": {},
   "outputs": [
    {
     "name": "stdout",
     "output_type": "stream",
     "text": [
      "[[1, 2, 3], [4, 5, 6], [7, 8, 9]]\n",
      "[4, 5, 6]\n",
      "1*2*3*\n",
      "4*5*6*\n",
      "7*8*9*\n"
     ]
    }
   ],
   "source": [
    "#2D List:\n",
    "listy = [[1, 2, 3], [4, 5, 6], [7, 8, 9]]\n",
    "print(listy)\n",
    "print(listy[1])\n",
    "for row in listy:\n",
    "    for item in row:\n",
    "        print(item, end = '*')\n",
    "    print()"
   ]
  },
  {
   "cell_type": "code",
   "execution_count": 26,
   "id": "89b3e46c",
   "metadata": {},
   "outputs": [],
   "source": []
  },
  {
   "cell_type": "code",
   "execution_count": null,
   "id": "0bc90c2f",
   "metadata": {},
   "outputs": [],
   "source": []
  }
 ],
 "metadata": {
  "kernelspec": {
   "display_name": "Python 3 (ipykernel)",
   "language": "python",
   "name": "python3"
  },
  "language_info": {
   "codemirror_mode": {
    "name": "ipython",
    "version": 3
   },
   "file_extension": ".py",
   "mimetype": "text/x-python",
   "name": "python",
   "nbconvert_exporter": "python",
   "pygments_lexer": "ipython3",
   "version": "3.11.4"
  }
 },
 "nbformat": 4,
 "nbformat_minor": 5
}
