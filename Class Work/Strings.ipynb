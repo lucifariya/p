{
 "cells": [
  {
   "cell_type": "code",
   "execution_count": 4,
   "id": "8b73ae26",
   "metadata": {},
   "outputs": [
    {
     "name": "stdout",
     "output_type": "stream",
     "text": [
      "10\n",
      "<class 'str'>\n",
      "   10\n"
     ]
    }
   ],
   "source": [
    "#Strings: \n",
    "\n",
    "print(f'{10:d}')\n",
    "print(type(f'{10:d}'))\n",
    "print(f'{10:5d}')"
   ]
  },
  {
   "cell_type": "code",
   "execution_count": 6,
   "id": "280cb588",
   "metadata": {},
   "outputs": [
    {
     "name": "stdout",
     "output_type": "stream",
     "text": [
      "True\n"
     ]
    }
   ],
   "source": [
    "s1 = 'orange'\n",
    "s2 = 'Orange'\n",
    "\n",
    "print(s1>s2) #because of ascii values"
   ]
  },
  {
   "cell_type": "code",
   "execution_count": 9,
   "id": "bba6e8bd",
   "metadata": {},
   "outputs": [
    {
     "name": "stdout",
     "output_type": "stream",
     "text": [
      "good\n",
      "good   \n",
      "   good\n",
      "good\n",
      "good   \n",
      "   good\n"
     ]
    }
   ],
   "source": [
    "s3 = '   good   '\n",
    "print(s3.strip())\n",
    "print(s3.lstrip())\n",
    "print(s3.rstrip())"
   ]
  },
  {
   "cell_type": "code",
   "execution_count": 11,
   "id": "6b5af5a0",
   "metadata": {},
   "outputs": [
    {
     "name": "stdout",
     "output_type": "stream",
     "text": [
      "2\n",
      "0\n",
      "True\n",
      "True\n",
      "go be or not go be\n"
     ]
    }
   ],
   "source": [
    "s4 = 'to be or not to be'\n",
    "print(s4.count('to'))\n",
    "print(s4.index('to'))\n",
    "print('to' in s4)\n",
    "print(s4.startswith('to'))\n",
    "print(s4.replace('to', 'go'))"
   ]
  },
  {
   "cell_type": "code",
   "execution_count": 12,
   "id": "fe4b3fea",
   "metadata": {},
   "outputs": [
    {
     "name": "stdout",
     "output_type": "stream",
     "text": [
      "['to', 'be', 'or', 'not', 'to', 'be']\n"
     ]
    }
   ],
   "source": [
    "l = s4.split(' ') #by default bhi space hin\n",
    "print(l)"
   ]
  },
  {
   "cell_type": "code",
   "execution_count": 15,
   "id": "816f1eac",
   "metadata": {},
   "outputs": [
    {
     "name": "stdout",
     "output_type": "stream",
     "text": [
      "a b c\n"
     ]
    }
   ],
   "source": [
    "listi = ['a', 'b', 'c']\n",
    "s5 = ' '.join(listi)\n",
    "print(s5)"
   ]
  },
  {
   "cell_type": "code",
   "execution_count": 26,
   "id": "af0ab5b5",
   "metadata": {},
   "outputs": [
    {
     "name": "stdout",
     "output_type": "stream",
     "text": [
      "be to not or be to\n"
     ]
    }
   ],
   "source": [
    "#Reverse words in a sentence\n",
    "\n",
    "def reverse(s):\n",
    "    l1 = s.split()\n",
    "    l1 = l1[::-1]\n",
    "    return ' '.join(l1)\n",
    "\n",
    "s6 = 'to be or not to be'\n",
    "s6 = reverse(s6)\n",
    "print(s6)"
   ]
  },
  {
   "cell_type": "code",
   "execution_count": 25,
   "id": "d50583bc",
   "metadata": {},
   "outputs": [
    {
     "name": "stdout",
     "output_type": "stream",
     "text": [
      "The strings are anagrams.\n"
     ]
    }
   ],
   "source": [
    "#check if 2 strings are anagrams\n",
    "\n",
    "def anagram(s1, s2):\n",
    "    if(sorted(s1)== sorted(s2)):\n",
    "        print(\"The strings are anagrams.\") \n",
    "    else:\n",
    "        print(\"The strings aren't anagrams.\")         \n",
    "         \n",
    "s1 =\"listen\"\n",
    "s2 =\"silent\" \n",
    "anagram(s1, s2)"
   ]
  },
  {
   "cell_type": "code",
   "execution_count": 27,
   "id": "0bcc109e",
   "metadata": {},
   "outputs": [
    {
     "name": "stdout",
     "output_type": "stream",
     "text": [
      "{'b': 2, 'e': 2, ' ': 5, 't': 3, 'o': 4, 'n': 1, 'r': 1}\n"
     ]
    }
   ],
   "source": [
    "#count frequency of each character\n",
    "\n",
    "freq = {c: s6.count(c) for c in s6}\n",
    "print(freq)"
   ]
  },
  {
   "cell_type": "code",
   "execution_count": 30,
   "id": "240c50c9",
   "metadata": {},
   "outputs": [
    {
     "name": "stdout",
     "output_type": "stream",
     "text": [
      "t o   b e 2 2 r 3 n 3 2 4 3 4 5 2 2\n"
     ]
    }
   ],
   "source": [
    "#replace duplicates with count\n",
    "\n",
    "def replaceDuplicate(s):\n",
    "    count = {}\n",
    "    res = []\n",
    "    for char in s:\n",
    "        if char in count:\n",
    "            count[char] += 1\n",
    "            res.append(str(count[char]))\n",
    "        else:\n",
    "            count[char] = 1\n",
    "            res.append(char)\n",
    "    return ' '.join(res)\n",
    "\n",
    "s7 = replaceDuplicate(s4)\n",
    "print(s7)"
   ]
  },
  {
   "cell_type": "code",
   "execution_count": 24,
   "id": "70fd9813",
   "metadata": {},
   "outputs": [],
   "source": [
    "#count vowels and consonants"
   ]
  },
  {
   "cell_type": "code",
   "execution_count": null,
   "id": "0ed7533d",
   "metadata": {},
   "outputs": [],
   "source": [
    "#check if a substring"
   ]
  }
 ],
 "metadata": {
  "kernelspec": {
   "display_name": "Python 3 (ipykernel)",
   "language": "python",
   "name": "python3"
  },
  "language_info": {
   "codemirror_mode": {
    "name": "ipython",
    "version": 3
   },
   "file_extension": ".py",
   "mimetype": "text/x-python",
   "name": "python",
   "nbconvert_exporter": "python",
   "pygments_lexer": "ipython3",
   "version": "3.11.4"
  }
 },
 "nbformat": 4,
 "nbformat_minor": 5
}
