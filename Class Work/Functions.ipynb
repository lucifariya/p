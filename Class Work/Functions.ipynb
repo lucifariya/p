{
 "cells": [
  {
   "cell_type": "code",
   "execution_count": 1,
   "id": "3163e3b2",
   "metadata": {},
   "outputs": [
    {
     "name": "stdout",
     "output_type": "stream",
     "text": [
      "Area is  6\n",
      "Area is  15\n",
      "Area is  35\n"
     ]
    }
   ],
   "source": [
    "#Default Parameter:-\n",
    "\n",
    "def area(l=2, w=3):\n",
    "    print(\"Area is \", l*w)\n",
    "    \n",
    "area()\n",
    "area(5)\n",
    "area(7, 5)"
   ]
  },
  {
   "cell_type": "code",
   "execution_count": 2,
   "id": "41995e14",
   "metadata": {},
   "outputs": [
    {
     "name": "stdout",
     "output_type": "stream",
     "text": [
      "expression is  15\n",
      "expression is  9\n"
     ]
    }
   ],
   "source": [
    "def expres(l, w):\n",
    "    print(\"expression is \", 2*l+5)\n",
    "    \n",
    "expres(5, 2)\n",
    "expres(w=5, l=2)"
   ]
  },
  {
   "cell_type": "code",
   "execution_count": 1,
   "id": "a54e76e1",
   "metadata": {},
   "outputs": [
    {
     "name": "stdout",
     "output_type": "stream",
     "text": [
      "Average is  7.5\n",
      "Average is  10.0\n"
     ]
    }
   ],
   "source": [
    "#arbitrary parameter\n",
    "def average(*args):\n",
    "    print(\"Average is \", sum(args)/len(args))\n",
    "average(5, 10)\n",
    "average(5, 10, 15)"
   ]
  },
  {
   "cell_type": "code",
   "execution_count": 12,
   "id": "2f6b425c",
   "metadata": {
    "scrolled": true
   },
   "outputs": [
    {
     "name": "stdout",
     "output_type": "stream",
     "text": [
      "8885128\n",
      "Value is  4\n",
      "8885096\n",
      "5\n",
      "8885128\n"
     ]
    }
   ],
   "source": [
    "#scope\n",
    "x=5\n",
    "print(id(x))\n",
    "def modify():\n",
    "    x = 4\n",
    "    print(\"Value is \", x)\n",
    "    print(id(x))\n",
    "modify()\n",
    "print(x) #global variable unaffected\n",
    "print(id(x))"
   ]
  },
  {
   "cell_type": "code",
   "execution_count": 13,
   "id": "113bb487",
   "metadata": {},
   "outputs": [
    {
     "name": "stdout",
     "output_type": "stream",
     "text": [
      "8885128\n",
      "Value is  4\n",
      "8885096\n",
      "4\n",
      "8885096\n"
     ]
    }
   ],
   "source": [
    "x=5\n",
    "print(id(x))\n",
    "def modify():\n",
    "    global x\n",
    "    x = 4\n",
    "    print(\"Value is \", x)\n",
    "    print(id(x))\n",
    "modify()\n",
    "print(x) #global variable affected\n",
    "print(id(x))"
   ]
  },
  {
   "cell_type": "code",
   "execution_count": 1,
   "id": "48ab6ec6",
   "metadata": {},
   "outputs": [
    {
     "name": "stdout",
     "output_type": "stream",
     "text": [
      "11\n"
     ]
    }
   ],
   "source": [
    "#shadowing function:-\n",
    "x = 5\n",
    "y = 6\n",
    "print(sum([x, y]))"
   ]
  },
  {
   "cell_type": "code",
   "execution_count": 2,
   "id": "92992ee9",
   "metadata": {},
   "outputs": [
    {
     "name": "stdout",
     "output_type": "stream",
     "text": [
      "11\n"
     ]
    }
   ],
   "source": [
    "x = 5\n",
    "y = 6\n",
    "sum = x+y\n",
    "print(sum)\n",
    "#print(sum([x, y])) will give error as it will call the variable instead of inbuilt function. hence the function is shadowed.\n"
   ]
  },
  {
   "cell_type": "code",
   "execution_count": 3,
   "id": "cfbc8c4d",
   "metadata": {},
   "outputs": [
    {
     "name": "stdout",
     "output_type": "stream",
     "text": [
      "72\n",
      "8.48528137423857\n",
      "90\n",
      "9.486832980505138\n"
     ]
    }
   ],
   "source": [
    "#variance & standard deviation:\n",
    "import statistics\n",
    "print(statistics.pvariance([1, 3, 7, 9, 25]))\n",
    "print(statistics.pstdev([1, 3, 7, 9, 25]))\n",
    "print(statistics.variance([1, 3, 7, 9, 25]))\n",
    "print(statistics.stdev([1, 3, 7, 9, 25]))"
   ]
  },
  {
   "cell_type": "code",
   "execution_count": null,
   "id": "a48bebcc",
   "metadata": {},
   "outputs": [],
   "source": [
    "#creating a list "
   ]
  }
 ],
 "metadata": {
  "kernelspec": {
   "display_name": "Python 3 (ipykernel)",
   "language": "python",
   "name": "python3"
  },
  "language_info": {
   "codemirror_mode": {
    "name": "ipython",
    "version": 3
   },
   "file_extension": ".py",
   "mimetype": "text/x-python",
   "name": "python",
   "nbconvert_exporter": "python",
   "pygments_lexer": "ipython3",
   "version": "3.11.4"
  }
 },
 "nbformat": 4,
 "nbformat_minor": 5
}
