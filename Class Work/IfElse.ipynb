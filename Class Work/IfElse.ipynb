{
 "cells": [
  {
   "cell_type": "code",
   "execution_count": 7,
   "id": "682ecf2f",
   "metadata": {},
   "outputs": [
    {
     "name": "stdout",
     "output_type": "stream",
     "text": [
      "Enter Height in feet: 6\n",
      "The person is Tall\n"
     ]
    }
   ],
   "source": [
    "#1\n",
    "height = float(input(\"Enter Height in feet: \"))\n",
    "if height >= 6:\n",
    "    print(\"The person is Tall\")"
   ]
  },
  {
   "cell_type": "code",
   "execution_count": 6,
   "id": "9f1b970e",
   "metadata": {},
   "outputs": [
    {
     "name": "stdout",
     "output_type": "stream",
     "text": [
      "Enter marks: 39\n",
      "Sorry! You have failed the exam.\n"
     ]
    }
   ],
   "source": [
    "#2\n",
    "mark = float(input(\"Enter marks: \"))\n",
    "if mark >= 40:\n",
    "    print(\"Congratulations! You have passed the exam.\")\n",
    "else:\n",
    "    print(\"Sorry! You have failed the exam.\")"
   ]
  },
  {
   "cell_type": "code",
   "execution_count": 8,
   "id": "92722814",
   "metadata": {},
   "outputs": [
    {
     "name": "stdout",
     "output_type": "stream",
     "text": [
      "Enter number: 2\n",
      "Even\n"
     ]
    }
   ],
   "source": [
    "#3\n",
    "num = int(input(\"Enter number: \"))\n",
    "if num%2 == 0:\n",
    "    print(\"Even\")\n",
    "else:\n",
    "    print(\"Odd\")"
   ]
  },
  {
   "cell_type": "code",
   "execution_count": 19,
   "id": "a1c620c7",
   "metadata": {},
   "outputs": [
    {
     "name": "stdout",
     "output_type": "stream",
     "text": [
      "Enter character: A\n",
      "ASCII value is:  65\n",
      "Capital letter.\n"
     ]
    }
   ],
   "source": [
    "#4\n",
    "char = (input(\"Enter character: \"))\n",
    "asc = ord(char)\n",
    "print(\"ASCII value is: \", asc)\n",
    "if (asc > 64) and (asc < 91):\n",
    "    print(\"Capital letter.\")\n",
    "elif (asc > 96) and (asc < 123):\n",
    "    print(\"smol letter.\")\n",
    "elif (asc > 47) and (asc < 58):\n",
    "    print(\"it a numberrr.\")\n",
    "elif (asc < 48) or ((asc > 57) and (asc < 65)) or ((asc > 90) and (asc < 97)) or ((asc > 122) and (asc < 128)):\n",
    "    print(\"it a special symbol!\")\n",
    "else:\n",
    "    print(\"Are you sure correct input?\")"
   ]
  },
  {
   "cell_type": "code",
   "execution_count": 31,
   "id": "aa94d428",
   "metadata": {
    "scrolled": true
   },
   "outputs": [
    {
     "name": "stdout",
     "output_type": "stream",
     "text": [
      "a = 1.0\n",
      "b = 3\n",
      "c = 1\n",
      "The equation has two roots  -0.3819660112501051  and  -2.618033988749895\n"
     ]
    }
   ],
   "source": [
    "#5\n",
    "a = float(input(\"a = \"))\n",
    "b = float(input(\"b = \"))\n",
    "c = float(input(\"c = \"))\n",
    "bsqfrac = ((b*b)-(4*a*c))\n",
    "r1 = (((-b)+(bsqfrac**0.5))/(2*a))\n",
    "r2 = (((-b)-(bsqfrac**0.5))/(2*a))\n",
    "if bsqfrac > 0:\n",
    "      print(\"The equation has two roots \", r1, \" and \", r2)\n",
    "elif bsqfrac == 0:\n",
    "      print(\"The equation has one root \", r1)\n",
    "else:\n",
    "      print(\"The equation has no real roots\")"
   ]
  },
  {
   "cell_type": "code",
   "execution_count": 29,
   "id": "d3394598",
   "metadata": {},
   "outputs": [
    {
     "name": "stdout",
     "output_type": "stream",
     "text": [
      "a = 9.0\n",
      "b = 4.0\n",
      "c = 3.0\n",
      "d = -5.0\n",
      "e = -6.0\n",
      "f = -21.0\n",
      "x is  -2.0  and y is  3.0\n"
     ]
    }
   ],
   "source": [
    "#6\n",
    "a = float(input(\"a = \"))\n",
    "b = float(input(\"b = \"))\n",
    "c = float(input(\"c = \"))\n",
    "d = float(input(\"d = \"))\n",
    "e = float(input(\"e = \"))\n",
    "f = float(input(\"f = \"))\n",
    "adbc = ((a*d)-(b*c))\n",
    "if adbc == 0:\n",
    "    print(\"The equation has no solution.\")\n",
    "else:\n",
    "    x = (((e*d) - (b*f))/adbc)\n",
    "    y = (((a*f)-(e*c))/adbc)\n",
    "    print(\"x is \", x, \" and y is \", y)"
   ]
  },
  {
   "cell_type": "code",
   "execution_count": 33,
   "id": "22cc55fa",
   "metadata": {},
   "outputs": [
    {
     "name": "stdout",
     "output_type": "stream",
     "text": [
      "x = 1\n",
      "y = 2\n",
      "Quadrant I\n"
     ]
    }
   ],
   "source": [
    "#7\n",
    "x = float(input(\"x = \"))\n",
    "y = float(input(\"y = \"))\n",
    "if (x == 0) and (y == 0):\n",
    "    print(\"Origin\")\n",
    "elif (x == 0):\n",
    "    print(\"y-axis\")\n",
    "elif (y == 0):\n",
    "    print(\"x-axis\")\n",
    "elif (x > 0) and (y > 0):\n",
    "    print(\"Quadrant I\")\n",
    "elif (x < 0) and (y > 0):\n",
    "    print(\"Quadrant II\")\n",
    "elif (x < 0) and (y < 0):\n",
    "    print(\"Quadrant III\")\n",
    "else:\n",
    "    print(\"Quadrant IV\")"
   ]
  },
  {
   "cell_type": "code",
   "execution_count": 36,
   "id": "b6e49a88",
   "metadata": {},
   "outputs": [
    {
     "name": "stdout",
     "output_type": "stream",
     "text": [
      "Ajay = 1\n",
      "Rahul = 2\n",
      "Ayush = 3\n",
      "Ayush is.\n"
     ]
    }
   ],
   "source": [
    "#8\n",
    "ajay = int(input(\"Ajay = \"))\n",
    "rahul = int(input(\"Rahul = \"))\n",
    "ayush = int(input(\"Ayush = \"))\n",
    "elder = max(ajay, rahul, ayush)\n",
    "if(elder == ajay):\n",
    "    print(\"Ajay is.\")\n",
    "elif(elder == rahul):\n",
    "    print(\"Rahul is.\")\n",
    "else:\n",
    "    print(\"Ayush is.\")"
   ]
  },
  {
   "cell_type": "code",
   "execution_count": 43,
   "id": "aff7b811",
   "metadata": {},
   "outputs": [
    {
     "name": "stdout",
     "output_type": "stream",
     "text": [
      "April\n"
     ]
    }
   ],
   "source": [
    "#9\n",
    "import random\n",
    "a = random.randint(1, 12)\n",
    "if(a == 1):\n",
    "    print(\"January\")\n",
    "elif(a == 2):\n",
    "    print(\"February\")\n",
    "elif(a == 3):\n",
    "    print(\"March\")\n",
    "elif(a == 4):\n",
    "    print(\"April\")\n",
    "elif(a == 5):\n",
    "    print(\"May\")\n",
    "elif(a == 6):\n",
    "    print(\"June\")\n",
    "elif(a == 7):\n",
    "    print(\"July\")\n",
    "elif(a == 8):\n",
    "    print(\"August\")\n",
    "elif(a == 9):\n",
    "    print(\"September\")\n",
    "elif(a == 10):\n",
    "    print(\"October\")\n",
    "elif(a == 11):\n",
    "    print(\"November\")\n",
    "else:\n",
    "    print(\"December\")"
   ]
  },
  {
   "cell_type": "code",
   "execution_count": 44,
   "id": "8229d5f6",
   "metadata": {},
   "outputs": [
    {
     "name": "stdout",
     "output_type": "stream",
     "text": [
      "Enter day(0-6)6\n",
      "Enter days ahead: 90\n",
      "Friday\n"
     ]
    }
   ],
   "source": [
    "#10\n",
    "curr = int(input(\"Enter day(0-6)\"))\n",
    "ahead = int(input(\"Enter days ahead: \"))\n",
    "a = (curr+ahead)%7\n",
    "if(a == 0):\n",
    "    print(\"Sunday\")\n",
    "elif(a == 1):\n",
    "    print(\"Monday\")\n",
    "elif(a == 2):\n",
    "    print(\"Tuesday\")\n",
    "elif(a == 3):\n",
    "    print(\"Wednesday\")\n",
    "elif(a == 4):\n",
    "    print(\"Thursday\")\n",
    "elif(a == 5):\n",
    "    print(\"Friday\")\n",
    "else:\n",
    "    print(\"Saturday\")"
   ]
  },
  {
   "cell_type": "code",
   "execution_count": 47,
   "id": "6703577c",
   "metadata": {},
   "outputs": [
    {
     "name": "stdout",
     "output_type": "stream",
     "text": [
      "Height: 1.67\n",
      "Weight: 75\n",
      "overweight\n"
     ]
    }
   ],
   "source": [
    "#11\n",
    "Height = float(input(\"Height: \"))\n",
    "Weight = float(input(\"Weight: \")) \n",
    "bmi = (Weight)/(Height*Height)\n",
    "if(bmi < 18.5):\n",
    "    print(\"Underweight\")\n",
    "elif(bmi < 24.9):\n",
    "    print(\"normal weight\")\n",
    "elif(bmi < 29.9):\n",
    "    print(\"overweight\")\n",
    "else:\n",
    "    print(\"obese\")"
   ]
  },
  {
   "cell_type": "code",
   "execution_count": 49,
   "id": "cc03b331",
   "metadata": {},
   "outputs": [
    {
     "name": "stdout",
     "output_type": "stream",
     "text": [
      "Enter three integers: \n",
      "3\n",
      "5\n",
      "23\n",
      "3 5 23\n"
     ]
    }
   ],
   "source": [
    "#12\n",
    "print(\"Enter three integers: \")\n",
    "p = int(input())\n",
    "q = int(input())\n",
    "r = int(input())\n",
    "maxx = max(p, q, r)\n",
    "minn = min(p, q, r)\n",
    "mid = (p+q+r-maxx-minn)\n",
    "print(minn, mid, maxx)"
   ]
  },
  {
   "cell_type": "code",
   "execution_count": 50,
   "id": "a16bc3b3",
   "metadata": {},
   "outputs": [
    {
     "name": "stdout",
     "output_type": "stream",
     "text": [
      "Month(0-12)2\n",
      "Year: 2012\n",
      "29 Days\n"
     ]
    }
   ],
   "source": [
    "#13\n",
    "month = int(input(\"Month(0-12)\"))\n",
    "year = int(input(\"Year: \"))\n",
    "if(month == 2):\n",
    "    if ((year % 400 == 0) and (year % 100 == 0)) or ((year % 4 ==0) and (year % 100 != 0)):\n",
    "        print(\"29 Days\")\n",
    "    else:\n",
    "        print(\"28 Days\")\n",
    "elif(month == 1 or month == 3 or month == 5 or month == 7 or month == 8 or month == 10 or month == 12):\n",
    "    print(\"31 Days\")\n",
    "else:\n",
    "    print(\"30 Days\")"
   ]
  },
  {
   "cell_type": "code",
   "execution_count": 51,
   "id": "7ceff615",
   "metadata": {},
   "outputs": [
    {
     "name": "stdout",
     "output_type": "stream",
     "text": [
      "Rock(0), Paper(1) and Scissor(2): 1\n",
      "Comp is  Paper\n",
      "You is  Paper\n",
      "Draw\n"
     ]
    }
   ],
   "source": [
    "#14\n",
    "c = random.randint(0, 2)\n",
    "u = int(input(\"Rock(0), Paper(1) and Scissor(2): \"))\n",
    "choices = ('Rock', 'Paper', 'Scissor')\n",
    "print(\"Comp is \", choices[c])\n",
    "print(\"You is \", choices[u])\n",
    "if(c == u):\n",
    "    print(\"Draw\")\n",
    "elif(c == 0 and u == 1) or (c == 1 and u == 2) or (c == 2 and u == 0):\n",
    "    print(\"User wins\")\n",
    "else:\n",
    "    print(\"Computer wins\")"
   ]
  },
  {
   "cell_type": "code",
   "execution_count": 53,
   "id": "1d6b65d6",
   "metadata": {},
   "outputs": [
    {
     "name": "stdout",
     "output_type": "stream",
     "text": [
      "x = 9\n",
      "y = 9\n",
      "Outside\n"
     ]
    }
   ],
   "source": [
    "#15\n",
    "x = float(input(\"x = \"))\n",
    "y = float(input(\"y = \"))\n",
    "dist = (((x**2)+(y**2))**0.5)\n",
    "if(dist <= 10):\n",
    "    print(\"Inside circle\")\n",
    "else:\n",
    "    print(\"Outside\")"
   ]
  },
  {
   "cell_type": "code",
   "execution_count": 55,
   "id": "6c2e4ff8",
   "metadata": {},
   "outputs": [
    {
     "name": "stdout",
     "output_type": "stream",
     "text": [
      "Marks: 90\n",
      "O\n"
     ]
    }
   ],
   "source": [
    "#16\n",
    "mark = float(input(\"Marks: \")) \n",
    "if(mark >= 40 and mark < 50):\n",
    "    print(\"E\")\n",
    "elif(mark >=50 and mark < 60):\n",
    "    print(\"D\")\n",
    "elif(mark >= 60 and mark < 70):\n",
    "    print(\"C\")\n",
    "elif(mark >= 70 and mark < 80):\n",
    "    print(\"B\")\n",
    "elif(mark >= 80 and mark < 90):\n",
    "    print(\"A\")\n",
    "elif(mark >= 90):\n",
    "    print(\"O\")\n",
    "else:\n",
    "    print(\"F\")"
   ]
  },
  {
   "cell_type": "code",
   "execution_count": 56,
   "id": "5874a073",
   "metadata": {},
   "outputs": [
    {
     "name": "stdout",
     "output_type": "stream",
     "text": [
      "Number = 10\n",
      "Case1 is  False \n",
      "Case2 is  True \n",
      "Case3 is  False\n"
     ]
    }
   ],
   "source": [
    "#17\n",
    "num = int(input(\"Number = \"))\n",
    "case1 = False\n",
    "case2 = False\n",
    "case3 = False\n",
    "if num % 5 == 0 and num % 6 == 0:\n",
    "    case1 = True\n",
    "if num % 5 == 0 or num % 6 == 0:\n",
    "    case2 = True\n",
    "if (num % 5 == 0 or num % 6 == 0) and not(num % 5 == 0 and num % 6 == 0):\n",
    "    case2 = True\n",
    "print(\"Case1 is \", case1, \"\\nCase2 is \", case2, \"\\nCase3 is \", case3)"
   ]
  },
  {
   "cell_type": "code",
   "execution_count": 58,
   "id": "e0e471a6",
   "metadata": {},
   "outputs": [
    {
     "name": "stdout",
     "output_type": "stream",
     "text": [
      "What is your gender (M or F): F\n",
      "First name: Gita\n",
      "Last name: Sita\n",
      "Age: 21\n",
      "Married?(y/n): y\n",
      "Mrs.  Gita   Sita\n"
     ]
    }
   ],
   "source": [
    "#18\n",
    "gend = input(\"What is your gender (M or F): \")\n",
    "fname = input(\"First name: \")\n",
    "lname = input(\"Last name: \")\n",
    "age = int(input(\"Age: \"))\n",
    "if(age >= 20):\n",
    "    if(gend == 'F'):\n",
    "        marr = input(\"Married?(y/n): \")\n",
    "        if(marr == 'y'):\n",
    "            print(\"Mrs. \",fname, \" \", lname)\n",
    "        else:\n",
    "            print(\"Ms. \",fname, \" \", lname)\n",
    "    else:\n",
    "        print(\"Mr. \",fname, \" \", lname)\n",
    "else:\n",
    "    print(fname, \" \", lname)"
   ]
  },
  {
   "cell_type": "code",
   "execution_count": null,
   "id": "ba5c1b5c",
   "metadata": {},
   "outputs": [],
   "source": []
  }
 ],
 "metadata": {
  "kernelspec": {
   "display_name": "Python 3 (ipykernel)",
   "language": "python",
   "name": "python3"
  },
  "language_info": {
   "codemirror_mode": {
    "name": "ipython",
    "version": 3
   },
   "file_extension": ".py",
   "mimetype": "text/x-python",
   "name": "python",
   "nbconvert_exporter": "python",
   "pygments_lexer": "ipython3",
   "version": "3.11.4"
  }
 },
 "nbformat": 4,
 "nbformat_minor": 5
}
