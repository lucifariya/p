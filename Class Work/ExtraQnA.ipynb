{
 "cells": [
  {
   "cell_type": "code",
   "execution_count": 1,
   "id": "f4fea9ff",
   "metadata": {},
   "outputs": [],
   "source": [
    "#Pascal's triangle \n",
    "#Gcd\n",
    "#Armstrong \n",
    "#Sort\n",
    "#Leap year\n",
    "#Binary search\n",
    "#Number guessing game"
   ]
  },
  {
   "cell_type": "code",
   "execution_count": 4,
   "id": "99600a91",
   "metadata": {},
   "outputs": [
    {
     "name": "stdout",
     "output_type": "stream",
     "text": [
      "      1 \n",
      "     1 1 \n",
      "    1 2 1 \n",
      "   1 3 3 1 \n",
      "  1 4 6 4 1 \n"
     ]
    }
   ],
   "source": [
    "#Pascal's triangle \n",
    "from math import factorial\n",
    "x = 5 #input\n",
    "def pascal(n):\n",
    "    for i in range(n):\n",
    "        for j in range(n-i+1):\n",
    "            print(end=\" \")\n",
    "        for j in range(i+1):\n",
    "            print(factorial(i)//(factorial(j)*(factorial(i-j))), end=' ')\n",
    "        print()\n",
    "pascal(x)"
   ]
  },
  {
   "cell_type": "code",
   "execution_count": 6,
   "id": "bf48f2f6",
   "metadata": {},
   "outputs": [
    {
     "name": "stdout",
     "output_type": "stream",
     "text": [
      "6\n"
     ]
    }
   ],
   "source": [
    "#Gcd\n",
    "def gcd(a, b):\n",
    "    c = 1\n",
    "    while(c != 0):\n",
    "        c = a%b\n",
    "        a = b\n",
    "        b = c\n",
    "    return a\n",
    "x = 48\n",
    "y = 18\n",
    "print(gcd(x,y))"
   ]
  },
  {
   "cell_type": "code",
   "execution_count": 1,
   "id": "1b34af1d",
   "metadata": {},
   "outputs": [
    {
     "name": "stdout",
     "output_type": "stream",
     "text": [
      "6\n"
     ]
    }
   ],
   "source": [
    "def gcd(a, b):\n",
    "    while(b != 0):\n",
    "        a, b = b, a % b\n",
    "    return a\n",
    "x = 48\n",
    "y = 18\n",
    "print(gcd(x,y))"
   ]
  },
  {
   "cell_type": "code",
   "execution_count": 12,
   "id": "5893378f",
   "metadata": {},
   "outputs": [
    {
     "name": "stdout",
     "output_type": "stream",
     "text": [
      "True\n"
     ]
    }
   ],
   "source": [
    "#Armstrong \n",
    "def dhaikillokahath(n):\n",
    "    x = n\n",
    "    c = 0\n",
    "    while(n>0):\n",
    "        n //=10\n",
    "        c += 1\n",
    "    armsum = 0\n",
    "    n = x\n",
    "    while(x>0):\n",
    "        t = x%10\n",
    "        x //= 10\n",
    "        armsum += t**c\n",
    "    return (armsum == n)\n",
    "print(dhaikillokahath(153))"
   ]
  },
  {
   "cell_type": "code",
   "execution_count": 15,
   "id": "35b681bc",
   "metadata": {},
   "outputs": [
    {
     "name": "stdout",
     "output_type": "stream",
     "text": [
      "Original List: [1, 4, 7, 3, 8, 2, 6]\n",
      "Sorted List [1, 2, 3, 4, 6, 7, 8]\n"
     ]
    }
   ],
   "source": [
    "#Sort\n",
    "l1 = [1,4,7,3,8,2,6]\n",
    "print(\"Original List:\", l1)\n",
    " \n",
    "def sort(l1):\n",
    "    for i in range(0, len(l1)):\n",
    "        for j in range(i+1, len(l1)):\n",
    "            if l1[i] >= l1[j]:\n",
    "                l1[i], l1[j] = l1[j],l1[i]\n",
    "    return l1\n",
    "\n",
    "print(\"Sorted List\", sort(l1))"
   ]
  },
  {
   "cell_type": "code",
   "execution_count": 14,
   "id": "332f397d",
   "metadata": {},
   "outputs": [
    {
     "name": "stdout",
     "output_type": "stream",
     "text": [
      "True\n"
     ]
    }
   ],
   "source": [
    "#Leap year\n",
    "x = 2012\n",
    "def isLeap(y):\n",
    "    if (y % 400 == 0) and (y % 100 == 0):\n",
    "        return True\n",
    "    elif (y % 4 ==0) and (y % 100 != 0):\n",
    "        return True\n",
    "    else:\n",
    "        return False\n",
    "print(isLeap(x))"
   ]
  },
  {
   "cell_type": "code",
   "execution_count": 20,
   "id": "743549ba",
   "metadata": {},
   "outputs": [
    {
     "name": "stdout",
     "output_type": "stream",
     "text": [
      "Element is present\n"
     ]
    }
   ],
   "source": [
    "#Binary search\n",
    "def bsearch(l1, l, h, x):\n",
    "    if h >= l:\n",
    "        mid = (h + l) // 2\n",
    "        if l1[mid] == x:\n",
    "            return mid\n",
    "        elif l1[mid] > x:\n",
    "            return bsearch(l1, l, mid - 1, x)\n",
    "        else:\n",
    "            return bsearch(l1, mid + 1, h, x)\n",
    "    else:\n",
    "        return -1\n",
    "\n",
    "l1 = [ 2, 3, 4, 10, 40 ]\n",
    "x = 10\n",
    "\n",
    "result = bsearch(l1, 0, len(l1)-1, x)\n",
    "\n",
    "if result != -1:\n",
    "    print(\"Element is present\")\n",
    "else:\n",
    "    print(\"Element is not present\")\n"
   ]
  },
  {
   "cell_type": "code",
   "execution_count": 31,
   "id": "3e2c1fd5",
   "metadata": {},
   "outputs": [
    {
     "name": "stdout",
     "output_type": "stream",
     "text": [
      "Guess a number between 0-9: 7\n",
      "Computer's choice was  7\n",
      "You guessed correct!\n"
     ]
    }
   ],
   "source": [
    "#Number guessing game\n",
    "import random\n",
    "a = random.randint(0, 9)\n",
    "x = int(input(\"Guess a number between 0-9: \"))\n",
    "print(\"Computer's choice was \", a)\n",
    "if a==x:\n",
    "    print(\"You guessed correct!\")\n",
    "else:\n",
    "    print(\"You guessed wrong :(\")"
   ]
  }
 ],
 "metadata": {
  "kernelspec": {
   "display_name": "Python 3 (ipykernel)",
   "language": "python",
   "name": "python3"
  },
  "language_info": {
   "codemirror_mode": {
    "name": "ipython",
    "version": 3
   },
   "file_extension": ".py",
   "mimetype": "text/x-python",
   "name": "python",
   "nbconvert_exporter": "python",
   "pygments_lexer": "ipython3",
   "version": "3.11.4"
  }
 },
 "nbformat": 4,
 "nbformat_minor": 5
}
