{
 "cells": [
  {
   "cell_type": "code",
   "execution_count": 1,
   "id": "f3e2cb10-78ad-496c-af20-09ecb8177ead",
   "metadata": {},
   "outputs": [],
   "source": [
    "# Mission 1\n",
    "def clear_field(cities):\n",
    "    cleaned_cities = sorted(set(cities))\n",
    "    return cleaned_cities"
   ]
  },
  {
   "cell_type": "code",
   "execution_count": 3,
   "id": "9e40980a-938b-447f-80c7-b55d5035d007",
   "metadata": {},
   "outputs": [],
   "source": [
    "# Mission 2\n",
    "def identify_high_alert(cleaned_cities, previous_intel):\n",
    "    all_cities = cleaned_cities.union(previous_intel)\n",
    "    unique_cities = cleaned_cities.symmetric_difference(previous_intel)\n",
    "    high_alert_cities = cleaned_cities.intersection(previous_intel)\n",
    "    return all_cities, unique_cities, high_alert_cities"
   ]
  },
  {
   "cell_type": "code",
   "execution_count": 5,
   "id": "6020add4-37cf-412d-a794-96cfee6dfc86",
   "metadata": {},
   "outputs": [],
   "source": [
    "# Mission 3\n",
    "def detailed_city_intel(high_alert_cities, city_data):\n",
    "    high_alert_info = {city: details for city, *details in city_data if city in high_alert_cities}\n",
    "    total_population = sum(info[0] for info in high_alert_info.values())\n",
    "    total_aid_requests = sum(info[1] for info in high_alert_info.values())\n",
    "    return high_alert_info, total_population, total_aid_requests"
   ]
  },
  {
   "cell_type": "code",
   "execution_count": 7,
   "id": "0e0a5cbb-fa74-4821-8af0-48f45a9ab09d",
   "metadata": {},
   "outputs": [],
   "source": [
    "# Mission 4: Tracking Supply Distribution\n",
    "def track_supply_distribution(supplies):\n",
    "    supply_dict = {}\n",
    "    for city, supply_type, quantity in supplies:\n",
    "        if city not in supply_dict:\n",
    "            supply_dict[city] = {}\n",
    "        supply_dict[city][supply_type] = quantity\n",
    "    return supply_dict\n"
   ]
  },
  {
   "cell_type": "code",
   "execution_count": 11,
   "id": "a6043feb-5a69-43a0-9c6c-19a2d9295a62",
   "metadata": {},
   "outputs": [
    {
     "name": "stdout",
     "output_type": "stream",
     "text": [
      "Cleaned cities: ['Bahacheve', 'Cherkasy', 'Kharkiv', 'Kyiv', 'Shpola']\n",
      "All cities requiring aid: {'Kharkiv', 'Kyiv', 'Cherkasy', 'Bahacheve', 'Shpola', 'Mariupol', 'Talne'}\n",
      "Unique cities: {'Kharkiv', 'Cherkasy', 'Bahacheve', 'Mariupol', 'Talne'}\n",
      "High-alert cities: {'Kyiv', 'Shpola'}\n",
      "High alert cities info: {'Kyiv': [2800000, 250], 'Shpola': [1029049, 120]}\n",
      "Total population: 3829049\n",
      "Total aid requests: 370\n",
      "Supply distribution: {'Kyiv': {'Food': 500}, 'Moscow': {'Medicines': 200}, 'Bahacheve': {'Water': 300}, 'Saint Petersburg': {'Blankets': 100}, 'Cherkasy': {'Food': 150}}\n"
     ]
    }
   ],
   "source": [
    "# Mission 1\n",
    "cities = [\"Kyiv\", \"Kharkiv\", \"Bahacheve\", \"Kyiv\", \"Shpola\", \"Bahacheve\", \"Cherkasy\"]\n",
    "cleaned_cities = clear_field(cities)\n",
    "print(\"Cleaned cities:\", cleaned_cities)\n",
    "\n",
    "# Mission 2\n",
    "previous_intel = {\"Kyiv\", \"Mariupol\", \"Shpola\", \"Talne\"}\n",
    "all_cities, unique_cities, high_alert_cities = identify_high_alert(set(cleaned_cities), previous_intel)\n",
    "print(\"All cities requiring aid:\", all_cities)\n",
    "print(\"Unique cities:\", unique_cities)\n",
    "print(\"High-alert cities:\", high_alert_cities)\n",
    "\n",
    "# Mission 3\n",
    "city_data = [(\"Kyiv\", 2800000, 250), (\"Kharkiv\", 1431000, 180), (\"Bahacheve\", 721301, 90), (\"Shpola\", 1029049, 120)]\n",
    "high_alert_info, total_population, total_aid_requests = detailed_city_intel(high_alert_cities, city_data)\n",
    "print(\"High alert cities info:\", high_alert_info)\n",
    "print(\"Total population:\", total_population)\n",
    "print(\"Total aid requests:\", total_aid_requests)\n",
    "\n",
    "# Mission 4\n",
    "supplies = [(\"Kyiv\", \"Food\", 500), (\"Moscow\", \"Medicines\", 200), (\"Bahacheve\", \"Water\", 300),\n",
    "            (\"Saint Petersburg\", \"Blankets\", 100), (\"Cherkasy\", \"Food\", 150)]\n",
    "supply_dict = track_supply_distribution(supplies)\n",
    "print(\"Supply distribution:\", supply_dict)"
   ]
  }
 ],
 "metadata": {
  "kernelspec": {
   "display_name": "Python 3 (ipykernel)",
   "language": "python",
   "name": "python3"
  },
  "language_info": {
   "codemirror_mode": {
    "name": "ipython",
    "version": 3
   },
   "file_extension": ".py",
   "mimetype": "text/x-python",
   "name": "python",
   "nbconvert_exporter": "python",
   "pygments_lexer": "ipython3",
   "version": "3.12.4"
  }
 },
 "nbformat": 4,
 "nbformat_minor": 5
}
