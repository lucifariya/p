{
 "cells": [
  {
   "cell_type": "markdown",
   "id": "e5df7222",
   "metadata": {},
   "source": [
    "# Q1"
   ]
  },
  {
   "cell_type": "code",
   "execution_count": null,
   "metadata": {},
   "outputs": [],
   "source": [
    "import random\n",
    "\n",
    "random_integers = [random.randint(1, 100) for _ in range(10)]\n",
    "print(\"Random Integers:\", random_integers)"
   ]
  },
  {
   "cell_type": "code",
   "execution_count": null,
   "metadata": {},
   "outputs": [],
   "source": [
    "sorted_list = sorted(random_integers)\n",
    "second_smallest = sorted_list[1]\n",
    "second_largest = sorted_list[-2]\n",
    "print(\"Second Smallest:\", second_smallest)\n",
    "print(\"Second Largest:\", second_largest)"
   ]
  },
  {
   "cell_type": "code",
   "execution_count": null,
   "metadata": {},
   "outputs": [],
   "source": [
    "even_numbers = [num for num in random_integers if num % 2 == 0]\n",
    "odd_numbers = [num for num in random_integers if num % 2 != 0]\n",
    "print(\"Even Numbers:\", even_numbers)\n",
    "print(\"Odd Numbers:\", odd_numbers)"
   ]
  },
  {
   "cell_type": "code",
   "execution_count": null,
   "id": "c9099bd5",
   "metadata": {},
   "outputs": [],
   "source": [
    "even_numbers.sort(reverse=True)\n",
    "odd_numbers.sort(reverse=True)\n",
    "print(\"Even Numbers (Descending):\", even_numbers)\n",
    "print(\"Odd Numbers (Descending):\", odd_numbers)"
   ]
  },
  {
   "cell_type": "markdown",
   "id": "e23f2a12",
   "metadata": {},
   "source": [
    "# Q2"
   ]
  },
  {
   "cell_type": "code",
   "execution_count": null,
   "id": "c2ba17f6",
   "metadata": {},
   "outputs": [],
   "source": [
    "sentence = input().strip()\n",
    "print(len(sentence.split()))\n"
   ]
  },
  {
   "cell_type": "code",
   "execution_count": null,
   "id": "a57ee8cb",
   "metadata": {},
   "outputs": [],
   "source": [
    "frequency_dict = {}\n",
    "for char in sentence:\n",
    "    frequency_dict[char] = frequency_dict.get(char, 0) + 1\n",
    "print(frequency_dict)\n"
   ]
  },
  {
   "cell_type": "code",
   "execution_count": null,
   "id": "2b53222d",
   "metadata": {},
   "outputs": [],
   "source": [
    "max_freq = max(frequency_dict.values())\n",
    "most_frequent_chars = [char for char, freq in frequency_dict.items() if freq == max_freq]\n",
    "print(most_frequent_chars)\n"
   ]
  }
 ],
 "metadata": {
  "kernelspec": {
   "display_name": "Python 3",
   "language": "python",
   "name": "python3"
  },
  "language_info": {
   "name": "python",
   "version": "3.x"
  }
 },
 "nbformat": 4,
 "nbformat_minor": 5
}
