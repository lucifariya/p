{
 "cells": [
  {
   "cell_type": "code",
   "execution_count": 1,
   "id": "74b32b49",
   "metadata": {},
   "outputs": [
    {
     "name": "stdout",
     "output_type": "stream",
     "text": [
      "Is it raining? yes\n",
      "Carry an umbrella.\n"
     ]
    }
   ],
   "source": [
    "#1. Write a program such that Python will ask you if it is raining or not.\n",
    "#If your answer is ”yes”, Python will say ”Carry an umbrella”. If you type anything else, Python will say ”Bye”.\n",
    "str = input(\"Is it raining? \")\n",
    "if str == \"yes\":\n",
    "    print(\"Carry an umbrella.\")\n",
    "else:\n",
    "    print(\"Bye\")"
   ]
  },
  {
   "cell_type": "code",
   "execution_count": 2,
   "id": "13fd3ce6",
   "metadata": {},
   "outputs": [
    {
     "name": "stdout",
     "output_type": "stream",
     "text": [
      "Is it raining? no\n",
      "No need to carry an umbrella\n"
     ]
    }
   ],
   "source": [
    "#2. add If you say ”no”, Python will say ”No need to carry an umbrella”.\n",
    "str = input(\"Is it raining? \")\n",
    "if str == \"yes\":\n",
    "    print(\"Carry an umbrella.\")\n",
    "elif str == \"no\":\n",
    "    print(\"No need to carry an umbrella.\")\n",
    "else:\n",
    "    print(\"Bye\")"
   ]
  },
  {
   "cell_type": "code",
   "execution_count": 4,
   "id": "110e6f86",
   "metadata": {},
   "outputs": [
    {
     "name": "stdout",
     "output_type": "stream",
     "text": [
      "Marks: 88\n",
      "Grade =  B ,  Good .\n",
      "Enter the length of the first side: 20\n",
      "Enter the length of the second side: 21\n",
      "Enter the length of the third side: 22\n",
      "The triangle is: Scalene triangle\n"
     ]
    }
   ],
   "source": [
    "#3. Write a Python program to calculate a student’s letter grade based on their numeric score using the following\n",
    "#scale: A (90–100), B (80–89), C (70–79), D (60–69), and F (below 60). Additionally, provide a comment for each\n",
    "#grade: ”Excellent” for A, ”Good” for B, ”Average” for C, ”Needs Improvement” for D, and ”Failing” for F.\n",
    "mark = float(input(\"Marks: \")) \n",
    "grade = \"\"\n",
    "com = \"\"\n",
    "if(mark >= 60 and mark < 70):\n",
    "    grade = \"D\"\n",
    "    com=\"Needs Improvement\"\n",
    "elif(mark >= 70 and mark < 80):\n",
    "    grade = \"C\"\n",
    "    com=\"Average\"\n",
    "elif(mark >= 80 and mark < 90):\n",
    "    grade = \"B\"\n",
    "    com=\"Good\"\n",
    "elif(mark >= 90):\n",
    "    grade = \"A\"\n",
    "    com=\"Excellent\"\n",
    "else:\n",
    "    grade = \"F\"\n",
    "    com=\"Failing\"\n",
    "print(\"Grade = \",grade,\", \",com,\".\")\n",
    "\n",
    "#Write a program that reads the lengths of the three sides of a triangle from the user. Then display a\n",
    "#message that states the triangles type.\n",
    "a = float(input(\"Enter the length of the first side: \"))\n",
    "b = float(input(\"Enter the length of the second side: \"))\n",
    "c = float(input(\"Enter the length of the third side: \"))\n",
    "\n",
    "if a + b > c and a + c > b and b + c > a:\n",
    "    if a == b == c:\n",
    "        tri = \"Equilateral triangle\"\n",
    "    elif a == b or b == c or a == c:\n",
    "        tri = \"Isosceles triangle\"\n",
    "    else:\n",
    "        tri = \"Scalene triangle\"\n",
    "else:\n",
    "    tri = \"Not a valid triangle\"\n",
    "print(\"The triangle is:\", tri)\n"
   ]
  },
  {
   "cell_type": "code",
   "execution_count": 5,
   "id": "46c59e38",
   "metadata": {},
   "outputs": [
    {
     "name": "stdout",
     "output_type": "stream",
     "text": [
      "Enter number: 5\n",
      "Odd\n"
     ]
    }
   ],
   "source": [
    "#4. Write a program that takes an integer input from the user and tells the user whether the number is even or odd.\n",
    "num = int(input(\"Enter number: \"))\n",
    "if num%2 == 0:\n",
    "    print(\"Even\")\n",
    "else:\n",
    "    print(\"Odd\")"
   ]
  },
  {
   "cell_type": "code",
   "execution_count": null,
   "id": "b6fb9a3a",
   "metadata": {},
   "outputs": [
    {
     "name": "stdout",
     "output_type": "stream",
     "text": [
      "True\n"
     ]
    }
   ],
   "source": [
    "#5. 5. Write a program that takes a year as input and determines whether it is a leap year or not\n",
    "y = 2012\n",
    "isLeap = True\n",
    "if (y % 400 == 0) and (y % 100 == 0):\n",
    "    isLeap = True\n",
    "elif (y % 4 ==0) and (y % 100 != 0):\n",
    "    isLeap = True\n",
    "else:\n",
    "    isLeap = True\n",
    "print(isLeap)"
   ]
  },
  {
   "cell_type": "code",
   "execution_count": 7,
   "id": "32f01047",
   "metadata": {},
   "outputs": [
    {
     "name": "stdout",
     "output_type": "stream",
     "text": [
      "Enter an integer: 57\n",
      "57 is not a prime number.\n"
     ]
    }
   ],
   "source": [
    "#6. Write a program that takes an integer input from the user and prints whether it is prime or not.\n",
    "# Read an integer input from the user\n",
    "number = int(input(\"Enter an integer: \"))\n",
    "is_prime = True\n",
    "if number < 2:\n",
    "    is_prime = False\n",
    "else:\n",
    "    for i in range(2, int(number**0.5) + 1):\n",
    "        if number % i == 0:\n",
    "            is_prime = False\n",
    "            break\n",
    "if is_prime:\n",
    "    print(number, \"is a prime number.\")\n",
    "else:\n",
    "    print(number, \"is not a prime number.\")"
   ]
  },
  {
   "cell_type": "code",
   "execution_count": 9,
   "id": "89102bd7",
   "metadata": {},
   "outputs": [
    {
     "name": "stdout",
     "output_type": "stream",
     "text": [
      "Enter an integer: 20\n",
      "The sum of all prime numbers below 20 is 77\n"
     ]
    }
   ],
   "source": [
    "#7. In line with the previous question, write a program to compute the sum of all prime numbers below a user input number, e.g., Sum of all prime numbers less than 20 is 77\n",
    "limit = int(input(\"Enter an integer: \"))\n",
    "sum = 0\n",
    "\n",
    "for num in range(2, limit):\n",
    "    isprime = True\n",
    "    for i in range(2, int(num**0.5) + 1):\n",
    "        if num % i == 0:\n",
    "            isprime = False\n",
    "            break\n",
    "    if isprime:\n",
    "        sumM += num\n",
    "\n",
    "print(\"The sum of all prime numbers below\", limit, \"is\", sumM)\n"
   ]
  },
  {
   "cell_type": "code",
   "execution_count": 10,
   "id": "2c7648ff",
   "metadata": {},
   "outputs": [
    {
     "name": "stdout",
     "output_type": "stream",
     "text": [
      "Enter a positive integer: -1\n",
      "Enter a positive integer: -2\n",
      "Enter a positive integer: 5\n",
      "The result is: 25\n"
     ]
    }
   ],
   "source": [
    "#8. Write a program that takes an integer input from the user. Use a while loop to continuously prompt for input until the user enters a positive number. If the final number is even, multiply it by 2 and if it is odd, square it. Display the results at the end.\n",
    "# Initialize the number variable\n",
    "number = -1\n",
    "while number <= 0:\n",
    "    number = int(input(\"Enter a positive integer: \"))\n",
    "\n",
    "if number % 2 == 0:\n",
    "    result = number * 2\n",
    "else:\n",
    "    result = number ** 2 \n",
    "\n",
    "print(\"The result is:\", result)\n"
   ]
  },
  {
   "cell_type": "code",
   "execution_count": 12,
   "id": "3cc61efc",
   "metadata": {},
   "outputs": [
    {
     "name": "stdout",
     "output_type": "stream",
     "text": [
      "Enter a number: 7\n",
      "The remainder is 2.\n"
     ]
    }
   ],
   "source": [
    "#9. Write a program to find the remainder when a user input number is divided by 5 using match case. If the user inputs a non-integer, Python should say ”Invalid input” and stop.\n",
    "iinput = input(\"Enter a number: \")\n",
    "number = int(iinput)\n",
    "match number % 5:\n",
    "    case 0:\n",
    "        result = \"The remainder is 0.\"\n",
    "    case 1:\n",
    "        result = \"The remainder is 1.\"\n",
    "    case 2:\n",
    "        result = \"The remainder is 2.\"\n",
    "    case 3:\n",
    "        result = \"The remainder is 3.\"\n",
    "    case 4:\n",
    "        result = \"The remainder is 4.\"\n",
    "print(result)\n"
   ]
  },
  {
   "cell_type": "code",
   "execution_count": 15,
   "id": "6e169b91",
   "metadata": {},
   "outputs": [
    {
     "name": "stdout",
     "output_type": "stream",
     "text": [
      "Enter a string: abc\n",
      "a ab abc b bc c "
     ]
    }
   ],
   "source": [
    "#10. Write a program that takes a string as input and prints out all possible sub strings of the string using loops, e.g., if the input is ”abc”, the output should be ”a”, ”ab”, ”abc”, ”b”, ”bc”, ”c”.\n",
    "sstr = input(\"Enter a string: \")\n",
    "substr = []\n",
    "\n",
    "for i in range(len(sstr)):\n",
    "    for j in range(i + 1, len(sstr) + 1):\n",
    "        substr.append(sstr[i:j])\n",
    "\n",
    "for substr in substr:\n",
    "    print(substr, end=\" \")\n"
   ]
  },
  {
   "cell_type": "code",
   "execution_count": 17,
   "id": "43afb891",
   "metadata": {
    "scrolled": true
   },
   "outputs": [
    {
     "name": "stdout",
     "output_type": "stream",
     "text": [
      "Enter two numbers and an op (+, -, *, /) or 'exit' to quit: 2 3 +\n",
      "Result: 5.0\n",
      "Enter two numbers and an op (+, -, *, /) or 'exit' to quit: exit\n",
      "Exiting the calculator.\n"
     ]
    }
   ],
   "source": [
    "#11. Write a program that functions as a simple calculator. It should continuously accept a pair of numbers and an op (+, -, *, /) from the user and print the result. If the user types ”exit”, the program quits. Otherwise the program continues asking for a pair of input numbers.\n",
    "while True:\n",
    "    strr = input(\"Enter two numbers and an op (+, -, *, /) or 'exit' to quit: \")\n",
    "\n",
    "    if strr.lower() == \"exit\":\n",
    "        print(\"Exiting the calculator.\")\n",
    "        break\n",
    "    parts = strr.split()\n",
    "    num1 = float(parts[0])\n",
    "    num2 = float(parts[1])\n",
    "    op = parts[2]\n",
    "\n",
    "    if op == '+':\n",
    "        result = num1 + num2\n",
    "    elif op == '-':\n",
    "        result = num1 - num2\n",
    "    elif op == '*':\n",
    "        result = num1 * num2\n",
    "    elif op == '/':\n",
    "        if num2 != 0:\n",
    "            result = num1 / num2\n",
    "        else:\n",
    "            result = \"Error: Division by zero\"\n",
    "    else:\n",
    "        result = \"Error: Invalid operator\"\n",
    "\n",
    "    print(\"Result:\", result)\n"
   ]
  },
  {
   "cell_type": "code",
   "execution_count": 3,
   "id": "76d5a178",
   "metadata": {},
   "outputs": [
    {
     "name": "stdout",
     "output_type": "stream",
     "text": [
      "Mode: 2 Count: 5\n",
      "Mean: 3.2666666666666666\n",
      "Median: 3\n"
     ]
    }
   ],
   "source": [
    "#12. Write a program to find out the mean, median, and mode of 1, 2, 3, 2, 3, 4, 4, 4, 5, 4, 5, 6.\n",
    "nums = [1, 2, 3, 2, 2, 2, 2, 3, 4, 4, 4, 5, 4, 5, 6]\n",
    "\n",
    "#mean\n",
    "summ = 0\n",
    "for num in nums:\n",
    "    summ += num\n",
    "mean = summ / len(nums)\n",
    "\n",
    "#median\n",
    "sorted_nums = sorted(nums)\n",
    "n = len(sorted_nums)\n",
    "if n % 2 == 0:\n",
    "    med = (sorted_nums[n // 2 - 1] + sorted_nums[n // 2]) / 2\n",
    "else:\n",
    "    med = sorted_nums[n // 2]\n",
    "\n",
    "#mode\n",
    "maxcount = 0\n",
    "mode = None\n",
    "\n",
    "for num in nums:\n",
    "    x = nums.count(num)\n",
    "    if x > maxcount:\n",
    "        maxcount = x\n",
    "        mode = num\n",
    "\n",
    "print(\"Mode:\", mode, \"Count:\", maxcount)\n",
    "\n",
    "print(\"Mean:\", mean)\n",
    "print(\"Median:\", med)\n",
    "#print(\"Mode:\", mode)\n"
   ]
  },
  {
   "cell_type": "code",
   "execution_count": 19,
   "id": "87344c6f",
   "metadata": {},
   "outputs": [
    {
     "name": "stdout",
     "output_type": "stream",
     "text": [
      "Enter a position: a1\n",
      "The square at position a1 is black.\n"
     ]
    }
   ],
   "source": [
    "#13. Positions on a chess board are identified by a letter and a number. The letter identifies the column,\n",
    "#while the number identifies the row, as shown below:\n",
    "#Write a program that reads a position from the user and identify the proper color of the respective box.\n",
    "\n",
    "position = input(\"Enter a position: \")\n",
    "\n",
    "column = position[0].lower() \n",
    "row = int(position[1])\n",
    "\n",
    "column_number = ord(column) - ord('a') + 1\n",
    "\n",
    "if (column_number + row) % 2 == 0:\n",
    "    color = \"black\"\n",
    "else:\n",
    "    color = \"white\"\n",
    "\n",
    "if len(position) == 2 and position[0] in 'abcdefgh' and position[1].isdigit() and 1 <= row <= 8:\n",
    "    print(f\"The square at position {position} is {color}.\")\n",
    "else:\n",
    "    print(\"Invalid position. Please enter a valid chess position.\")\n"
   ]
  },
  {
   "cell_type": "code",
   "execution_count": null,
   "id": "b8d1fa9c",
   "metadata": {},
   "outputs": [
    {
     "name": "stdout",
     "output_type": "stream",
     "text": [
      "Enter room type (Standard/Deluxe/Suite): SUITE\n",
      "Enter number of nights: 10\n",
      "Enter season (Peak/Off/Regular): REGULAR\n",
      "Are you a loyalty member? (yes/no): YES\n",
      "The final booking cost is: $1900.00\n"
     ]
    }
   ],
   "source": [
    "#14. Write a Python program that calculates the final cost of a hotel booking based on the room type\n",
    "#(Standard: $100/night, Deluxe: $150/night, Suite: $250/night), the length of stay (10% discount for\n",
    "#>3 nights, 20% discount for >7 nights), the season (20% increase during peak season, 15% decrease\n",
    "#during the off-season), and whether the customer is a loyalty member (5% additional discount). The\n",
    "#program should output the final booking cost after applying all relevant discounts and adjustments.\n",
    "\n",
    "standard = 100\n",
    "deluxe = 150\n",
    "suite = 250\n",
    "\n",
    "room = input(\"Enter room type (Standard/Deluxe/Suite): \").strip().lower()\n",
    "nights = int(input(\"Enter number of nights: \"))\n",
    "season = input(\"Enter season (Peak/Off/Regular): \").strip().lower()\n",
    "isLoyalty = input(\"Are you a loyalty member? (yes/no): \").strip().lower()\n",
    "\n",
    "if room == 'standard':\n",
    "    base = standard\n",
    "elif room == 'deluxe':\n",
    "    base = deluxe\n",
    "elif room == 'suite':\n",
    "    base = suite\n",
    "else:\n",
    "    print(\"Invalid room type.\")\n",
    "    base = 0\n",
    "\n",
    "total = base * nights\n",
    "\n",
    "#discounting:\n",
    "if nights > 7:\n",
    "    total *= 0.80 \n",
    "elif nights > 3:\n",
    "    total *= 0.90 \n",
    "\n",
    "if season == 'peak':\n",
    "    total *= 1.20 \n",
    "elif season == 'off':\n",
    "    total *= 0.85\n",
    "\n",
    "if isLoyalty == 'yes':\n",
    "    total *= 0.95 \n",
    "print(f\"The final booking cost is: ${total:.2f}\")\n"
   ]
  },
  {
   "cell_type": "code",
   "execution_count": 26,
   "id": "dc323860",
   "metadata": {},
   "outputs": [
    {
     "name": "stdout",
     "output_type": "stream",
     "text": [
      "Enter a natural number: 6\n",
      "6 is a perfect number.\n"
     ]
    }
   ],
   "source": [
    "#15. Write a program to determine whether a given natural number is a perfect number. A natural number\n",
    "#is said to be a perfect number if it is the sum of its divisors. For Example, 6 is a perfect number\n",
    "#because 6 = 1+2+3, but 15 is not a perfect number because 15!= 1+3+5.\n",
    "# Input: a natural number\n",
    "num = int(input(\"Enter a natural number: \"))\n",
    "ssum = 0\n",
    "\n",
    "for i in range(1, num):\n",
    "    if num % i == 0:\n",
    "        ssum += i\n",
    "        \n",
    "if ssum == num:\n",
    "    print(f\"{num} is a perfect number.\")\n",
    "else:\n",
    "    print(f\"{num} is not a perfect number.\")\n"
   ]
  },
  {
   "cell_type": "code",
   "execution_count": 29,
   "id": "b84e15cc",
   "metadata": {},
   "outputs": [
    {
     "name": "stdout",
     "output_type": "stream",
     "text": [
      "Enter Limit: 6\n",
      "Enter x: 3\n",
      "Sum of first series =  -0.125\n"
     ]
    }
   ],
   "source": [
    "#16. Write a program that finds the sum of the n terms of the following series:\n",
    "\n",
    "n = int(input(\"Enter Limit: \"))\n",
    "x = int(input(\"Enter x: \"))\n",
    "#a:\n",
    "a = (1 - ((x*x)/2))\n",
    "var = 4\n",
    "count = 1\n",
    "while var < n:\n",
    "    fact = 1\n",
    "    for i in range (2, var+1):\n",
    "        fact *= i\n",
    "    if count%2 != 0:\n",
    "        a += ((x**var)/fact)\n",
    "    else:\n",
    "        a -= ((x**var)/fact)\n",
    "    count += 1\n",
    "    var += 2\n",
    "print(\"Sum of first series = \", a)"
   ]
  },
  {
   "cell_type": "code",
   "execution_count": 27,
   "id": "2a229702",
   "metadata": {},
   "outputs": [
    {
     "name": "stdout",
     "output_type": "stream",
     "text": [
      "100 102 105 108 110 114 115 120 125 126 \n",
      "130 132 135 138 140 144 145 150 155 156 \n",
      "160 162 165 168 170 174 175 180 185 186 \n",
      "190 192 195 198 200 204 205 210 215 216 \n",
      "220 222 225 228 230 234 235 240 245 246 \n",
      "250 252 255 258 260 264 265 270 275 276 \n",
      "280 282 285 288 290 294 295 300 305 306 \n",
      "310 312 315 318 320 324 325 330 335 336 \n",
      "340 342 345 348 350 354 355 360 365 366 \n",
      "370 372 375 378 380 384 385 390 395 396 \n",
      "400 402 405 408 410 414 415 420 425 426 \n",
      "430 432 435 438 440 444 445 450 455 456 \n",
      "460 462 465 468 470 474 475 480 485 486 \n",
      "490 492 495 498 500 504 505 510 515 516 \n",
      "520 522 525 528 530 534 535 540 545 546 \n",
      "550 552 555 558 560 564 565 570 575 576 \n",
      "580 582 585 588 590 594 595 600 605 606 \n",
      "610 612 615 618 620 624 625 630 635 636 \n",
      "640 642 645 648 650 654 655 660 665 666 \n",
      "670 672 675 678 680 684 685 690 695 696 \n",
      "700 702 705 708 710 714 715 720 725 726 \n",
      "730 732 735 738 740 744 745 750 755 756 \n",
      "760 762 765 768 770 774 775 780 785 786 \n",
      "790 792 795 798 800 804 805 810 815 816 \n",
      "820 822 825 828 830 834 835 840 845 846 \n",
      "850 852 855 858 860 864 865 870 875 876 \n",
      "880 882 885 888 890 894 895 900 905 906 \n",
      "910 912 915 918 920 924 925 930 935 936 \n",
      "940 942 945 948 950 954 955 960 965 966 \n",
      "970 972 975 978 980 984 985 990 995 996 \n",
      "1000 "
     ]
    }
   ],
   "source": [
    "#17. Write a python program that displays all the numbers from 100 to 1,000, ten per line, that are divisible by 5 or 6. Numbers are separated by exactly one space.\n",
    "\n",
    "count = 0\n",
    "for number in range(100, 1001):\n",
    "    if number % 5 == 0 or number % 6 == 0:\n",
    "        print(number, end=' ')\n",
    "        count += 1\n",
    "        if count % 10 == 0:\n",
    "            print()"
   ]
  },
  {
   "cell_type": "code",
   "execution_count": 28,
   "id": "615f3789",
   "metadata": {},
   "outputs": [
    {
     "name": "stdout",
     "output_type": "stream",
     "text": [
      "1 2 3 4 5 6 8 9 10 11 12 13 15 16 17 18 19 20 22 23 24 25 26 27 29 30 31 32 33 34 36 37 38 39 40 41 43 44 45 46 47 48 50 51 52 53 54 55 57 58 59 60 61 62 64 65 66 67 68 69 71 72 73 74 75 76 78 79 80 81 82 83 85 86 87 88 89 90 92 93 94 95 96 97 99 100 "
     ]
    }
   ],
   "source": [
    "#18. Write a Python program that prints all numbers from 1 to 100, except multiples of 7, using a for loop with continue.\n",
    "\n",
    "for i in range(1, 101):\n",
    "    if i % 7 == 0:\n",
    "        continue\n",
    "    print(i, end=\" \")"
   ]
  },
  {
   "cell_type": "code",
   "execution_count": null,
   "id": "bf0f226d",
   "metadata": {},
   "outputs": [],
   "source": []
  }
 ],
 "metadata": {
  "kernelspec": {
   "display_name": "Python 3 (ipykernel)",
   "language": "python",
   "name": "python3"
  },
  "language_info": {
   "codemirror_mode": {
    "name": "ipython",
    "version": 3
   },
   "file_extension": ".py",
   "mimetype": "text/x-python",
   "name": "python",
   "nbconvert_exporter": "python",
   "pygments_lexer": "ipython3",
   "version": "3.11.4"
  }
 },
 "nbformat": 4,
 "nbformat_minor": 5
}
